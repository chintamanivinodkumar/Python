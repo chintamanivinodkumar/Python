{
 "cells": [
  {
   "cell_type": "markdown",
   "id": "74c4e342",
   "metadata": {},
   "source": [
    "Python Scope\n",
    "--\n",
    "A variable is only available from inside the region it is created. This is called scope."
   ]
  },
  {
   "cell_type": "markdown",
   "id": "231342cc",
   "metadata": {},
   "source": [
    "Local Scope\n",
    "--\n",
    "A variable created inside a function belongs to the local scope of that function, and can only be used inside that function."
   ]
  },
  {
   "cell_type": "code",
   "execution_count": 1,
   "id": "44917cbd",
   "metadata": {},
   "outputs": [
    {
     "name": "stdout",
     "output_type": "stream",
     "text": [
      "300\n"
     ]
    }
   ],
   "source": [
    "# A variable created inside a function is available inside that function:\n",
    "\n",
    "def myfunc():\n",
    "    x = 300\n",
    "    print(x)\n",
    "\n",
    "myfunc()"
   ]
  },
  {
   "cell_type": "markdown",
   "id": "fb0278f0",
   "metadata": {},
   "source": [
    "Function Inside Function\n",
    "--\n",
    "As explained in the example above, the variable x is not available outside the function, but it is available for any function inside the function:"
   ]
  },
  {
   "cell_type": "code",
   "execution_count": 3,
   "id": "82332b82",
   "metadata": {},
   "outputs": [
    {
     "name": "stdout",
     "output_type": "stream",
     "text": [
      "300\n"
     ]
    }
   ],
   "source": [
    "def myfunc():\n",
    "    x = 300\n",
    "    \n",
    "    def myinnerfunc():\n",
    "        print(x)\n",
    "    myinnerfunc()\n",
    "    \n",
    "myfunc()"
   ]
  },
  {
   "cell_type": "markdown",
   "id": "59912856",
   "metadata": {},
   "source": [
    "Global Scope\n",
    "--\n",
    "A variable created in the main body of the Python code is a global variable and belongs to the global scope.\n",
    "\n",
    "Global variables are available from within any scope, global and local."
   ]
  },
  {
   "cell_type": "code",
   "execution_count": 6,
   "id": "6a58d24d",
   "metadata": {},
   "outputs": [
    {
     "name": "stdout",
     "output_type": "stream",
     "text": [
      "300\n",
      "hello\n",
      "300\n"
     ]
    }
   ],
   "source": [
    "x = 300\n",
    "\n",
    "def myfunc():\n",
    "    print(x)\n",
    "    \n",
    "myfunc()    # 1st prints inside function value\n",
    "print('hello')\n",
    "print(x)"
   ]
  },
  {
   "cell_type": "markdown",
   "id": "7e2cde22",
   "metadata": {},
   "source": [
    "Naming Variables\n",
    "--\n",
    "If you operate with the same variable name inside and outside of a function, Python will treat them as two separate variables, one available in the global scope (outside the function) and one available in the local scope (inside the function):"
   ]
  },
  {
   "cell_type": "code",
   "execution_count": 7,
   "id": "accfd68e",
   "metadata": {},
   "outputs": [
    {
     "name": "stdout",
     "output_type": "stream",
     "text": [
      "200\n",
      "hello\n",
      "300\n"
     ]
    }
   ],
   "source": [
    "# The function will print the local x, and then the code will print the global x:\n",
    "\n",
    "x = 300\n",
    "\n",
    "def myfunc():\n",
    "    x = 200\n",
    "    print(x)    # 1st prints local value\n",
    "    print('hello')\n",
    "\n",
    "myfunc()\n",
    "print(x)"
   ]
  },
  {
   "cell_type": "markdown",
   "id": "f7feeb8e",
   "metadata": {},
   "source": [
    "Global Keyword\n",
    "--\n",
    "If you need to create a global variable, but are stuck in the local scope, you can use the global keyword.\n",
    "\n",
    "The global keyword makes the variable global."
   ]
  },
  {
   "cell_type": "code",
   "execution_count": 10,
   "id": "18d82f79",
   "metadata": {},
   "outputs": [
    {
     "name": "stdout",
     "output_type": "stream",
     "text": [
      "300\n"
     ]
    }
   ],
   "source": [
    "def myfunc():\n",
    "    x = 300\n",
    "    \n",
    "myfunc()\n",
    "print(x)"
   ]
  },
  {
   "cell_type": "code",
   "execution_count": 9,
   "id": "0b345568",
   "metadata": {},
   "outputs": [
    {
     "name": "stdout",
     "output_type": "stream",
     "text": [
      "300\n"
     ]
    }
   ],
   "source": [
    "# If you use the global keyword, the variable belongs to the global scope:\n",
    "\n",
    "def myfunc():\n",
    "    global x\n",
    "    x = 300\n",
    "\n",
    "myfunc()\n",
    "print(x)"
   ]
  },
  {
   "cell_type": "markdown",
   "id": "5607aeb0",
   "metadata": {},
   "source": [
    "**To change the value of a global variable inside a function, refer to the variable by using the global keyword:**"
   ]
  },
  {
   "cell_type": "code",
   "execution_count": 11,
   "id": "56c734f7",
   "metadata": {},
   "outputs": [
    {
     "name": "stdout",
     "output_type": "stream",
     "text": [
      "300\n"
     ]
    }
   ],
   "source": [
    "x = 300 #global variable\n",
    "\n",
    "def myfunc():\n",
    "    x = 200\n",
    "    \n",
    "myfunc()\n",
    "print(x)  # this print statement is outside of the function so it prints 300"
   ]
  },
  {
   "cell_type": "code",
   "execution_count": 12,
   "id": "2073939b",
   "metadata": {},
   "outputs": [
    {
     "name": "stdout",
     "output_type": "stream",
     "text": [
      "200\n"
     ]
    }
   ],
   "source": [
    "x = 300 # global variable\n",
    "\n",
    "def myfunc():\n",
    "    global x\n",
    "    x = 200\n",
    "    \n",
    "myfunc()\n",
    "print(x)    # global variale value changed to 200 inside the function"
   ]
  },
  {
   "cell_type": "code",
   "execution_count": 13,
   "id": "c4b36603",
   "metadata": {
    "scrolled": true
   },
   "outputs": [
    {
     "ename": "SyntaxError",
     "evalue": "invalid syntax (3032196945.py, line 4)",
     "output_type": "error",
     "traceback": [
      "\u001b[1;36m  Input \u001b[1;32mIn [13]\u001b[1;36m\u001b[0m\n\u001b[1;33m    global x = 200\u001b[0m\n\u001b[1;37m             ^\u001b[0m\n\u001b[1;31mSyntaxError\u001b[0m\u001b[1;31m:\u001b[0m invalid syntax\n"
     ]
    }
   ],
   "source": [
    "x = 300 \n",
    "\n",
    "def myfunc():\n",
    "    global x = 200 # we didn't initialize global variable like this.\n",
    "    \n",
    "myfunc()\n",
    "print(x)   "
   ]
  },
  {
   "cell_type": "code",
   "execution_count": null,
   "id": "59d0f67e",
   "metadata": {},
   "outputs": [],
   "source": []
  }
 ],
 "metadata": {
  "kernelspec": {
   "display_name": "Python 3 (ipykernel)",
   "language": "python",
   "name": "python3"
  },
  "language_info": {
   "codemirror_mode": {
    "name": "ipython",
    "version": 3
   },
   "file_extension": ".py",
   "mimetype": "text/x-python",
   "name": "python",
   "nbconvert_exporter": "python",
   "pygments_lexer": "ipython3",
   "version": "3.9.12"
  }
 },
 "nbformat": 4,
 "nbformat_minor": 5
}
