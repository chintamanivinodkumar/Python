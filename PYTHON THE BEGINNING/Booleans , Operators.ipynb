{
 "cells": [
  {
   "cell_type": "markdown",
   "id": "54a5d35b",
   "metadata": {},
   "source": [
    "Most Values are True\n",
    "--\n",
    "Almost any value is evaluated to True if it has some sort of content.\n",
    "\n",
    "Any string is True, except empty strings.\n",
    "\n",
    "Any number is True, except 0.\n",
    "\n",
    "Any list, tuple, set, and dictionary are True, except empty ones."
   ]
  },
  {
   "cell_type": "code",
   "execution_count": 1,
   "id": "3e8f3dc3",
   "metadata": {},
   "outputs": [
    {
     "data": {
      "text/plain": [
       "True"
      ]
     },
     "execution_count": 1,
     "metadata": {},
     "output_type": "execute_result"
    }
   ],
   "source": [
    "bool(\"abc\")\n",
    "bool(123)\n",
    "bool([\"apple\", \"cherry\", \"banana\"])"
   ]
  },
  {
   "cell_type": "markdown",
   "id": "354f1698",
   "metadata": {},
   "source": [
    "Some Values are False\n",
    "--\n",
    "In fact, there are not many values that evaluate to False, except empty values, such as (), [], {}, \"\", the number 0, and the value None. And of course the value False evaluates to False."
   ]
  },
  {
   "cell_type": "code",
   "execution_count": 2,
   "id": "0e538864",
   "metadata": {},
   "outputs": [
    {
     "data": {
      "text/plain": [
       "False"
      ]
     },
     "execution_count": 2,
     "metadata": {},
     "output_type": "execute_result"
    }
   ],
   "source": [
    "bool(False)\n",
    "bool(None)\n",
    "bool(0)\n",
    "bool(\"\")\n",
    "bool(())\n",
    "bool([])\n",
    "bool({})"
   ]
  },
  {
   "cell_type": "markdown",
   "id": "b3fdeeee",
   "metadata": {},
   "source": [
    "Python also has many built-in functions that return a boolean value, like the isinstance() function, which can be used to determine if an object is of a certain data type:\n",
    "--"
   ]
  },
  {
   "cell_type": "code",
   "execution_count": 6,
   "id": "58bf2efc",
   "metadata": {},
   "outputs": [
    {
     "name": "stdout",
     "output_type": "stream",
     "text": [
      "True\n"
     ]
    }
   ],
   "source": [
    "x = 200\n",
    "print(isinstance(x, int))"
   ]
  },
  {
   "cell_type": "code",
   "execution_count": 5,
   "id": "7895fb00",
   "metadata": {},
   "outputs": [
    {
     "name": "stdout",
     "output_type": "stream",
     "text": [
      "False\n"
     ]
    }
   ],
   "source": [
    "x = 200.5\n",
    "print(isinstance(x, int))"
   ]
  },
  {
   "cell_type": "markdown",
   "id": "d5fdb819",
   "metadata": {},
   "source": [
    "Operators     (AACLIMB)#initials to remember\n",
    " --\n",
    "Python divides the operators in the following groups:\n",
    "--\n",
    "Arithmetic operators\n",
    "\n",
    "Assignment operators\n",
    "\n",
    "Comparison operators\n",
    "\n",
    "Logical operators\n",
    "\n",
    "Identity operators\n",
    "\n",
    "Membership operators\n",
    "\n",
    "Bitwise operators\n"
   ]
  },
  {
   "cell_type": "markdown",
   "id": "3a4aee7c",
   "metadata": {},
   "source": [
    "Python Arithmetic Operators\n",
    "--\n",
    "Arithmetic operators are used with numeric values to perform common mathematical operations:"
   ]
  },
  {
   "cell_type": "markdown",
   "id": "fd928855",
   "metadata": {},
   "source": [
    "+\tAddition\tx + y\t\n",
    "-\tSubtraction\tx - y\t\n",
    "*\tMultiplication\tx * y\t\n",
    "+\tDivision\tx / y\t\n",
    "+\tModulus\tx % y\t\n",
    "*   Exponentiation\tx ** y\t\n",
    "*\tFloor division\tx // y"
   ]
  },
  {
   "cell_type": "code",
   "execution_count": 9,
   "id": "8f0b8d02",
   "metadata": {},
   "outputs": [
    {
     "name": "stdout",
     "output_type": "stream",
     "text": [
      "15\n",
      "5\n",
      "50\n",
      "2.0\n",
      "0\n",
      "100000\n",
      "2\n"
     ]
    }
   ],
   "source": [
    "x = 10\n",
    "y = 5\n",
    "print(x + y)\n",
    "print(x - y)\n",
    "print(x * y)\n",
    "print(x / y)\n",
    "print(x % y)\n",
    "print(x ** y)\n",
    "print(x // y)"
   ]
  },
  {
   "cell_type": "markdown",
   "id": "1208275f",
   "metadata": {},
   "source": [
    "Python Assignment Operators\n",
    "--\n",
    "Assignment operators are used to assign values to variables:"
   ]
  },
  {
   "cell_type": "raw",
   "id": "29eae03a",
   "metadata": {},
   "source": [
    "operator  Example  same as \n",
    "\n",
    "=\t      x = 5\t    x = 5\t\n",
    "+=\t      x += 3\tx = x + 3\t\n",
    "-=\t      x -= 3\tx = x - 3\t\n",
    "*=\t      x *= 3\tx = x * 3\t\n",
    "/=\t      x /= 3\tx = x / 3\t\n",
    "%=\t      x %= 3\tx = x % 3\t\n",
    "//=    \t  x //= 3\tx = x // 3\t\n",
    "**=\t      x **= 3\tx = x ** 3\t\n",
    "&=\t      x &= 3\tx = x & 3\t\n",
    "|=\t      x |= 3\tx = x | 3\t\n",
    "^=\t      x ^= 3\tx = x ^ 3\t\n",
    ">>=\t      x >>= 3\tx = x >> 3\t\n",
    "<<=\t      x <<= 3\tx = x << 3"
   ]
  },
  {
   "cell_type": "code",
   "execution_count": 13,
   "id": "e8b1ec21",
   "metadata": {},
   "outputs": [
    {
     "name": "stdout",
     "output_type": "stream",
     "text": [
      "1\n",
      "7\n",
      "6\n",
      "0\n",
      "40\n"
     ]
    }
   ],
   "source": [
    "x = 5\n",
    "print(x & 3)\n",
    "print(x | 3)\n",
    "print(x ^ 3)\n",
    "print(x >> 3)\n",
    "print(x << 3)"
   ]
  },
  {
   "cell_type": "markdown",
   "id": "5d744420",
   "metadata": {},
   "source": [
    "Python Comparison Operators\n",
    "--\n",
    "Comparison operators are used to compare two values:"
   ]
  },
  {
   "cell_type": "raw",
   "id": "7d39efa7",
   "metadata": {},
   "source": [
    "Operator\tName\t                     Example\t\n",
    "\n",
    "==\t        Equal\t                     x == y\t\n",
    "!=\t        Not equal\t                 x != y\t\n",
    ">\t        Greater than\t             x > y\t\n",
    "<\t        Less than\t                 x < y\t\n",
    ">=\t        Greater than or equal to\t x >= y\t\n",
    "<=\t        Less than or equal to        x <= y"
   ]
  },
  {
   "cell_type": "markdown",
   "id": "fee448d1",
   "metadata": {},
   "source": [
    "Python Logical Operators\n",
    "--\n",
    "Logical operators are used to combine conditional statements:"
   ]
  },
  {
   "cell_type": "code",
   "execution_count": 14,
   "id": "91d302cc",
   "metadata": {},
   "outputs": [
    {
     "name": "stdout",
     "output_type": "stream",
     "text": [
      "True\n"
     ]
    }
   ],
   "source": [
    "# and - Returns True if both statements are true\n",
    "x = 2\n",
    "print(x < 5 and  x < 10)"
   ]
  },
  {
   "cell_type": "code",
   "execution_count": 17,
   "id": "59b4e20a",
   "metadata": {},
   "outputs": [
    {
     "name": "stdout",
     "output_type": "stream",
     "text": [
      "True\n"
     ]
    }
   ],
   "source": [
    "#or - Returns True if one of the statements is true\n",
    "x = 4\n",
    "print(x < 5 or x < 4)"
   ]
  },
  {
   "cell_type": "code",
   "execution_count": 21,
   "id": "32b8276d",
   "metadata": {},
   "outputs": [
    {
     "name": "stdout",
     "output_type": "stream",
     "text": [
      "True\n",
      "False\n"
     ]
    }
   ],
   "source": [
    "#not - Reverse the result, returx = ns False if the result is true\n",
    "x = 2\n",
    "print (x <5 and x <4)\n",
    "print (not(x <5 and x <4))"
   ]
  },
  {
   "cell_type": "markdown",
   "id": "97084690",
   "metadata": {},
   "source": [
    "Python Identity Operators\n",
    "--\n",
    "Identity operators are used to compare the objects, not if they are equal, but if they are actually the same object, with the same memory location:"
   ]
  },
  {
   "cell_type": "markdown",
   "id": "5c811040",
   "metadata": {},
   "source": [
    "Identity operators : is , is not\n",
    "--\n",
    "\n",
    "is - Returns True if both variables are the same object.\n",
    "\n",
    "is not - Returns True if both variables are not the same object"
   ]
  },
  {
   "cell_type": "code",
   "execution_count": 22,
   "id": "9a6e63e9",
   "metadata": {},
   "outputs": [
    {
     "name": "stdout",
     "output_type": "stream",
     "text": [
      "True\n",
      "False\n"
     ]
    }
   ],
   "source": [
    "x = [\"apple\", \"banana\"]\n",
    "y = [\"apple\", \"banana\"]\n",
    "z = x\n",
    "\n",
    "print(x is z)\n",
    "\n",
    "# returns True because z is the same object as x\n",
    "\n",
    "print(x is y)\n",
    "\n",
    "# returns False because x is not the same object as y, even if they have the same content"
   ]
  },
  {
   "cell_type": "code",
   "execution_count": 23,
   "id": "cbce5cea",
   "metadata": {},
   "outputs": [
    {
     "name": "stdout",
     "output_type": "stream",
     "text": [
      "False\n",
      "True\n"
     ]
    }
   ],
   "source": [
    "x = [\"apple\", \"banana\"]\n",
    "y = [\"apple\", \"banana\"]\n",
    "z = x\n",
    "\n",
    "print(x is not z)\n",
    "\n",
    "# returns False because z is the same object as x\n",
    "\n",
    "print(x is not y)\n",
    "\n",
    "# returns True because x is not the same object as y, even if they have the same content"
   ]
  },
  {
   "cell_type": "markdown",
   "id": "69988282",
   "metadata": {},
   "source": [
    "Python Membership Operators\n",
    "--\n",
    "Membership operators are used to test if a sequence is presented in an object:"
   ]
  },
  {
   "cell_type": "markdown",
   "id": "fc0dd3df",
   "metadata": {},
   "source": [
    "Membership operators : in , not in\n",
    "--"
   ]
  },
  {
   "cell_type": "raw",
   "id": "96aa331f",
   "metadata": {},
   "source": [
    "in \t-  Returns True if a sequence with the specified value is present in the        object\t\n",
    "       \n",
    "       example : x in y\n",
    "       \n",
    "not in\t-  Returns True if a sequence with the specified value is not present            in the object\t\n",
    "       example : x not in y"
   ]
  },
  {
   "cell_type": "code",
   "execution_count": 1,
   "id": "45431c8b",
   "metadata": {},
   "outputs": [
    {
     "name": "stdout",
     "output_type": "stream",
     "text": [
      "True\n"
     ]
    }
   ],
   "source": [
    "x = ['apple','banana']\n",
    "print(\"banana\" in x)\n",
    "\n",
    "# returns True because a sequence with the value \"banana\" is in the list"
   ]
  },
  {
   "cell_type": "code",
   "execution_count": 2,
   "id": "2219babb",
   "metadata": {},
   "outputs": [
    {
     "name": "stdout",
     "output_type": "stream",
     "text": [
      "True\n"
     ]
    }
   ],
   "source": [
    "x = ['apple','banana']\n",
    "print(\"pineapple\" not in x)\n",
    "\n",
    "# returns True because a sequence with the value \"pineapple\" is not in the list"
   ]
  },
  {
   "cell_type": "markdown",
   "id": "881fceed",
   "metadata": {},
   "source": [
    "Python Bitwise Operators\n",
    "--\n",
    "Bitwise operators are used to compare (binary) numbers:"
   ]
  },
  {
   "cell_type": "markdown",
   "id": "ae3cce63",
   "metadata": {},
   "source": [
    "operator   name             decription                         example\n"
   ]
  },
  {
   "cell_type": "raw",
   "id": "ebf3abd4",
   "metadata": {},
   "source": [
    "& \t(AND)\tSets each bit to 1 if both bits are 1\t               x & y\n",
    "\n",
    "|\t(OR)\tSets each bit to 1 if one of two bits is 1\t           x | y\t\n",
    "\n",
    "\n",
    "^\t(XOR)\tSets each bit to 1 if only one of two bits is 1\t       x ^ y\t\n",
    "\n",
    "~\t(NOT)\tInverts all the bits\t                               ~x\t\n",
    "\n",
    "<<\t(Zero fill left shift)\tShift left by pushing zeros in from the right and     let the leftmost bits fall off\t                             x << 2\n",
    "\n",
    ">>\t(Signed right shift)\tShift right by pushing copies of the leftmost bit     in from the left, and let the rightmost bits fall off      \t x >> 2"
   ]
  },
  {
   "cell_type": "code",
   "execution_count": 3,
   "id": "9e007522",
   "metadata": {},
   "outputs": [
    {
     "name": "stdout",
     "output_type": "stream",
     "text": [
      "2\n"
     ]
    },
    {
     "data": {
      "text/plain": [
       "'\\nThe & operator compares each bit and set it to 1 if both are 1, otherwise it is set to 0:\\n\\n6 = 0000000000000110\\n3 = 0000000000000011\\n--------------------\\n2 = 0000000000000010\\n====================\\n\\nDecimal numbers and their binary values:\\n0 = 0000000000000000\\n1 = 0000000000000001\\n2 = 0000000000000010\\n3 = 0000000000000011\\n4 = 0000000000000100\\n5 = 0000000000000101\\n6 = 0000000000000110\\n7 = 0000000000000111\\n'"
      ]
     },
     "execution_count": 3,
     "metadata": {},
     "output_type": "execute_result"
    }
   ],
   "source": [
    "#and\n",
    "\n",
    "print(6 & 3)\n",
    "\n",
    "\n",
    "\"\"\"\n",
    "The & operator compares each bit and set it to 1 if both are 1, otherwise it is set to 0:\n",
    "\n",
    "6 = 0000000000000110\n",
    "3 = 0000000000000011\n",
    "--------------------\n",
    "2 = 0000000000000010\n",
    "====================\n",
    "\n",
    "Decimal numbers and their binary values:\n",
    "0 = 0000000000000000\n",
    "1 = 0000000000000001\n",
    "2 = 0000000000000010\n",
    "3 = 0000000000000011\n",
    "4 = 0000000000000100\n",
    "5 = 0000000000000101\n",
    "6 = 0000000000000110\n",
    "7 = 0000000000000111\n",
    "\"\"\""
   ]
  },
  {
   "cell_type": "code",
   "execution_count": 4,
   "id": "12463f89",
   "metadata": {},
   "outputs": [
    {
     "name": "stdout",
     "output_type": "stream",
     "text": [
      "7\n"
     ]
    },
    {
     "data": {
      "text/plain": [
       "'\\nThe | operator compares each bit and set it to 1 if one or both is 1, otherwise it is set to 0:\\n\\n6 = 0000000000000110\\n3 = 0000000000000011\\n--------------------\\n7 = 0000000000000111\\n====================\\n\\nDecimal numbers and their binary values:\\n0 = 0000000000000000\\n1 = 0000000000000001\\n2 = 0000000000000010\\n3 = 0000000000000011\\n4 = 0000000000000100\\n5 = 0000000000000101\\n6 = 0000000000000110\\n7 = 0000000000000111\\n'"
      ]
     },
     "execution_count": 4,
     "metadata": {},
     "output_type": "execute_result"
    }
   ],
   "source": [
    "#or\n",
    "\n",
    "print(6 | 3)\n",
    "\n",
    "\n",
    "\n",
    "\"\"\"\n",
    "The | operator compares each bit and set it to 1 if one or both is 1, otherwise it is set to 0:\n",
    "\n",
    "6 = 0000000000000110\n",
    "3 = 0000000000000011\n",
    "--------------------\n",
    "7 = 0000000000000111\n",
    "====================\n",
    "\n",
    "Decimal numbers and their binary values:\n",
    "0 = 0000000000000000\n",
    "1 = 0000000000000001\n",
    "2 = 0000000000000010\n",
    "3 = 0000000000000011\n",
    "4 = 0000000000000100\n",
    "5 = 0000000000000101\n",
    "6 = 0000000000000110\n",
    "7 = 0000000000000111\n",
    "\"\"\""
   ]
  },
  {
   "cell_type": "code",
   "execution_count": 5,
   "id": "8b667d62",
   "metadata": {},
   "outputs": [
    {
     "name": "stdout",
     "output_type": "stream",
     "text": [
      "5\n"
     ]
    },
    {
     "data": {
      "text/plain": [
       "'\\nThe ^ operator compares each bit and set it to 1 if only one is 1, otherwise (if both are 1 or both are 0) it is set to 0:\\n\\n6 = 0000000000000110\\n3 = 0000000000000011\\n--------------------\\n5 = 0000000000000101\\n====================\\n\\nDecimal numbers and their binary values:\\n0 = 0000000000000000\\n1 = 0000000000000001\\n2 = 0000000000000010\\n3 = 0000000000000011\\n4 = 0000000000000100\\n5 = 0000000000000101\\n6 = 0000000000000110\\n7 = 0000000000000111\\n'"
      ]
     },
     "execution_count": 5,
     "metadata": {},
     "output_type": "execute_result"
    }
   ],
   "source": [
    "#xor\n",
    "\n",
    "print(6 ^ 3)\n",
    "\n",
    "\n",
    "\n",
    "\"\"\"\n",
    "The ^ operator compares each bit and set it to 1 if only one is 1, otherwise (if both are 1 or both are 0) it is set to 0:\n",
    "\n",
    "6 = 0000000000000110\n",
    "3 = 0000000000000011\n",
    "--------------------\n",
    "5 = 0000000000000101\n",
    "====================\n",
    "\n",
    "Decimal numbers and their binary values:\n",
    "0 = 0000000000000000\n",
    "1 = 0000000000000001\n",
    "2 = 0000000000000010\n",
    "3 = 0000000000000011\n",
    "4 = 0000000000000100\n",
    "5 = 0000000000000101\n",
    "6 = 0000000000000110\n",
    "7 = 0000000000000111\n",
    "\"\"\""
   ]
  },
  {
   "cell_type": "code",
   "execution_count": 6,
   "id": "1f1e2238",
   "metadata": {},
   "outputs": [
    {
     "name": "stdout",
     "output_type": "stream",
     "text": [
      "-4\n"
     ]
    },
    {
     "data": {
      "text/plain": [
       "'\\nThe ~ operator inverts each bit (0 becomes 1 and 1 becomes 0).\\n\\nInverted 3 becomes -4:\\n 3 = 0000000000000011\\n-4 = 1111111111111100\\n\\nDecimal numbers and their binary values:\\n 4 = 0000000000000100\\n 3 = 0000000000000011\\n 2 = 0000000000000010\\n 1 = 0000000000000001\\n 0 = 0000000000000000\\n-1 = 1111111111111111\\n-2 = 1111111111111110\\n-3 = 1111111111111101\\n-4 = 1111111111111100\\n'"
      ]
     },
     "execution_count": 6,
     "metadata": {},
     "output_type": "execute_result"
    }
   ],
   "source": [
    "#not\n",
    "\n",
    "print(~3)\n",
    "\n",
    "\n",
    "\n",
    "\"\"\"\n",
    "The ~ operator inverts each bit (0 becomes 1 and 1 becomes 0).\n",
    "\n",
    "Inverted 3 becomes -4:\n",
    " 3 = 0000000000000011\n",
    "-4 = 1111111111111100\n",
    "\n",
    "Decimal numbers and their binary values:\n",
    " 4 = 0000000000000100\n",
    " 3 = 0000000000000011\n",
    " 2 = 0000000000000010\n",
    " 1 = 0000000000000001\n",
    " 0 = 0000000000000000\n",
    "-1 = 1111111111111111\n",
    "-2 = 1111111111111110\n",
    "-3 = 1111111111111101\n",
    "-4 = 1111111111111100\n",
    "\"\"\""
   ]
  },
  {
   "cell_type": "code",
   "execution_count": 7,
   "id": "1bd88a13",
   "metadata": {},
   "outputs": [
    {
     "name": "stdout",
     "output_type": "stream",
     "text": [
      "12\n"
     ]
    },
    {
     "data": {
      "text/plain": [
       "\"\\nThe << operator inserts the specified number of 0's (in this case 2) from the right and let the same amount of leftmost bits fall off:\\n\\nIf you push 00 in from the left:\\n 3 = 0000000000000011\\nbecomes\\n12 = 0000000000001100\\n\\nDecimal numbers and their binary values:\\n 0 = 0000000000000000\\n 1 = 0000000000000001\\n 2 = 0000000000000010\\n 3 = 0000000000000011\\n 4 = 0000000000000100\\n 5 = 0000000000000101\\n 6 = 0000000000000110\\n 7 = 0000000000000111\\n 8 = 0000000000001000\\n 9 = 0000000000001001\\n10 = 0000000000001010\\n11 = 0000000000001011\\n12 = 0000000000001100\\n\""
      ]
     },
     "execution_count": 7,
     "metadata": {},
     "output_type": "execute_result"
    }
   ],
   "source": [
    "#zero fill left shift\n",
    "\n",
    "print(3 << 2)\n",
    "\n",
    "\n",
    "\n",
    "\"\"\"\n",
    "The << operator inserts the specified number of 0's (in this case 2) from the right and let the same amount of leftmost bits fall off:\n",
    "\n",
    "If you push 00 in from the left:\n",
    " 3 = 0000000000000011\n",
    "becomes\n",
    "12 = 0000000000001100\n",
    "\n",
    "Decimal numbers and their binary values:\n",
    " 0 = 0000000000000000\n",
    " 1 = 0000000000000001\n",
    " 2 = 0000000000000010\n",
    " 3 = 0000000000000011\n",
    " 4 = 0000000000000100\n",
    " 5 = 0000000000000101\n",
    " 6 = 0000000000000110\n",
    " 7 = 0000000000000111\n",
    " 8 = 0000000000001000\n",
    " 9 = 0000000000001001\n",
    "10 = 0000000000001010\n",
    "11 = 0000000000001011\n",
    "12 = 0000000000001100\n",
    "\"\"\""
   ]
  },
  {
   "cell_type": "code",
   "execution_count": 8,
   "id": "d56fc0bb",
   "metadata": {},
   "outputs": [
    {
     "name": "stdout",
     "output_type": "stream",
     "text": [
      "2\n"
     ]
    },
    {
     "data": {
      "text/plain": [
       "\"\\nThe >> operator moves each bit the specified number of times to the right. Empty holes at the left are filled with 0's.\\n\\nIf you move each bit 2 times to the right, 8 becomes 2:\\n 8 = 0000000000001000\\nbecomes\\n 2 = 0000000000000010\\n\\nDecimal numbers and their binary values:\\n 0 = 0000000000000000\\n 1 = 0000000000000001\\n 2 = 0000000000000010\\n 3 = 0000000000000011\\n 4 = 0000000000000100\\n 5 = 0000000000000101\\n 6 = 0000000000000110\\n 7 = 0000000000000111\\n 8 = 0000000000001000\\n 9 = 0000000000001001\\n10 = 0000000000001010\\n11 = 0000000000001011\\n12 = 0000000000001100\\n\""
      ]
     },
     "execution_count": 8,
     "metadata": {},
     "output_type": "execute_result"
    }
   ],
   "source": [
    "# signed right shift\n",
    "\n",
    "print(8 >> 2)\n",
    "\n",
    "\n",
    "\n",
    "\"\"\"\n",
    "The >> operator moves each bit the specified number of times to the right. Empty holes at the left are filled with 0's.\n",
    "\n",
    "If you move each bit 2 times to the right, 8 becomes 2:\n",
    " 8 = 0000000000001000\n",
    "becomes\n",
    " 2 = 0000000000000010\n",
    "\n",
    "Decimal numbers and their binary values:\n",
    " 0 = 0000000000000000\n",
    " 1 = 0000000000000001\n",
    " 2 = 0000000000000010\n",
    " 3 = 0000000000000011\n",
    " 4 = 0000000000000100\n",
    " 5 = 0000000000000101\n",
    " 6 = 0000000000000110\n",
    " 7 = 0000000000000111\n",
    " 8 = 0000000000001000\n",
    " 9 = 0000000000001001\n",
    "10 = 0000000000001010\n",
    "11 = 0000000000001011\n",
    "12 = 0000000000001100\n",
    "\"\"\""
   ]
  },
  {
   "cell_type": "markdown",
   "id": "a842be5e",
   "metadata": {},
   "source": [
    "\n",
    "\n",
    "\n",
    "\n",
    "\n",
    "\n",
    "\n",
    "Operator Precedence\n",
    "--\n",
    "Operator precedence describes the order in which operations are performed."
   ]
  },
  {
   "cell_type": "raw",
   "id": "25fb8e60",
   "metadata": {},
   "source": [
    "Operator\t             Description\n",
    "--------                 -----------\n",
    " \n",
    "()\t                     Parentheses\t\n",
    "\n",
    "**\t                     Exponentiation\n",
    "\n",
    "+x  -x  ~x\t             Unary plus, unary minus, and bitwise NOT\n",
    "\n",
    "*  /  //  %\t             Multiplication, division, floor division, and                                modulus\t\n",
    "\n",
    "+  -\t                 Addition and subtraction\t\n",
    "\n",
    "<<  >>\t                 Bitwise left and right shifts\t\n",
    "\n",
    "&\t                     Bitwise AND\t\n",
    "\n",
    "^\t                     Bitwise XOR\n",
    "\n",
    "|\t                     Bitwise OR\t\n",
    "\n",
    "(==  !=  >  >=  <  <=  is  is not  in  not in)\n",
    "                        Comparisons, identity, and membership operators\t\n",
    "                        \n",
    "not\t                    Logical NOT\n",
    "\n",
    "and\t                    Logical AND\t\n",
    "\n",
    "or\t                    LogicalOR"
   ]
  },
  {
   "cell_type": "markdown",
   "id": "372ef5db",
   "metadata": {},
   "source": [
    "If two operators have the same precedence, the expression is evaluated from left to right.\n",
    "--"
   ]
  },
  {
   "cell_type": "code",
   "execution_count": 9,
   "id": "afcaa1af",
   "metadata": {},
   "outputs": [
    {
     "name": "stdout",
     "output_type": "stream",
     "text": [
      "5\n"
     ]
    },
    {
     "data": {
      "text/plain": [
       "'\\nAdditions and subtractions have the same precedence, and we need to calculate from left to right.\\nThe calculation above reads:\\n5 + 4 = 9\\n9 - 7 = 2\\n2 + 3 = 5\\n'"
      ]
     },
     "execution_count": 9,
     "metadata": {},
     "output_type": "execute_result"
    }
   ],
   "source": [
    "print(5 + 4 - 7 + 3)\n",
    "\n",
    "\"\"\"\n",
    "Additions and subtractions have the same precedence, and we need to calculate from left to right.\n",
    "The calculation above reads:\n",
    "5 + 4 = 9\n",
    "9 - 7 = 2\n",
    "2 + 3 = 5\n",
    "\"\"\""
   ]
  },
  {
   "cell_type": "code",
   "execution_count": null,
   "id": "c5cf066d",
   "metadata": {},
   "outputs": [],
   "source": []
  }
 ],
 "metadata": {
  "kernelspec": {
   "display_name": "Python 3 (ipykernel)",
   "language": "python",
   "name": "python3"
  },
  "language_info": {
   "codemirror_mode": {
    "name": "ipython",
    "version": 3
   },
   "file_extension": ".py",
   "mimetype": "text/x-python",
   "name": "python",
   "nbconvert_exporter": "python",
   "pygments_lexer": "ipython3",
   "version": "3.9.12"
  }
 },
 "nbformat": 4,
 "nbformat_minor": 5
}
