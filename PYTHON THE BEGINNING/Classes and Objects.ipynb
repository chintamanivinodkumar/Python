{
 "cells": [
  {
   "cell_type": "markdown",
   "id": "9786c916",
   "metadata": {},
   "source": [
    "Python Classes/Objects\n",
    "--\n",
    "Python is an object oriented programming language.\n",
    "\n",
    "Almost everything in Python is an object, with its properties and methods.\n",
    "\n",
    "A Class is like an object constructor, or a \"blueprint\" for creating objects."
   ]
  },
  {
   "cell_type": "markdown",
   "id": "18c144c4",
   "metadata": {},
   "source": [
    "Class\n",
    "--"
   ]
  },
  {
   "cell_type": "raw",
   "id": "629163b3",
   "metadata": {},
   "source": [
    "Has two main parts :\n",
    "they are:\n",
    "    i) Attribute ---> contains variables\n",
    "    ii) Behaviour --> contains Methods"
   ]
  },
  {
   "cell_type": "markdown",
   "id": "9de1cc5f",
   "metadata": {},
   "source": [
    "Create a Class\n",
    "--\n",
    "To create a class, use the keyword class:"
   ]
  },
  {
   "cell_type": "code",
   "execution_count": 1,
   "id": "f0add43b",
   "metadata": {},
   "outputs": [],
   "source": [
    "# Create a class named cospark , with a property named x:\n",
    "\n",
    "class cospark:\n",
    "    x = 5"
   ]
  },
  {
   "cell_type": "markdown",
   "id": "e836bcf9",
   "metadata": {},
   "source": [
    "Create Object\n",
    "--\n",
    "Now we can use the class named cospark to create objects:"
   ]
  },
  {
   "cell_type": "code",
   "execution_count": 3,
   "id": "12fe63ce",
   "metadata": {},
   "outputs": [
    {
     "name": "stdout",
     "output_type": "stream",
     "text": [
      "5\n"
     ]
    }
   ],
   "source": [
    "# Create an object named stud1 , and print the value of x:\n",
    "\n",
    "class cospark:\n",
    "    x = 5\n",
    "    \n",
    "stud1 = cospark() #object\n",
    "print(stud1.x) #object can access the things in the class(ex: stud using desk in classroom)"
   ]
  },
  {
   "cell_type": "markdown",
   "id": "e0fb1059",
   "metadata": {},
   "source": [
    "The __init__() Function\n",
    "--\n",
    "The examples above are classes and objects in their simplest form, and are not really useful in real life applications.\n",
    "\n",
    "To understand the meaning of classes we have to understand the built-in __init__() function.\n",
    "\n",
    "All classes have a function called __init__(), which is always executed when the class is being initiated.\n",
    "\n",
    "Use the __init__() function to assign values to object properties, or other operations that are necessary to do when the object is being created:"
   ]
  },
  {
   "cell_type": "code",
   "execution_count": 7,
   "id": "e44d5fce",
   "metadata": {},
   "outputs": [
    {
     "name": "stdout",
     "output_type": "stream",
     "text": [
      "john\n",
      "18\n"
     ]
    }
   ],
   "source": [
    "# Create a class named Person, use the __init__() function to assign values for name and age:\n",
    "\n",
    "class person:\n",
    "    def __init__(self,name,age):\n",
    "        self.name = name\n",
    "        self.age = age\n",
    "\n",
    "p1 = person('john',18)\n",
    "\n",
    "print(p1.name)\n",
    "print(p1.age)"
   ]
  },
  {
   "cell_type": "markdown",
   "id": "3f15fb46",
   "metadata": {},
   "source": [
    "Note:\n",
    "--\n",
    "The __init__() function is called automatically every time the class is being used to create a new object."
   ]
  },
  {
   "cell_type": "markdown",
   "id": "c1725278",
   "metadata": {},
   "source": [
    "The __str__() Function\n",
    "--\n",
    "The __str__() function controls what should be returned when the class object is represented as a string.\n",
    "\n",
    "If the __str__() function is not set, the string representation of the object is returned:"
   ]
  },
  {
   "cell_type": "code",
   "execution_count": 5,
   "id": "33f5b31e",
   "metadata": {},
   "outputs": [
    {
     "name": "stdout",
     "output_type": "stream",
     "text": [
      "<__main__.person object at 0x0000023F2E7ADFD0>\n"
     ]
    }
   ],
   "source": [
    "# The string representation of an object WITHOUT the __str__() function:\n",
    "\n",
    "class person:\n",
    "    def __init__(self,name,age):\n",
    "        self.name = name\n",
    "        self.age  = age\n",
    "        \n",
    "p1 = person('john',18)\n",
    "\n",
    "print(p1)"
   ]
  },
  {
   "cell_type": "code",
   "execution_count": 39,
   "id": "e5576e38",
   "metadata": {},
   "outputs": [
    {
     "name": "stdout",
     "output_type": "stream",
     "text": [
      "john,18\n"
     ]
    }
   ],
   "source": [
    "# The string representation of an object WITH the __str__() function:\n",
    "\n",
    "class person:\n",
    "    def __init__(self,name,age):\n",
    "        self.name = name\n",
    "        self.age = age\n",
    "        \n",
    "    def __str__(self):\n",
    "        return f'{self.name},{self.age}'\n",
    "    \n",
    "p1 = person('john',18)\n",
    "print(p1)"
   ]
  },
  {
   "cell_type": "markdown",
   "id": "f28d61de",
   "metadata": {},
   "source": [
    "Object Methods\n",
    "--\n",
    "Objects can also contain methods. Methods in objects are functions that belong to the object.\n",
    "\n",
    "Let us create a method in the Person class:"
   ]
  },
  {
   "cell_type": "code",
   "execution_count": 37,
   "id": "289111ab",
   "metadata": {},
   "outputs": [
    {
     "name": "stdout",
     "output_type": "stream",
     "text": [
      "Hello my name is john\n"
     ]
    }
   ],
   "source": [
    "class person:\n",
    "    def __init__(self,name,age): # __init__ is an inbuilt method and automatically called\n",
    "        self.name = name\n",
    "        self.age = age\n",
    "        \n",
    "    def myfunc(self):    # myfunc() is an user defined method and it's not automatically called\n",
    "        print ('Hello my name is ' + self.name)\n",
    "\n",
    "p1 = person('john',18)\n",
    "p1.myfunc()\n"
   ]
  },
  {
   "cell_type": "markdown",
   "id": "a9f0010f",
   "metadata": {},
   "source": [
    "Note:\n",
    "--\n",
    "The self parameter is a reference to the current instance of the class, and is used to access variables that belong to the class."
   ]
  },
  {
   "cell_type": "markdown",
   "id": "c5df35ae",
   "metadata": {},
   "source": [
    "The self Parameter\n",
    "--\n",
    "The self parameter is a reference to the current instance of the class, and is used to access variables that belongs to the class.\n",
    "\n",
    "It does not have to be named self , you can call it whatever you like, but it has to be the first parameter of any function in the class:"
   ]
  },
  {
   "cell_type": "code",
   "execution_count": 34,
   "id": "b69f2b54",
   "metadata": {},
   "outputs": [
    {
     "name": "stdout",
     "output_type": "stream",
     "text": [
      "Hello my name is john\n",
      "Hello my name is vinod\n"
     ]
    }
   ],
   "source": [
    "# Use the words mysillyobject and abc instead of self:\n",
    "\n",
    "class person:\n",
    "    def __init__(mysillyobject,name,age):\n",
    "        mysillyobject.name = name\n",
    "        mysillyobject.age = age\n",
    "        \n",
    "    def myfunc(abc):\n",
    "        print(\"Hello my name is \" + abc.name)\n",
    "        \n",
    "p1 = person('john',18)\n",
    "p1.myfunc()\n",
    "p2 = person('vinod',19)\n",
    "p2.myfunc()"
   ]
  },
  {
   "cell_type": "markdown",
   "id": "7a64e022",
   "metadata": {},
   "source": [
    "Modify Object Properties\n",
    "--\n",
    "You can modify properties on objects like this:"
   ]
  },
  {
   "cell_type": "code",
   "execution_count": 18,
   "id": "b902ed39",
   "metadata": {},
   "outputs": [
    {
     "name": "stdout",
     "output_type": "stream",
     "text": [
      "40\n"
     ]
    }
   ],
   "source": [
    "# Set the age of p1 to 40:\n",
    "\n",
    "class person:               #person classname\n",
    "    def __init__(self,name,age):  #__init__ is a method\n",
    "        self.name = name\n",
    "        self.age = age      # name & age are properties\n",
    "        \n",
    "    def myfunc(self):        # myfunc is a method\n",
    "        print('helo iam '+ self.age)\n",
    "        \n",
    "p1 = person('john',18)       # p1 is an object to person class\n",
    "p1.age = 40\n",
    "print(p1.age)"
   ]
  },
  {
   "cell_type": "markdown",
   "id": "88048cfa",
   "metadata": {},
   "source": [
    "Delete Object Properties\n",
    "--\n",
    "You can delete properties on objects by using the del keyword:"
   ]
  },
  {
   "cell_type": "code",
   "execution_count": 19,
   "id": "f054786e",
   "metadata": {},
   "outputs": [
    {
     "ename": "AttributeError",
     "evalue": "'Person' object has no attribute 'age'",
     "output_type": "error",
     "traceback": [
      "\u001b[1;31m---------------------------------------------------------------------------\u001b[0m",
      "\u001b[1;31mAttributeError\u001b[0m                            Traceback (most recent call last)",
      "Input \u001b[1;32mIn [19]\u001b[0m, in \u001b[0;36m<cell line: 11>\u001b[1;34m()\u001b[0m\n\u001b[0;32m      9\u001b[0m p1 \u001b[38;5;241m=\u001b[39m Person(\u001b[38;5;124m\"\u001b[39m\u001b[38;5;124mJohn\u001b[39m\u001b[38;5;124m\"\u001b[39m, \u001b[38;5;241m36\u001b[39m)\n\u001b[0;32m     10\u001b[0m \u001b[38;5;28;01mdel\u001b[39;00m p1\u001b[38;5;241m.\u001b[39mage\n\u001b[1;32m---> 11\u001b[0m \u001b[38;5;28mprint\u001b[39m(\u001b[43mp1\u001b[49m\u001b[38;5;241;43m.\u001b[39;49m\u001b[43mage\u001b[49m)\n",
      "\u001b[1;31mAttributeError\u001b[0m: 'Person' object has no attribute 'age'"
     ]
    }
   ],
   "source": [
    "class Person:\n",
    "    def __init__(self, name, age):\n",
    "        self.name = name\n",
    "        self.age = age\n",
    "\n",
    "    def myfunc(self):\n",
    "        print(\"Hello my name is \" + self.name)\n",
    "\n",
    "p1 = Person(\"John\", 36)\n",
    "del p1.age\n",
    "print(p1.age)"
   ]
  },
  {
   "cell_type": "markdown",
   "id": "cec46462",
   "metadata": {},
   "source": [
    "Delete Objects\n",
    "--\n",
    "You can delete objects by using the del keyword:"
   ]
  },
  {
   "cell_type": "code",
   "execution_count": 20,
   "id": "d519e140",
   "metadata": {},
   "outputs": [
    {
     "ename": "NameError",
     "evalue": "name 'p1' is not defined",
     "output_type": "error",
     "traceback": [
      "\u001b[1;31m---------------------------------------------------------------------------\u001b[0m",
      "\u001b[1;31mNameError\u001b[0m                                 Traceback (most recent call last)",
      "Input \u001b[1;32mIn [20]\u001b[0m, in \u001b[0;36m<cell line: 13>\u001b[1;34m()\u001b[0m\n\u001b[0;32m      9\u001b[0m p1 \u001b[38;5;241m=\u001b[39m Person(\u001b[38;5;124m\"\u001b[39m\u001b[38;5;124mJohn\u001b[39m\u001b[38;5;124m\"\u001b[39m, \u001b[38;5;241m36\u001b[39m)\n\u001b[0;32m     11\u001b[0m \u001b[38;5;28;01mdel\u001b[39;00m p1\n\u001b[1;32m---> 13\u001b[0m \u001b[38;5;28mprint\u001b[39m(\u001b[43mp1\u001b[49m)\n",
      "\u001b[1;31mNameError\u001b[0m: name 'p1' is not defined"
     ]
    }
   ],
   "source": [
    "class Person:\n",
    "  def __init__(self, name, age):\n",
    "    self.name = name\n",
    "    self.age = age\n",
    "\n",
    "  def myfunc(self):\n",
    "    print(\"Hello my name is \" + self.name)\n",
    "\n",
    "p1 = Person(\"John\", 36)\n",
    "\n",
    "del p1\n",
    "\n",
    "print(p1)\n"
   ]
  },
  {
   "cell_type": "markdown",
   "id": "4f56f264",
   "metadata": {},
   "source": [
    "The pass Statement\n",
    "--\n",
    "class definitions cannot be empty, but if you for some reason have a class definition with no content, put in the pass statement to avoid getting an error."
   ]
  },
  {
   "cell_type": "code",
   "execution_count": 21,
   "id": "70ddeb5c",
   "metadata": {},
   "outputs": [],
   "source": [
    "class Person:\n",
    "    pass"
   ]
  },
  {
   "cell_type": "markdown",
   "id": "fcf26d92",
   "metadata": {},
   "source": [
    "Class And Objects Introduction\n",
    "--\n"
   ]
  },
  {
   "cell_type": "raw",
   "id": "ef3161aa",
   "metadata": {},
   "source": [
    "# A class contains data and functions it is called class members\n",
    "\n",
    "# A class has to create multiple objects\n",
    "\n",
    "# if you want print or access inside class using object it can possible\n",
    "\n",
    "# In a class , if you create function means in function must pass the argument self,otherwise error\n",
    "\n",
    "# instance variables are inside class but outside of the function\n",
    "\n",
    "# local variables are inside the function\n",
    "\n",
    "#if you want print instance variables using function inside use self keyword \n"
   ]
  },
  {
   "cell_type": "code",
   "execution_count": 24,
   "id": "46b739f6",
   "metadata": {},
   "outputs": [
    {
     "name": "stdout",
     "output_type": "stream",
     "text": [
      "41166 vinod\n"
     ]
    }
   ],
   "source": [
    "class student:\n",
    "    def __init__(self,reg_no,name):\n",
    "        self.id = reg_no\n",
    "        self.name = name\n",
    "        \n",
    "s1 = student(41166,'vinod')\n",
    "print(s1.id,s1.name)"
   ]
  },
  {
   "cell_type": "code",
   "execution_count": 25,
   "id": "911f7adf",
   "metadata": {},
   "outputs": [
    {
     "name": "stdout",
     "output_type": "stream",
     "text": [
      "5\n",
      "-1\n"
     ]
    }
   ],
   "source": [
    "# add and sub \n",
    "\n",
    "class calc:\n",
    "    def __init__(self,a,b):\n",
    "        self.x = a\n",
    "        self.y = b\n",
    "        \n",
    "    def add(abc):\n",
    "        print(abc.x + abc.y)\n",
    "        \n",
    "    def sub(self):\n",
    "        print(self.x - self.y)\n",
    "        \n",
    "p1 = calc(2,3)\n",
    "p1.add()\n",
    "p1.sub()"
   ]
  },
  {
   "cell_type": "code",
   "execution_count": 30,
   "id": "6811adee",
   "metadata": {},
   "outputs": [
    {
     "name": "stdout",
     "output_type": "stream",
     "text": [
      "Eren\n",
      "vinod\n",
      "20\n",
      "vinod\n"
     ]
    }
   ],
   "source": [
    "class student:\n",
    "    \n",
    "    id_no = 41166\n",
    "    name = 'vinod'\n",
    "    age = 20\n",
    "# these are Instance variables, bcoz they are inside the class and outside of the function\n",
    "    \n",
    "    def myfunc(abc):\n",
    "        \n",
    "        name = 'Eren'  # local variable\n",
    "        print(name)   # It prints the value of local variable\n",
    "        print(abc.name) # It prints the value of Instance variable bcoz , here abc linked to the all instance varaiables \n",
    "        \n",
    "s1 = student()\n",
    "s1.myfunc()\n",
    "        \n",
    "print(s1.age)    # prints instance variable value bcoz we have to give more priority to instance than local varaibles\n",
    "print(s1.name)"
   ]
  },
  {
   "cell_type": "code",
   "execution_count": 32,
   "id": "6945f62f",
   "metadata": {},
   "outputs": [
    {
     "name": "stdout",
     "output_type": "stream",
     "text": [
      "2\n",
      "10\n",
      "6 4\n",
      "2 10\n",
      "10\n",
      "12\n",
      "12 42\n",
      "2 10\n",
      "-30\n",
      "-8\n"
     ]
    }
   ],
   "source": [
    "class Calculation:\n",
    "    x=2\n",
    "    y=10\n",
    "    \n",
    "    def sum(self):\n",
    "        x=6\n",
    "        y=4\n",
    "        print(x,y)\n",
    "        print(self.x,self.y)\n",
    "        print(x+y)\n",
    "        print(self.x+self.y)\n",
    "    def sub(self):\n",
    "        x=12\n",
    "        y=42\n",
    "        print(x,y)\n",
    "        print(self.x,self.y)\n",
    "        print(x-y)\n",
    "        print(self.x-self.y) \n",
    "        \n",
    "z=Calculation()\n",
    "print(z.x)\n",
    "print(z.y)\n",
    "z.sum()\n",
    "z.sub()\n"
   ]
  },
  {
   "cell_type": "code",
   "execution_count": null,
   "id": "00b1c705",
   "metadata": {},
   "outputs": [],
   "source": []
  }
 ],
 "metadata": {
  "kernelspec": {
   "display_name": "Python 3 (ipykernel)",
   "language": "python",
   "name": "python3"
  },
  "language_info": {
   "codemirror_mode": {
    "name": "ipython",
    "version": 3
   },
   "file_extension": ".py",
   "mimetype": "text/x-python",
   "name": "python",
   "nbconvert_exporter": "python",
   "pygments_lexer": "ipython3",
   "version": "3.9.12"
  }
 },
 "nbformat": 4,
 "nbformat_minor": 5
}
