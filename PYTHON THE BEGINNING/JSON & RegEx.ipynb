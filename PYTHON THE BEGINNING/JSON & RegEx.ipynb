{
 "cells": [
  {
   "cell_type": "markdown",
   "id": "4685140d",
   "metadata": {},
   "source": [
    "Python JSON\n",
    "--\n",
    "\n",
    "JSON is a syntax for storing and exchanging data.\n",
    "\n",
    "JSON is text, written with JavaScript object notation."
   ]
  },
  {
   "cell_type": "markdown",
   "id": "28010dfa",
   "metadata": {},
   "source": [
    "JSON in Python\n",
    "--\n",
    "Python has a built-in package called json, which can be used to work with JSON data."
   ]
  },
  {
   "cell_type": "code",
   "execution_count": 1,
   "id": "49db441a",
   "metadata": {},
   "outputs": [],
   "source": [
    "import json"
   ]
  },
  {
   "cell_type": "markdown",
   "id": "59b97924",
   "metadata": {},
   "source": [
    "Parse JSON - Convert from JSON to Python\n",
    "--\n",
    "If you have a JSON string, you can parse it by using the json.loads() method."
   ]
  },
  {
   "cell_type": "code",
   "execution_count": 6,
   "id": "40a86ff3",
   "metadata": {},
   "outputs": [
    {
     "name": "stdout",
     "output_type": "stream",
     "text": [
      "30\n"
     ]
    }
   ],
   "source": [
    "import json\n",
    "\n",
    "#some json\n",
    "x = '{ \"name\":\"John\", \"age\":30, \"city\":\"New York\"}'\n",
    "            \n",
    "# parse x :\n",
    "y = json.loads(x)\n",
    "\n",
    "# the result is a Python dictionary:\n",
    "print(y['age'])"
   ]
  },
  {
   "cell_type": "markdown",
   "id": "dabe783d",
   "metadata": {},
   "source": [
    "Convert from Python to JSON\n",
    "--\n",
    "If you have a Python object, you can convert it into a JSON string by using the json.dumps() method."
   ]
  },
  {
   "cell_type": "code",
   "execution_count": 7,
   "id": "9dd18421",
   "metadata": {},
   "outputs": [
    {
     "name": "stdout",
     "output_type": "stream",
     "text": [
      "{\"name\": \"John\", \"age\": 30, \"city\": \"New York\"}\n"
     ]
    }
   ],
   "source": [
    "import json\n",
    "\n",
    "# a Python object (dict):\n",
    "x = {\n",
    "  \"name\": \"John\",\n",
    "  \"age\": 30,\n",
    "  \"city\": \"New York\"\n",
    "}\n",
    "\n",
    "# convert into json\n",
    "y = json.dumps(x)\n",
    "\n",
    "# the result is a JSON string:\n",
    "print(y)"
   ]
  },
  {
   "cell_type": "raw",
   "id": "e9dff88a",
   "metadata": {},
   "source": [
    "You can convert Python objects of the following types, into JSON strings:\n",
    "\n",
    "dict\n",
    "list\n",
    "tuple\n",
    "string\n",
    "int\n",
    "float\n",
    "True\n",
    "False\n",
    "None"
   ]
  },
  {
   "cell_type": "code",
   "execution_count": 9,
   "id": "80c895fa",
   "metadata": {},
   "outputs": [
    {
     "name": "stdout",
     "output_type": "stream",
     "text": [
      "{\"name\": \"vinod\", \"age\": 19}\n",
      "[\"apple\", \"bananas\"]\n",
      "[\"apple\", \"kiwi\"]\n",
      "\"hello\"\n",
      "42\n",
      "31.76\n",
      "true\n",
      "false\n",
      "null\n"
     ]
    }
   ],
   "source": [
    "# Convert Python objects into JSON strings, and print the values:\n",
    "\n",
    "import json\n",
    "\n",
    "print(json.dumps({'name':'vinod','age':19}))\n",
    "print(json.dumps([\"apple\", \"bananas\"]))\n",
    "print(json.dumps((\"apple\", \"kiwi\")))\n",
    "print(json.dumps(\"hello\"))\n",
    "print(json.dumps(42))\n",
    "print(json.dumps(31.76))\n",
    "print(json.dumps(True))\n",
    "print(json.dumps(False))\n",
    "print(json.dumps(None))"
   ]
  },
  {
   "cell_type": "markdown",
   "id": "e252958d",
   "metadata": {},
   "source": [
    "**When you convert from Python to JSON, Python objects are converted into the JSON (JavaScript) equivalent:**"
   ]
  },
  {
   "cell_type": "raw",
   "id": "07249d33",
   "metadata": {},
   "source": [
    "Python\tJSON\n",
    "======  ====\n",
    "dict\tObject\n",
    "list\tArray\n",
    "tuple\tArray\n",
    "str\t    String\n",
    "int\t    Number\n",
    "float\tNumber\n",
    "True\ttrue\n",
    "False\tfalse\n",
    "None\tnull"
   ]
  },
  {
   "cell_type": "code",
   "execution_count": 11,
   "id": "fffd715f",
   "metadata": {},
   "outputs": [
    {
     "name": "stdout",
     "output_type": "stream",
     "text": [
      "{\"name\": \"John\", \"age\": 30, \"married\": true, \"divorced\": false, \"children\": [\"Ann\", \"Billy\"], \"pets\": null, \"cars\": [{\"model\": \"BMW 230\", \"mpg\": 27.5}, {\"model\": \"Ford Edge\", \"mpg\": 24.1}]}\n"
     ]
    }
   ],
   "source": [
    "# Convert a Python object containing all the legal data types:\n",
    "\n",
    "import json\n",
    "\n",
    "x = {\n",
    "  \"name\": \"John\",\n",
    "  \"age\": 30,\n",
    "  \"married\": True,\n",
    "  \"divorced\": False,\n",
    "  \"children\": (\"Ann\",\"Billy\"),\n",
    "  \"pets\": None,\n",
    "  \"cars\": [\n",
    "    {\"model\": \"BMW 230\", \"mpg\": 27.5},\n",
    "    {\"model\": \"Ford Edge\", \"mpg\": 24.1}\n",
    "  ]\n",
    "}\n",
    "\n",
    "print(json.dumps(x))"
   ]
  },
  {
   "cell_type": "markdown",
   "id": "7ff06637",
   "metadata": {},
   "source": [
    "Format the Result\n",
    "--\n",
    "The example above prints a JSON string, but it is not very easy to read, with no indentations and line breaks.\n",
    "\n",
    "The json.dumps() method has parameters to make it easier to read the result:"
   ]
  },
  {
   "cell_type": "code",
   "execution_count": 13,
   "id": "bd86a97f",
   "metadata": {},
   "outputs": [
    {
     "name": "stdout",
     "output_type": "stream",
     "text": [
      "{\n",
      "    \"name\": \"John\",\n",
      "    \"age\": 30,\n",
      "    \"married\": true,\n",
      "    \"divorced\": false,\n",
      "    \"children\": [\n",
      "        \"Ann\",\n",
      "        \"Billy\"\n",
      "    ],\n",
      "    \"pets\": null,\n",
      "    \"cars\": [\n",
      "        {\n",
      "            \"model\": \"BMW 230\",\n",
      "            \"mpg\": 27.5\n",
      "        },\n",
      "        {\n",
      "            \"model\": \"Ford Edge\",\n",
      "            \"mpg\": 24.1\n",
      "        }\n",
      "    ]\n",
      "}\n"
     ]
    }
   ],
   "source": [
    "# Use the indent parameter to define the numbers of indents:\n",
    "\n",
    "import json\n",
    "\n",
    "x = {\n",
    "  \"name\": \"John\",\n",
    "  \"age\": 30,\n",
    "  \"married\": True,\n",
    "  \"divorced\": False,\n",
    "  \"children\": (\"Ann\",\"Billy\"),\n",
    "  \"pets\": None,\n",
    "  \"cars\": [\n",
    "    {\"model\": \"BMW 230\", \"mpg\": 27.5},\n",
    "    {\"model\": \"Ford Edge\", \"mpg\": 24.1}\n",
    "  ]\n",
    "}\n",
    "\n",
    "# use four indents to make it easier to read the result:\n",
    "print(json.dumps(x, indent=4))"
   ]
  },
  {
   "cell_type": "markdown",
   "id": "a503e95a",
   "metadata": {},
   "source": [
    "**You can also define the separators, default value is (\", \", \": \"), which means using a comma and a space to separate each object, and a colon and a space to separate keys from values:**"
   ]
  },
  {
   "cell_type": "code",
   "execution_count": 14,
   "id": "89709961",
   "metadata": {},
   "outputs": [
    {
     "name": "stdout",
     "output_type": "stream",
     "text": [
      "{\n",
      "    \"name\" = \"John\". \n",
      "    \"age\" = 30. \n",
      "    \"married\" = true. \n",
      "    \"divorced\" = false. \n",
      "    \"children\" = [\n",
      "        \"Ann\". \n",
      "        \"Billy\"\n",
      "    ]. \n",
      "    \"pets\" = null. \n",
      "    \"cars\" = [\n",
      "        {\n",
      "            \"model\" = \"BMW 230\". \n",
      "            \"mpg\" = 27.5\n",
      "        }. \n",
      "        {\n",
      "            \"model\" = \"Ford Edge\". \n",
      "            \"mpg\" = 24.1\n",
      "        }\n",
      "    ]\n",
      "}\n"
     ]
    }
   ],
   "source": [
    "# Use the separators parameter to change the default separator:\n",
    "\n",
    "import json\n",
    "\n",
    "x = {\n",
    "  \"name\": \"John\",\n",
    "  \"age\": 30,\n",
    "  \"married\": True,\n",
    "  \"divorced\": False,\n",
    "  \"children\": (\"Ann\",\"Billy\"),\n",
    "  \"pets\": None,\n",
    "  \"cars\": [\n",
    "    {\"model\": \"BMW 230\", \"mpg\": 27.5},\n",
    "    {\"model\": \"Ford Edge\", \"mpg\": 24.1}\n",
    "  ]\n",
    "}\n",
    "\n",
    "# use . and a space to separate objects, and a space, a = and a space to separate keys from their values:\n",
    "print(json.dumps(x, indent=4, separators=(\". \", \" = \")))\n"
   ]
  },
  {
   "cell_type": "markdown",
   "id": "9ac6f1ac",
   "metadata": {},
   "source": [
    "Order the Result\n",
    "--\n",
    "The json.dumps() method has parameters to order the keys in the result:"
   ]
  },
  {
   "cell_type": "code",
   "execution_count": 15,
   "id": "8b50e26f",
   "metadata": {},
   "outputs": [
    {
     "name": "stdout",
     "output_type": "stream",
     "text": [
      "{\n",
      "    \"age\": 30,\n",
      "    \"cars\": [\n",
      "        {\n",
      "            \"model\": \"BMW 230\",\n",
      "            \"mpg\": 27.5\n",
      "        },\n",
      "        {\n",
      "            \"model\": \"Ford Edge\",\n",
      "            \"mpg\": 24.1\n",
      "        }\n",
      "    ],\n",
      "    \"children\": [\n",
      "        \"Ann\",\n",
      "        \"Billy\"\n",
      "    ],\n",
      "    \"divorced\": false,\n",
      "    \"married\": true,\n",
      "    \"name\": \"John\",\n",
      "    \"pets\": null\n",
      "}\n"
     ]
    }
   ],
   "source": [
    "# Use the sort_keys parameter to specify if the result should be sorted or not:\n",
    "\n",
    "import json\n",
    "\n",
    "x = {\n",
    "  \"name\": \"John\",\n",
    "  \"age\": 30,\n",
    "  \"married\": True,\n",
    "  \"divorced\": False,\n",
    "  \"children\": (\"Ann\",\"Billy\"),\n",
    "  \"pets\": None,\n",
    "  \"cars\": [\n",
    "    {\"model\": \"BMW 230\", \"mpg\": 27.5},\n",
    "    {\"model\": \"Ford Edge\", \"mpg\": 24.1}\n",
    "  ]\n",
    "}\n",
    "\n",
    "# sort the result alphabetically by keys:\n",
    "print(json.dumps(x, indent=4, sort_keys=True))"
   ]
  },
  {
   "cell_type": "markdown",
   "id": "1f98f260",
   "metadata": {},
   "source": [
    "Python RegEx\n",
    "--\n",
    "\n",
    "A RegEx, or Regular Expression, is a sequence of characters that forms a search pattern.\n",
    "\n",
    "RegEx can be used to check if a string contains the specified search pattern."
   ]
  },
  {
   "cell_type": "markdown",
   "id": "2b9790a3",
   "metadata": {},
   "source": [
    "RegEx Module\n",
    "--\n",
    "Python has a built-in package called re, which can be used to work with Regular Expressions."
   ]
  },
  {
   "cell_type": "code",
   "execution_count": 16,
   "id": "6b66e5a1",
   "metadata": {},
   "outputs": [],
   "source": [
    "import re"
   ]
  },
  {
   "cell_type": "markdown",
   "id": "abc6f267",
   "metadata": {},
   "source": [
    "RegEx in Python\n",
    "--\n",
    "When you have imported the re module, you can start using regular expressions:"
   ]
  },
  {
   "cell_type": "code",
   "execution_count": 22,
   "id": "9d2b337e",
   "metadata": {},
   "outputs": [
    {
     "name": "stdout",
     "output_type": "stream",
     "text": [
      "YES! We have a match!\n"
     ]
    }
   ],
   "source": [
    "# Search the string to see if it starts with \"The\" and ends with \"Spain\":\n",
    "\n",
    "import re\n",
    "\n",
    "txt = 'the rain in spain'\n",
    "x = re.search(\"^the.*spain$\",txt) # we must use symbols ^,.,*,$\n",
    "\n",
    "if x:\n",
    "  print(\"YES! We have a match!\")\n",
    "else:\n",
    "  print(\"No match\")"
   ]
  },
  {
   "cell_type": "code",
   "execution_count": null,
   "id": "44bcad73",
   "metadata": {},
   "outputs": [],
   "source": []
  }
 ],
 "metadata": {
  "kernelspec": {
   "display_name": "Python 3 (ipykernel)",
   "language": "python",
   "name": "python3"
  },
  "language_info": {
   "codemirror_mode": {
    "name": "ipython",
    "version": 3
   },
   "file_extension": ".py",
   "mimetype": "text/x-python",
   "name": "python",
   "nbconvert_exporter": "python",
   "pygments_lexer": "ipython3",
   "version": "3.9.12"
  }
 },
 "nbformat": 4,
 "nbformat_minor": 5
}
