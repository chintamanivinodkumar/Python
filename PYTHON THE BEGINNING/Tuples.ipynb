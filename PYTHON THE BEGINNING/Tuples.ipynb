{
 "cells": [
  {
   "cell_type": "markdown",
   "id": "e1ebc475",
   "metadata": {},
   "source": [
    "Python Tuples\n",
    "--"
   ]
  },
  {
   "cell_type": "markdown",
   "id": "f632c2b3",
   "metadata": {},
   "source": [
    "Tuple\n",
    "--\n",
    "Tuples are used to store multiple items in a single variable.\n",
    "\n",
    "Tuple is one of 4 built-in data types in Python used to store collections of data, the other 3 are List, Set, and Dictionary, all with different qualities and usage.\n",
    "\n",
    "A tuple is a collection which is ordered and unchangeable.\n",
    "\n",
    "Tuples are written with round brackets."
   ]
  },
  {
   "cell_type": "code",
   "execution_count": 1,
   "id": "96b18901",
   "metadata": {},
   "outputs": [
    {
     "name": "stdout",
     "output_type": "stream",
     "text": [
      "('apple', 'banana', 'cherry')\n"
     ]
    }
   ],
   "source": [
    "thistuple = (\"apple\", \"banana\", \"cherry\")\n",
    "print(thistuple)"
   ]
  },
  {
   "cell_type": "markdown",
   "id": "7cda4630",
   "metadata": {},
   "source": [
    "Tuple Items\n",
    "--\n",
    "Tuple items are ordered, unchangeable, and allow duplicate values.\n",
    "\n",
    "Tuple items are indexed, the first item has index [0], the second item has index [1] etc."
   ]
  },
  {
   "cell_type": "markdown",
   "id": "817b9c3a",
   "metadata": {},
   "source": [
    "Ordered\n",
    "--\n",
    "When we say that tuples are ordered, it means that the items have a defined order, and that order will not change.\n",
    "\n",
    "Unchangeable\n",
    "--\n",
    "Tuples are unchangeable, meaning that we cannot change, add or remove items after the tuple has been created.\n",
    "\n",
    "Allow Duplicates\n",
    "--\n",
    "Since tuples are indexed, they can have items with the same value:"
   ]
  },
  {
   "cell_type": "code",
   "execution_count": 2,
   "id": "8609fe57",
   "metadata": {},
   "outputs": [
    {
     "name": "stdout",
     "output_type": "stream",
     "text": [
      "('apple', 'banana', 'cherry', 'apple', 'cherry')\n"
     ]
    }
   ],
   "source": [
    "thistuple = (\"apple\", \"banana\", \"cherry\", \"apple\", \"cherry\")\n",
    "print(thistuple)"
   ]
  },
  {
   "cell_type": "markdown",
   "id": "53bab956",
   "metadata": {},
   "source": [
    "Tuple Length\n",
    "--\n",
    "To determine how many items a tuple has, use the len() function:"
   ]
  },
  {
   "cell_type": "code",
   "execution_count": 3,
   "id": "67594ebd",
   "metadata": {},
   "outputs": [
    {
     "name": "stdout",
     "output_type": "stream",
     "text": [
      "3\n"
     ]
    }
   ],
   "source": [
    "thistuple = (\"apple\", \"banana\", \"cherry\")\n",
    "print(len(thistuple))"
   ]
  },
  {
   "cell_type": "markdown",
   "id": "557e93c4",
   "metadata": {},
   "source": [
    "Create Tuple With One Item\n",
    "--\n",
    "To create a tuple with only one item, you have to add a comma after the item, otherwise Python will not recognize it as a tuple."
   ]
  },
  {
   "cell_type": "code",
   "execution_count": 6,
   "id": "3016e51e",
   "metadata": {},
   "outputs": [
    {
     "name": "stdout",
     "output_type": "stream",
     "text": [
      "<class 'tuple'>\n",
      "<class 'str'>\n"
     ]
    }
   ],
   "source": [
    "tuple1 = ('eren',)\n",
    "print(type(tuple1))\n",
    "\n",
    "#not a tuple\n",
    "tuple1 = ('eren')\n",
    "print(type(tuple1))"
   ]
  },
  {
   "cell_type": "markdown",
   "id": "e53cf3fd",
   "metadata": {},
   "source": [
    "Tuple Items - Data Types\n",
    "--\n",
    "Tuple items can be of any data type:"
   ]
  },
  {
   "cell_type": "code",
   "execution_count": 7,
   "id": "d701b033",
   "metadata": {},
   "outputs": [
    {
     "name": "stdout",
     "output_type": "stream",
     "text": [
      "('abc', 34, True, 40, 'male')\n"
     ]
    }
   ],
   "source": [
    "#A tuple with strings, integers and boolean values:\n",
    "\n",
    "tuple1 = (\"abc\", 34, True, 40, \"male\")\n",
    "print(tuple1)"
   ]
  },
  {
   "cell_type": "markdown",
   "id": "ff2c79cd",
   "metadata": {},
   "source": [
    "The tuple() Constructor\n",
    "--\n",
    "It is also possible to use the tuple() constructor to make a tuple.\n"
   ]
  },
  {
   "cell_type": "code",
   "execution_count": 8,
   "id": "00a6fd3d",
   "metadata": {},
   "outputs": [
    {
     "name": "stdout",
     "output_type": "stream",
     "text": [
      "('apple', 'banana', 'cherry')\n"
     ]
    }
   ],
   "source": [
    "thistuple = tuple((\"apple\", \"banana\", \"cherry\")) # note the double round-brackets\n",
    "print(thistuple)"
   ]
  },
  {
   "cell_type": "markdown",
   "id": "8ecc9b5b",
   "metadata": {},
   "source": [
    "Python - Access Tuple Items\n",
    "--\n",
    "You can access tuple items by referring to the index number, inside square brackets:"
   ]
  },
  {
   "cell_type": "code",
   "execution_count": 9,
   "id": "46062452",
   "metadata": {},
   "outputs": [
    {
     "name": "stdout",
     "output_type": "stream",
     "text": [
      "banana\n"
     ]
    }
   ],
   "source": [
    "thistuple = (\"apple\", \"banana\", \"cherry\")\n",
    "print(thistuple[1])"
   ]
  },
  {
   "cell_type": "markdown",
   "id": "cf9cafe2",
   "metadata": {},
   "source": [
    "Negative Indexing\n",
    "--\n",
    "Negative indexing means start from the end.\n",
    "\n",
    "-1 refers to the last item, -2 refers to the second last item etc."
   ]
  },
  {
   "cell_type": "code",
   "execution_count": 10,
   "id": "0a67eef6",
   "metadata": {},
   "outputs": [
    {
     "name": "stdout",
     "output_type": "stream",
     "text": [
      "cherry\n"
     ]
    }
   ],
   "source": [
    "thistuple = (\"apple\", \"banana\", \"cherry\")\n",
    "print(thistuple[-1])"
   ]
  },
  {
   "cell_type": "markdown",
   "id": "eec35b72",
   "metadata": {},
   "source": [
    "Range of Indexes\n",
    "--\n",
    "You can specify a range of indexes by specifying where to start and where to end the range.\n",
    "\n",
    "When specifying a range, the return value will be a new tuple with the specified items.\n"
   ]
  },
  {
   "cell_type": "code",
   "execution_count": 11,
   "id": "66227a15",
   "metadata": {},
   "outputs": [
    {
     "name": "stdout",
     "output_type": "stream",
     "text": [
      "('cherry', 'orange', 'kiwi')\n"
     ]
    }
   ],
   "source": [
    "thistuple = (\"apple\", \"banana\", \"cherry\", \"orange\", \"kiwi\", \"melon\", \"mango\")\n",
    "print(thistuple[2:5])"
   ]
  },
  {
   "cell_type": "markdown",
   "id": "ae5759d7",
   "metadata": {},
   "source": [
    "Range of Negative Indexes\n",
    "--\n",
    "Specify negative indexes if you want to start the search from the end of the tuple:"
   ]
  },
  {
   "cell_type": "code",
   "execution_count": 12,
   "id": "0da989bb",
   "metadata": {},
   "outputs": [
    {
     "name": "stdout",
     "output_type": "stream",
     "text": [
      "('orange', 'kiwi', 'melon')\n"
     ]
    }
   ],
   "source": [
    "thistuple = (\"apple\", \"banana\", \"cherry\", \"orange\", \"kiwi\", \"melon\", \"mango\")\n",
    "print(thistuple[-4:-1])"
   ]
  },
  {
   "cell_type": "markdown",
   "id": "3d97f7a0",
   "metadata": {},
   "source": [
    "Python - Update Tuples\n",
    "--\n",
    "Tuples are unchangeable, meaning that you cannot change, add, or remove items once the tuple is created.\n",
    "\n",
    "But there are some workarounds.\n",
    "You can convert the tuple into a list, change the list, and convert the list back into a tuple\n",
    "\n"
   ]
  },
  {
   "cell_type": "code",
   "execution_count": 14,
   "id": "026c0654",
   "metadata": {},
   "outputs": [
    {
     "name": "stdout",
     "output_type": "stream",
     "text": [
      "('apple', 'eren', 'cherry', 'orange', 'kiwi', 'melon', 'mango')\n"
     ]
    }
   ],
   "source": [
    "thistuple = (\"apple\", \"banana\", \"cherry\", \"orange\", \"kiwi\", \"melon\", \"mango\")\n",
    "x = list(thistuple)\n",
    "x[1] = 'eren'\n",
    "thistuple = tuple(x)\n",
    "print(thistuple)"
   ]
  },
  {
   "cell_type": "markdown",
   "id": "bee6d9e5",
   "metadata": {},
   "source": [
    "Add Items\n",
    "--\n",
    "Since tuples are immutable, they do not have a build-in append() method, but there are other ways to add items to a tuple.\n",
    "\n",
    "1.Convert into a list:\n",
    "--\n",
    "Just like the workaround for changing a tuple, you can convert it into a list, add your item(s), and convert it back into a tuple."
   ]
  },
  {
   "cell_type": "code",
   "execution_count": 15,
   "id": "9eb7b60b",
   "metadata": {},
   "outputs": [
    {
     "name": "stdout",
     "output_type": "stream",
     "text": [
      "('apple', 'banana', 'cherry', 'orange', 'kiwi', 'melon', 'mango', 1234)\n"
     ]
    }
   ],
   "source": [
    "x = (\"apple\", \"banana\", \"cherry\", \"orange\", \"kiwi\", \"melon\", \"mango\")\n",
    "y = list(x)\n",
    "y.append(1234)\n",
    "x = tuple(y)\n",
    "print(x)"
   ]
  },
  {
   "cell_type": "markdown",
   "id": "8b386fc5",
   "metadata": {},
   "source": [
    "2.Add tuple to a tuple.\n",
    "--\n",
    "You are allowed to add tuples to tuples, so if you want to add one item, (or many), create a new tuple with the item(s), and add it to the existing tuple:\n"
   ]
  },
  {
   "cell_type": "code",
   "execution_count": 18,
   "id": "894894c0",
   "metadata": {},
   "outputs": [
    {
     "name": "stdout",
     "output_type": "stream",
     "text": [
      "('apple', 'banana', 'cherry', 'orange', 'kiwi', 'melon', 'mango', 1234)\n"
     ]
    }
   ],
   "source": [
    "x = (\"apple\", \"banana\", \"cherry\", \"orange\", \"kiwi\", \"melon\", \"mango\")\n",
    "y = (1234,)\n",
    "x += y\n",
    "print(x)"
   ]
  },
  {
   "cell_type": "markdown",
   "id": "3924e3f9",
   "metadata": {},
   "source": [
    "Remove Items\n",
    "--\n",
    "\n",
    "Tuples are unchangeable, so you cannot remove items from it, but you can use the same workaround as we used for changing and adding tuple items:"
   ]
  },
  {
   "cell_type": "code",
   "execution_count": 20,
   "id": "1b8430dc",
   "metadata": {},
   "outputs": [
    {
     "name": "stdout",
     "output_type": "stream",
     "text": [
      "('apple', 'cherry', 'orange', 'kiwi', 'melon', 'mango')\n"
     ]
    }
   ],
   "source": [
    "x = (\"apple\", \"banana\", \"cherry\", \"orange\", \"kiwi\", \"melon\", \"mango\")\n",
    "y = list(x)\n",
    "y.remove('banana')\n",
    "x = tuple(y)\n",
    "print(x)"
   ]
  },
  {
   "cell_type": "markdown",
   "id": "7d892aa2",
   "metadata": {},
   "source": [
    "Or you can delete the tuple completely:\n",
    "--"
   ]
  },
  {
   "cell_type": "code",
   "execution_count": 21,
   "id": "983adff9",
   "metadata": {},
   "outputs": [
    {
     "ename": "NameError",
     "evalue": "name 'thistuple' is not defined",
     "output_type": "error",
     "traceback": [
      "\u001b[1;31m---------------------------------------------------------------------------\u001b[0m",
      "\u001b[1;31mNameError\u001b[0m                                 Traceback (most recent call last)",
      "Input \u001b[1;32mIn [21]\u001b[0m, in \u001b[0;36m<cell line: 3>\u001b[1;34m()\u001b[0m\n\u001b[0;32m      1\u001b[0m thistuple \u001b[38;5;241m=\u001b[39m (\u001b[38;5;124m\"\u001b[39m\u001b[38;5;124mapple\u001b[39m\u001b[38;5;124m\"\u001b[39m, \u001b[38;5;124m\"\u001b[39m\u001b[38;5;124mbanana\u001b[39m\u001b[38;5;124m\"\u001b[39m, \u001b[38;5;124m\"\u001b[39m\u001b[38;5;124mcherry\u001b[39m\u001b[38;5;124m\"\u001b[39m)\n\u001b[0;32m      2\u001b[0m \u001b[38;5;28;01mdel\u001b[39;00m thistuple\n\u001b[1;32m----> 3\u001b[0m \u001b[38;5;28mprint\u001b[39m(\u001b[43mthistuple\u001b[49m)\n",
      "\u001b[1;31mNameError\u001b[0m: name 'thistuple' is not defined"
     ]
    }
   ],
   "source": [
    "thistuple = (\"apple\", \"banana\", \"cherry\")\n",
    "del thistuple\n",
    "print(thistuple) #this will raise an error because the tuple no longer exists"
   ]
  },
  {
   "cell_type": "markdown",
   "id": "27f2494f",
   "metadata": {},
   "source": [
    "Python - Unpack Tuples\n",
    "--\n",
    "\n",
    "Unpacking a Tuple\n",
    "--\n",
    "When we create a tuple, we normally assign values to it. This is called \"packing\" a tuple:"
   ]
  },
  {
   "cell_type": "code",
   "execution_count": 22,
   "id": "be3a78fa",
   "metadata": {},
   "outputs": [],
   "source": [
    "#Packing a tuple:\n",
    "\n",
    "fruits = (\"apple\", \"banana\", \"cherry\")"
   ]
  },
  {
   "cell_type": "markdown",
   "id": "daf602cc",
   "metadata": {},
   "source": [
    "But, in Python, we are also allowed to extract the values back into variables. This is called \"unpacking\":"
   ]
  },
  {
   "cell_type": "code",
   "execution_count": 23,
   "id": "f868ef17",
   "metadata": {},
   "outputs": [
    {
     "name": "stdout",
     "output_type": "stream",
     "text": [
      "apple\n",
      "banana\n",
      "cherry\n"
     ]
    }
   ],
   "source": [
    "#unPacking a tuple:\n",
    "\n",
    "fruits = (\"apple\", \"banana\", \"cherry\")\n",
    "\n",
    "(green,yellow,red) = fruits\n",
    "\n",
    "print(green)\n",
    "print(yellow)\n",
    "print(red)"
   ]
  },
  {
   "cell_type": "markdown",
   "id": "7b1e21b5",
   "metadata": {},
   "source": [
    "Using Asterisk*\n",
    "--\n",
    "If the number of variables is less than the number of values, you can add an * to the variable name and the values will be assigned to the variable as a list:"
   ]
  },
  {
   "cell_type": "code",
   "execution_count": 26,
   "id": "2148330a",
   "metadata": {},
   "outputs": [
    {
     "name": "stdout",
     "output_type": "stream",
     "text": [
      "apple\n",
      "banana\n",
      "['cherry', 'strawberry', 'raspberry']\n"
     ]
    }
   ],
   "source": [
    "fruits = (\"apple\", \"banana\", \"cherry\", \"strawberry\", \"raspberry\")\n",
    "\n",
    "(green, yellow, *red) = fruits\n",
    "\n",
    "print(green)\n",
    "print(yellow)\n",
    "print(red)"
   ]
  },
  {
   "cell_type": "markdown",
   "id": "d1e416b1",
   "metadata": {},
   "source": [
    "If the asterisk is added to another variable name than the last, Python will assign values to the variable until the number of values left matches the number of variables left."
   ]
  },
  {
   "cell_type": "code",
   "execution_count": 29,
   "id": "05b1307f",
   "metadata": {},
   "outputs": [
    {
     "name": "stdout",
     "output_type": "stream",
     "text": [
      "apple\n",
      "['banana', 'cherry', 'strawberry']\n",
      "raspberry\n"
     ]
    }
   ],
   "source": [
    "fruits = (\"apple\", \"banana\", \"cherry\", \"strawberry\", \"raspberry\")\n",
    "\n",
    "(green, *yellow, red) = fruits\n",
    "\n",
    "print(green)\n",
    "print(yellow)\n",
    "print(red)"
   ]
  },
  {
   "cell_type": "markdown",
   "id": "a20b17f2",
   "metadata": {},
   "source": [
    "Python - Loop Tuples\n",
    "--\n",
    "Loop Through a Tuple\n",
    "--\n",
    "You can loop through the tuple items by using a for loop."
   ]
  },
  {
   "cell_type": "code",
   "execution_count": 30,
   "id": "b194bfac",
   "metadata": {},
   "outputs": [
    {
     "name": "stdout",
     "output_type": "stream",
     "text": [
      "apple\n",
      "banana\n",
      "cherry\n"
     ]
    }
   ],
   "source": [
    "thistuple = (\"apple\", \"banana\", \"cherry\")\n",
    "for x in thistuple:\n",
    "    print(x)"
   ]
  },
  {
   "cell_type": "markdown",
   "id": "4d231947",
   "metadata": {},
   "source": [
    "Loop Through the Index Numbers\n",
    "--\n",
    "You can also loop through the tuple items by referring to their index number.\n",
    "\n",
    "Use the range() and len() functions to create a suitable iterable."
   ]
  },
  {
   "cell_type": "code",
   "execution_count": 32,
   "id": "b075547a",
   "metadata": {},
   "outputs": [
    {
     "name": "stdout",
     "output_type": "stream",
     "text": [
      "apple\n",
      "banana\n",
      "cherry\n"
     ]
    }
   ],
   "source": [
    "thistuple = (\"apple\", \"banana\", \"cherry\")\n",
    "for x in range(len(thistuple)):\n",
    "    print(thistuple[x])"
   ]
  },
  {
   "cell_type": "markdown",
   "id": "ec16ab41",
   "metadata": {},
   "source": [
    "Using a While Loop\n",
    "--\n",
    "You can loop through the tuple items by using a while loop.\n",
    "\n",
    "Use the len() function to determine the length of the tuple, then start at 0 and loop your way through the tuple items by referring to their indexes.\n",
    "\n",
    "Remember to increase the index by 1 after each iteration."
   ]
  },
  {
   "cell_type": "code",
   "execution_count": 33,
   "id": "c6cb9466",
   "metadata": {},
   "outputs": [
    {
     "name": "stdout",
     "output_type": "stream",
     "text": [
      "apple\n",
      "banana\n",
      "cherry\n"
     ]
    }
   ],
   "source": [
    "thistuple = (\"apple\", \"banana\", \"cherry\")\n",
    "i = 0\n",
    "while i < len(thistuple):\n",
    "    print(thistuple[i])\n",
    "    i+=1"
   ]
  },
  {
   "cell_type": "markdown",
   "id": "1172967f",
   "metadata": {},
   "source": [
    "Python - Join Tuples\n",
    "--\n",
    "Join Two Tuples\n",
    "--\n",
    "To join two or more tuples you can use the + operator:"
   ]
  },
  {
   "cell_type": "code",
   "execution_count": 34,
   "id": "04d9d7dd",
   "metadata": {},
   "outputs": [
    {
     "name": "stdout",
     "output_type": "stream",
     "text": [
      "('1', 2, 3, 4, 5, 'iam', 'eren')\n"
     ]
    }
   ],
   "source": [
    "tuple1 = ('1',2,3,4,5)\n",
    "tuple2 = ('iam','eren')\n",
    "tuple3 = tuple1 + tuple2\n",
    "print(tuple3)"
   ]
  },
  {
   "cell_type": "markdown",
   "id": "9b03aa6c",
   "metadata": {},
   "source": [
    "Multiply Tuples\n",
    "--\n",
    "If you want to multiply the content of a tuple a given number of times, you can use the * operator:"
   ]
  },
  {
   "cell_type": "code",
   "execution_count": 35,
   "id": "7fc25fc7",
   "metadata": {},
   "outputs": [
    {
     "name": "stdout",
     "output_type": "stream",
     "text": [
      "(1, 2, 3, 4, 5, 1, 2, 3, 4, 5, 1, 2, 3, 4, 5)\n"
     ]
    }
   ],
   "source": [
    "tup1 = (1,2,3,4,5)\n",
    "tup2 = tup1 * 3\n",
    "print(tup2)"
   ]
  },
  {
   "cell_type": "code",
   "execution_count": 37,
   "id": "16dc3d0a",
   "metadata": {},
   "outputs": [
    {
     "name": "stdout",
     "output_type": "stream",
     "text": [
      "[1, 2, 3, 4, 5, 1, 2, 3, 4, 5, 1, 2, 3, 4, 5]\n"
     ]
    }
   ],
   "source": [
    "#multiply list\n",
    "\n",
    "list11 = [1,2,3,4,5]\n",
    "list22 = list11 * 3\n",
    "print(tup2)"
   ]
  },
  {
   "cell_type": "markdown",
   "id": "48c74b24",
   "metadata": {},
   "source": [
    "Python - Tuple Methods\n",
    "--\n",
    "Python has two built-in methods that you can use on tuples."
   ]
  },
  {
   "cell_type": "raw",
   "id": "90c8b35f",
   "metadata": {},
   "source": [
    "Method\t     Description\n",
    "------       -----------\n",
    "count()\t     Returns the number of times a specified value occurs in a tuple\n",
    "\n",
    "index()\t     Searches the tuple for a specified value and returns the                      position of where it was found."
   ]
  },
  {
   "cell_type": "code",
   "execution_count": 38,
   "id": "4647c538",
   "metadata": {},
   "outputs": [
    {
     "name": "stdout",
     "output_type": "stream",
     "text": [
      "5\n"
     ]
    }
   ],
   "source": [
    "tup1 = (1,2,3,4,5,6,6,6,78,6,5,6)\n",
    "z = tup1.count(6)\n",
    "print(z)"
   ]
  },
  {
   "cell_type": "code",
   "execution_count": 39,
   "id": "4512ab79",
   "metadata": {},
   "outputs": [
    {
     "name": "stdout",
     "output_type": "stream",
     "text": [
      "2\n"
     ]
    }
   ],
   "source": [
    "tup1 = (1,2,3,4,5,6,6,6,78,6,5,6)\n",
    "z = tup1.index(3)\n",
    "print(z)"
   ]
  },
  {
   "cell_type": "code",
   "execution_count": 40,
   "id": "cbb68554",
   "metadata": {},
   "outputs": [
    {
     "name": "stdout",
     "output_type": "stream",
     "text": [
      "5\n"
     ]
    }
   ],
   "source": [
    "#it takes the 1st index if value repeated\n",
    "\n",
    "tup1 = (1,2,3,4,5,6,6,6,78,6,5,6)\n",
    "z = tup1.index(6)\n",
    "print(z)"
   ]
  },
  {
   "cell_type": "code",
   "execution_count": null,
   "id": "9f8aa162",
   "metadata": {},
   "outputs": [],
   "source": []
  }
 ],
 "metadata": {
  "kernelspec": {
   "display_name": "Python 3 (ipykernel)",
   "language": "python",
   "name": "python3"
  },
  "language_info": {
   "codemirror_mode": {
    "name": "ipython",
    "version": 3
   },
   "file_extension": ".py",
   "mimetype": "text/x-python",
   "name": "python",
   "nbconvert_exporter": "python",
   "pygments_lexer": "ipython3",
   "version": "3.9.12"
  }
 },
 "nbformat": 4,
 "nbformat_minor": 5
}
