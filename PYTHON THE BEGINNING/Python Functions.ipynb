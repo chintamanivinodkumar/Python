{
 "cells": [
  {
   "cell_type": "markdown",
   "id": "dad4012e",
   "metadata": {},
   "source": [
    "Python Functions\n",
    "--"
   ]
  },
  {
   "cell_type": "markdown",
   "id": "4625c9ab",
   "metadata": {},
   "source": [
    "A function is a block of code which only runs when it is called.\n",
    "\n",
    "You can pass data, known as parameters, into a function.\n",
    "\n",
    "A function can return data as a result.\n"
   ]
  },
  {
   "cell_type": "markdown",
   "id": "ac0daa1f",
   "metadata": {},
   "source": [
    "Creating a Function\n",
    "--\n",
    "In Python a function is defined using the def keyword:\n"
   ]
  },
  {
   "cell_type": "code",
   "execution_count": 1,
   "id": "fbd3b6c7",
   "metadata": {},
   "outputs": [],
   "source": [
    "def my_func():\n",
    "    print(\"this is function\")"
   ]
  },
  {
   "cell_type": "markdown",
   "id": "baded5c9",
   "metadata": {},
   "source": [
    "Calling a Function\n",
    "--\n",
    "To call a function, use the function name followed by parenthesis:"
   ]
  },
  {
   "cell_type": "code",
   "execution_count": 3,
   "id": "e506d225",
   "metadata": {},
   "outputs": [
    {
     "name": "stdout",
     "output_type": "stream",
     "text": [
      "this is function\n"
     ]
    }
   ],
   "source": [
    "def my_func():\n",
    "    print(\"this is function\")\n",
    "my_func()"
   ]
  },
  {
   "cell_type": "markdown",
   "id": "211c1daf",
   "metadata": {},
   "source": [
    "Arguments\n",
    "--\n",
    "Information can be passed into functions as arguments.\n",
    "\n",
    "Arguments are specified after the function name, inside the parentheses. You can add as many arguments as you want, just separate them with a comma.\n",
    "\n",
    "The following example has a function with one argument (fname). When the function is called, we pass along a first name, which is used inside the function to print the full name:"
   ]
  },
  {
   "cell_type": "code",
   "execution_count": 8,
   "id": "7ebb9b73",
   "metadata": {},
   "outputs": [
    {
     "name": "stdout",
     "output_type": "stream",
     "text": [
      "vinodkumar\n",
      "vinaykumar\n"
     ]
    }
   ],
   "source": [
    "def my_func(fname):\n",
    "    print(fname + 'kumar')\n",
    "my_func('vinod')\n",
    "my_func('vinay')\n"
   ]
  },
  {
   "cell_type": "markdown",
   "id": "fe9303b9",
   "metadata": {},
   "source": [
    "***Arguments are often shortened to args in Python documentations.***"
   ]
  },
  {
   "cell_type": "markdown",
   "id": "15e5cfc9",
   "metadata": {},
   "source": [
    "Parameters or Arguments?\n",
    "--\n",
    "The terms parameter and argument can be used for the same thing: information that are passed into a function."
   ]
  },
  {
   "cell_type": "markdown",
   "id": "9ae5c6d6",
   "metadata": {},
   "source": [
    "From a function's perspective:\n",
    "--\n",
    "\n",
    "A parameter is the variable listed inside the parentheses in the function definition.\n",
    "\n",
    "An argument is the value that is sent to the function when it is called."
   ]
  },
  {
   "cell_type": "code",
   "execution_count": 9,
   "id": "5e85f789",
   "metadata": {},
   "outputs": [
    {
     "name": "stdout",
     "output_type": "stream",
     "text": [
      "vinodkumar\n",
      "vinaykumar\n"
     ]
    }
   ],
   "source": [
    "def my_func(fname):        # here fname is parameter\n",
    "    print(fname + 'kumar')\n",
    "my_func('vinod')\n",
    "my_func('vinay')           # here 'vinod' & 'vinay' are arguments"
   ]
  },
  {
   "cell_type": "markdown",
   "id": "651f9587",
   "metadata": {},
   "source": [
    "Number of Arguments\n",
    "--\n",
    "By default, a function must be called with the correct number of arguments. Meaning that if your function expects 2 arguments, you have to call the function with 2 arguments, not more, and not less."
   ]
  },
  {
   "cell_type": "code",
   "execution_count": 10,
   "id": "0e22fc84",
   "metadata": {},
   "outputs": [
    {
     "name": "stdout",
     "output_type": "stream",
     "text": [
      "vinod kumar\n"
     ]
    }
   ],
   "source": [
    "# This function expects 2 arguments, and gets 2 arguments:\n",
    "\n",
    "def my_func(fname,lname):\n",
    "    print(fname + \" \" + lname)\n",
    "my_func('vinod','kumar')"
   ]
  },
  {
   "cell_type": "markdown",
   "id": "5f70f1f1",
   "metadata": {},
   "source": [
    "**If you try to call the function with 1 or 3 arguments, you will get an error:**"
   ]
  },
  {
   "cell_type": "markdown",
   "id": "50e954e3",
   "metadata": {},
   "source": [
    "1] Arbitrary Arguments, *args\n",
    "--\n",
    "If you do not know how many arguments that will be passed into your function, add a * before the parameter name in the function definition.\n",
    "\n",
    "**This way the function will receive a tuple of arguments, and can access the items accordingly:**"
   ]
  },
  {
   "cell_type": "code",
   "execution_count": 12,
   "id": "7d46a2b1",
   "metadata": {},
   "outputs": [
    {
     "name": "stdout",
     "output_type": "stream",
     "text": [
      "my kids are  ('vinod', 'vinay', 'krishh')\n"
     ]
    }
   ],
   "source": [
    "# If the number of arguments is unknown, add a * before the parameter name:\n",
    "\n",
    "def my_func(*kids):\n",
    "    print('my kids are ', kids)\n",
    "my_func('vinod','vinay','krishh')"
   ]
  },
  {
   "cell_type": "code",
   "execution_count": 13,
   "id": "57a12f81",
   "metadata": {},
   "outputs": [
    {
     "name": "stdout",
     "output_type": "stream",
     "text": [
      "my younger kid is krishh\n"
     ]
    }
   ],
   "source": [
    "# If the number of arguments is unknown, add a * before the parameter name:\n",
    "\n",
    "def my_func(*kids):\n",
    "    print('my younger kid is '+ kids[2])\n",
    "my_func('vinod','vinay','krishh')"
   ]
  },
  {
   "cell_type": "markdown",
   "id": "c548c177",
   "metadata": {},
   "source": [
    "***Arbitrary Arguments are often shortened to *args in Python documentations.***"
   ]
  },
  {
   "cell_type": "markdown",
   "id": "6958088e",
   "metadata": {},
   "source": [
    "2] Keyword Arguments , kwargs\n",
    "--\n",
    "You can also send arguments with the key = value syntax.\n",
    "\n",
    "This way the order of the arguments does not matter."
   ]
  },
  {
   "cell_type": "code",
   "execution_count": 14,
   "id": "9bd6e3a7",
   "metadata": {},
   "outputs": [
    {
     "name": "stdout",
     "output_type": "stream",
     "text": [
      "the youngest child is krishh\n"
     ]
    }
   ],
   "source": [
    "def my_func(child3,child1,child2):\n",
    "    print('the youngest child is ' + child3)\n",
    "    \n",
    "my_func(child1='vinod',child2='vinay',child3='krishh')"
   ]
  },
  {
   "cell_type": "markdown",
   "id": "75cecc9a",
   "metadata": {},
   "source": [
    "***The phrase Keyword Arguments are often shortened to kwargs in Python documentations.***"
   ]
  },
  {
   "cell_type": "markdown",
   "id": "011f7e3e",
   "metadata": {},
   "source": [
    "3] Arbitrary Keyword Arguments, **kwargs\n",
    "--\n",
    "If you do not know how many keyword arguments that will be passed into your function, add two asterisk: ** before the parameter name in the function definition.\n",
    "\n",
    "**This way the function will receive a dictionary of arguments, and can access the items accordingly:**"
   ]
  },
  {
   "cell_type": "code",
   "execution_count": 15,
   "id": "a0f7e236",
   "metadata": {},
   "outputs": [
    {
     "name": "stdout",
     "output_type": "stream",
     "text": [
      "his  name is  {'fname': 'vinod', 'lname': 'kumar'}\n"
     ]
    }
   ],
   "source": [
    "# If the number of keyword arguments is unknown, add a double ** before the parameter name:\n",
    "\n",
    "def my_func(**kid):\n",
    "    print(\"his  name is \" , kid)\n",
    "    \n",
    "my_func(fname='vinod',lname='kumar')"
   ]
  },
  {
   "cell_type": "code",
   "execution_count": 17,
   "id": "95197790",
   "metadata": {},
   "outputs": [
    {
     "name": "stdout",
     "output_type": "stream",
     "text": [
      "his last name is kumar\n"
     ]
    }
   ],
   "source": [
    "# If the number of keyword arguments is unknown, add a double ** before the parameter name:\n",
    "\n",
    "def my_func(**kid):\n",
    "    print(\"his last name is \" + kid['lname'])\n",
    "    \n",
    "my_func(fname='vinod',lname='kumar')"
   ]
  },
  {
   "cell_type": "markdown",
   "id": "411c145d",
   "metadata": {},
   "source": [
    "**Arbitrary Kword Arguments are often shortened to **kwargs in Python documentations.**"
   ]
  },
  {
   "cell_type": "markdown",
   "id": "03a4f8be",
   "metadata": {},
   "source": [
    "4] Default Parameter Value\n",
    "--\n",
    "The following example shows how to use a default parameter value.\n",
    "\n",
    "**If we call the function without argument, it uses the default value:**"
   ]
  },
  {
   "cell_type": "code",
   "execution_count": 19,
   "id": "70d53e14",
   "metadata": {},
   "outputs": [
    {
     "name": "stdout",
     "output_type": "stream",
     "text": [
      "I am from india\n",
      "I am from china\n",
      "I am from Japan\n",
      "I am from brazil\n"
     ]
    }
   ],
   "source": [
    "def my_func(country = 'Japan'):\n",
    "    print('I am from ' + country)\n",
    "    \n",
    "my_func('india')\n",
    "my_func('china')\n",
    "my_func()\n",
    "my_func('brazil')"
   ]
  },
  {
   "cell_type": "markdown",
   "id": "558dc35c",
   "metadata": {},
   "source": [
    "Passing a List as an Argument\n",
    "--\n",
    "**You can send any data types of argument to a function (string, number, list, dictionary etc.), and it will be treated as the same data type inside the function.**\n",
    "\n",
    "E.g. if you send a List as an argument, it will still be a List when it reaches the function:"
   ]
  },
  {
   "cell_type": "code",
   "execution_count": 20,
   "id": "0bc5ba1c",
   "metadata": {},
   "outputs": [
    {
     "name": "stdout",
     "output_type": "stream",
     "text": [
      "apple\n",
      "banana\n",
      "kiwi\n"
     ]
    }
   ],
   "source": [
    "def my_func(food):\n",
    "    for x in food:\n",
    "        print(x)\n",
    "fruits = ['apple','banana','kiwi']\n",
    "my_func(fruits)"
   ]
  },
  {
   "cell_type": "markdown",
   "id": "d4066bd4",
   "metadata": {},
   "source": [
    "Return Values\n",
    "--\n",
    "To let a function return a value, use the return statement:"
   ]
  },
  {
   "cell_type": "code",
   "execution_count": 21,
   "id": "d3a668fe",
   "metadata": {},
   "outputs": [
    {
     "data": {
      "text/plain": [
       "30"
      ]
     },
     "execution_count": 21,
     "metadata": {},
     "output_type": "execute_result"
    }
   ],
   "source": [
    "def my_func(x):\n",
    "    return 5 * x\n",
    "\n",
    "my_func(3)\n",
    "my_func(5)\n",
    "my_func(6) #without print it taken last argument"
   ]
  },
  {
   "cell_type": "code",
   "execution_count": 22,
   "id": "522da8d4",
   "metadata": {},
   "outputs": [
    {
     "name": "stdout",
     "output_type": "stream",
     "text": [
      "15\n",
      "25\n",
      "30\n"
     ]
    }
   ],
   "source": [
    "def my_func(x):\n",
    "    return 5 * x\n",
    "\n",
    "print(my_func(3))\n",
    "print(my_func(5))\n",
    "print(my_func(6))"
   ]
  },
  {
   "cell_type": "markdown",
   "id": "a8a592d4",
   "metadata": {},
   "source": [
    "The pass Statement\n",
    "--\n",
    "function definitions cannot be empty, but if you for some reason have a function definition with no content, put in the pass statement to avoid getting an error."
   ]
  },
  {
   "cell_type": "code",
   "execution_count": 23,
   "id": "9a1c0174",
   "metadata": {},
   "outputs": [],
   "source": [
    "def myfunction():\n",
    "    pass"
   ]
  },
  {
   "cell_type": "code",
   "execution_count": 24,
   "id": "e6b05140",
   "metadata": {},
   "outputs": [
    {
     "name": "stdout",
     "output_type": "stream",
     "text": [
      "\n",
      "\n",
      "Recursion Example Results\n",
      "1\n",
      "3\n",
      "6\n",
      "10\n",
      "15\n",
      "21\n"
     ]
    },
    {
     "data": {
      "text/plain": [
       "21"
      ]
     },
     "execution_count": 24,
     "metadata": {},
     "output_type": "execute_result"
    }
   ],
   "source": [
    "def tri_recursion(k):\n",
    "  if(k > 0):\n",
    "    result = k + tri_recursion(k - 1)\n",
    "    print(result)\n",
    "  else:\n",
    "    result = 0\n",
    "  return result\n",
    "\n",
    "print(\"\\n\\nRecursion Example Results\")\n",
    "tri_recursion(6)"
   ]
  },
  {
   "cell_type": "code",
   "execution_count": null,
   "id": "8f6482a8",
   "metadata": {},
   "outputs": [],
   "source": []
  }
 ],
 "metadata": {
  "kernelspec": {
   "display_name": "Python 3 (ipykernel)",
   "language": "python",
   "name": "python3"
  },
  "language_info": {
   "codemirror_mode": {
    "name": "ipython",
    "version": 3
   },
   "file_extension": ".py",
   "mimetype": "text/x-python",
   "name": "python",
   "nbconvert_exporter": "python",
   "pygments_lexer": "ipython3",
   "version": "3.9.12"
  }
 },
 "nbformat": 4,
 "nbformat_minor": 5
}
