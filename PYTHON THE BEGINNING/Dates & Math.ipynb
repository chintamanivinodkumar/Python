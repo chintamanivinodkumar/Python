{
 "cells": [
  {
   "cell_type": "markdown",
   "id": "da386bec",
   "metadata": {},
   "source": [
    "Python Datetime\n",
    "--\n",
    "\n",
    "Python Dates\n",
    "--\n",
    "A date in Python is not a data type of its own, but we can import a module named datetime to work with dates as date objects."
   ]
  },
  {
   "cell_type": "code",
   "execution_count": 1,
   "id": "0b614110",
   "metadata": {},
   "outputs": [
    {
     "name": "stdout",
     "output_type": "stream",
     "text": [
      "2023-02-22 21:34:37.472916\n"
     ]
    }
   ],
   "source": [
    "# Import the datetime module and display the current date:\n",
    "\n",
    "import datetime\n",
    "\n",
    "x = datetime.datetime.now()\n",
    "print(x)"
   ]
  },
  {
   "cell_type": "markdown",
   "id": "03447a5d",
   "metadata": {},
   "source": [
    "Date Output\n",
    "--\n",
    "When we execute the code from the example above the result will be:\n",
    "\n",
    "2023-02-22 21:34:37.472916\n",
    "The date contains year, month, day, hour, minute, second, and microsecond.\n",
    "\n",
    "The datetime module has many methods to return information about the date object.\n",
    "\n",
    "Here are a few examples, you will learn more about them later in this chapter:"
   ]
  },
  {
   "cell_type": "code",
   "execution_count": 6,
   "id": "844a1a0d",
   "metadata": {},
   "outputs": [
    {
     "name": "stdout",
     "output_type": "stream",
     "text": [
      "2023\n",
      "Wednesday\n"
     ]
    }
   ],
   "source": [
    "# Return the year and name of weekday:\n",
    "\n",
    "import datetime\n",
    "\n",
    "x = datetime.datetime.now()\n",
    "print(x.year)\n",
    "print(x.strftime(\"%A\"))"
   ]
  },
  {
   "cell_type": "markdown",
   "id": "fe763c32",
   "metadata": {},
   "source": [
    "Creating Date Objects\n",
    "--\n",
    "To create a date, we can use the datetime() class (constructor) of the datetime module.\n",
    "\n",
    "The datetime() class requires three parameters to create a date: year, month, day."
   ]
  },
  {
   "cell_type": "code",
   "execution_count": 7,
   "id": "72585391",
   "metadata": {},
   "outputs": [
    {
     "name": "stdout",
     "output_type": "stream",
     "text": [
      "2020-05-17 00:00:00\n"
     ]
    }
   ],
   "source": [
    "import datetime\n",
    "\n",
    "x = datetime.datetime(2020,5,17)\n",
    "print(x)"
   ]
  },
  {
   "cell_type": "markdown",
   "id": "a575d3dc",
   "metadata": {},
   "source": [
    "**The datetime() class also takes parameters for time and timezone (hour, minute, second, microsecond, tzone), but they are optional, and has a default value of 0, (None for timezone).**"
   ]
  },
  {
   "cell_type": "code",
   "execution_count": 11,
   "id": "6715df43",
   "metadata": {},
   "outputs": [
    {
     "name": "stdout",
     "output_type": "stream",
     "text": [
      "2020-05-17 23:59:59.000245\n"
     ]
    }
   ],
   "source": [
    "import datetime\n",
    "\n",
    "x = datetime.datetime(2020,5,17,23,59,59,245) # with hrs,mins,secs & micro seconds\n",
    "print(x)"
   ]
  },
  {
   "cell_type": "markdown",
   "id": "c83fea1c",
   "metadata": {},
   "source": [
    "The strftime() Method\n",
    "--\n",
    "The datetime object has a method for formatting date objects into readable strings.\n",
    "\n",
    "The method is called strftime(), and takes one parameter, format, to specify the format of the returned string:"
   ]
  },
  {
   "cell_type": "code",
   "execution_count": 12,
   "id": "719ce244",
   "metadata": {},
   "outputs": [
    {
     "name": "stdout",
     "output_type": "stream",
     "text": [
      "February\n"
     ]
    }
   ],
   "source": [
    "# Display the name of the month:\n",
    "\n",
    "import datetime\n",
    "\n",
    "x = datetime.datetime.now()\n",
    "\n",
    "print(x.strftime(\"%B\"))"
   ]
  },
  {
   "cell_type": "code",
   "execution_count": 13,
   "id": "33e7ba45",
   "metadata": {},
   "outputs": [
    {
     "name": "stdout",
     "output_type": "stream",
     "text": [
      "June\n"
     ]
    }
   ],
   "source": [
    "# Display the name of the month:\n",
    "\n",
    "import datetime\n",
    "\n",
    "x = datetime.datetime(2018,6,24)\n",
    "\n",
    "print(x.strftime(\"%B\"))"
   ]
  },
  {
   "cell_type": "code",
   "execution_count": 26,
   "id": "b50dc11a",
   "metadata": {},
   "outputs": [
    {
     "name": "stdout",
     "output_type": "stream",
     "text": [
      "Sunday\n",
      "June\n",
      "20\n",
      "06/24/18\n",
      "2018-06-24\n",
      "2018\n",
      "00\n",
      "12\n",
      "00\n"
     ]
    }
   ],
   "source": [
    "import datetime\n",
    "\n",
    "x = datetime.datetime(2018,6,24)\n",
    "\n",
    "print(x.strftime(\"%A\"))\n",
    "print(x.strftime(\"%B\"))\n",
    "print(x.strftime(\"%C\"))\n",
    "print(x.strftime(\"%D\"))\n",
    "# print(x.strftime(\"%E\")) error\n",
    "print(x.strftime(\"%F\"))\n",
    "print(x.strftime(\"%G\"))\n",
    "print(x.strftime(\"%H\"))\n",
    "print(x.strftime(\"%I\"))\n",
    "# print(x.strftime(\"%J\")) error\n",
    "# print(x.strftime(\"%K\"))\n",
    "#print(x.strftime(\"%L\"))"
   ]
  },
  {
   "cell_type": "code",
   "execution_count": 35,
   "id": "fbcbda54",
   "metadata": {},
   "outputs": [
    {
     "name": "stdout",
     "output_type": "stream",
     "text": [
      "Wednesday\n",
      "February\n",
      "20\n",
      "02/22/23\n",
      "2023-02-22\n",
      "2023\n",
      "21\n",
      "09\n"
     ]
    }
   ],
   "source": [
    "import datetime\n",
    "\n",
    "x = datetime.datetime.now()\n",
    "\n",
    "print(x.strftime(\"%A\"))\n",
    "print(x.strftime(\"%B\"))\n",
    "print(x.strftime(\"%C\"))\n",
    "print(x.strftime(\"%D\"))\n",
    "# print(x.strftime(\"%E\"))\n",
    "print(x.strftime(\"%F\"))\n",
    "print(x.strftime(\"%G\"))\n",
    "print(x.strftime(\"%H\"))\n",
    "print(x.strftime(\"%I\"))\n",
    "#print(x.strftime(\"%J\"))\n",
    "#print(x.strftime(\"%K\"))\n",
    "#print(x.strftime(\"%L\"))"
   ]
  },
  {
   "cell_type": "markdown",
   "id": "462dd00b",
   "metadata": {},
   "source": [
    "A reference of all the legal format codes:\n",
    "--"
   ]
  },
  {
   "cell_type": "raw",
   "id": "1b99d6fc",
   "metadata": {},
   "source": [
    "Directive\tDescription\t                                 Example\t\n",
    "=========   ===========                                  =======\n",
    "\n",
    "%a\t        Weekday, short version\t                     Wed\t\n",
    "\n",
    "%A\t        Weekday, full version\t                     Wednesday\t\n",
    "\n",
    "%w\t        Weekday as a number 0-6, 0 is Sunday\t     3\t\n",
    "\n",
    "%d\t        Day of month 01-31\t                         31\t\n",
    "\n",
    "%b\t        Month name, short version\t                 Dec\t\n",
    "\n",
    "%B\t        Month name, full version\t                 December\t\n",
    "\n",
    "%m\t        Month as a number 01-12\t                     12\t\n",
    "\n",
    "%y\t        Year, short version, without century\t     18\t\n",
    "\n",
    "%Y\t        Year, full version\t                         2018\t\n",
    "\n",
    "%H\t        Hour 00-23\t                                 17\t\n",
    "\n",
    "%I\t        Hour 00-12\t                                 05\n",
    "\n",
    "%p\t        AM/PM\t                                     PM\t\n",
    "\n",
    "%M\t        Minute 00-59\t                             41\t\n",
    "\n",
    "%S\t        Second 00-59\t                             08\t\n",
    "\n",
    "%f\t        Microsecond 000000-999999\t                 548513\t\n",
    "\n",
    "%z\t        UTC offset                                 \t+0100\t\n",
    "\n",
    "%Z\t        Timezone\t                                 CST\t\n",
    "\n",
    "%j\t        Day number of year 001-366\t                 365\t\n",
    "\n",
    "%U\t        Week number of year, Sunday as the \n",
    "            first day of week, 00-53\t                 52\t\n",
    "            \n",
    "%W\t       Week number of year, Monday as the \n",
    "           first day of week, 00-53\t                     52\t\n",
    "           \n",
    "%c\t       Local version of date and time\t           Mon Dec 31 17:41:00 2018\t\n",
    "%C\t        Century\t                                     20\t\n",
    "\n",
    "%x\t        Local version of date\t                     12/31/18\t\n",
    "\n",
    "%X\t        Local version of time\t                     17:41:00\n",
    "\n",
    "%%\t        A % character\t                             %\t\n",
    "\n",
    "%G\t        ISO 8601 year\t                             2018\t\n",
    "\n",
    "%u\t        ISO 8601 weekday (1-7)\t                     1\n",
    "\n",
    "%V\t        ISO 8601 weeknumber (01-53)\t                 01"
   ]
  },
  {
   "cell_type": "markdown",
   "id": "0ce5511a",
   "metadata": {},
   "source": [
    "Python Math\n",
    "--"
   ]
  },
  {
   "cell_type": "markdown",
   "id": "a9acd0c9",
   "metadata": {},
   "source": [
    "Python has a set of built-in math functions, including an extensive math module, that allows you to perform mathematical tasks on numbers.\n",
    "\n"
   ]
  },
  {
   "cell_type": "markdown",
   "id": "956f143d",
   "metadata": {},
   "source": [
    "Built-in Math Functions\n",
    "--\n",
    "The min() and max() functions can be used to find the lowest or highest value in an iterable:"
   ]
  },
  {
   "cell_type": "code",
   "execution_count": 36,
   "id": "e89fbb6c",
   "metadata": {},
   "outputs": [
    {
     "name": "stdout",
     "output_type": "stream",
     "text": [
      "2\n",
      "35\n"
     ]
    }
   ],
   "source": [
    "x = min(5,10,7,2)\n",
    "y = max(23,34,35,3)\n",
    "\n",
    "print(x)\n",
    "print(y)"
   ]
  },
  {
   "cell_type": "markdown",
   "id": "44fe47ec",
   "metadata": {},
   "source": [
    "**The abs() function returns the absolute (positive) value of the specified number:**"
   ]
  },
  {
   "cell_type": "code",
   "execution_count": 37,
   "id": "1d9c046f",
   "metadata": {},
   "outputs": [
    {
     "name": "stdout",
     "output_type": "stream",
     "text": [
      "7.25\n"
     ]
    }
   ],
   "source": [
    "x = abs(-7.25)\n",
    "\n",
    "print(x)"
   ]
  },
  {
   "cell_type": "markdown",
   "id": "47736cfd",
   "metadata": {},
   "source": [
    "**The pow(x, y) function returns the value of x to the power of y (xy).**"
   ]
  },
  {
   "cell_type": "code",
   "execution_count": 38,
   "id": "5175c468",
   "metadata": {},
   "outputs": [
    {
     "name": "stdout",
     "output_type": "stream",
     "text": [
      "8\n"
     ]
    }
   ],
   "source": [
    "# Return the value of 2 to the power of 3 (same as 2 * 2 * 2):\n",
    "\n",
    "x = pow(2,3)\n",
    "print(x)"
   ]
  },
  {
   "cell_type": "markdown",
   "id": "c57e0dbd",
   "metadata": {},
   "source": [
    "The Math Module\n",
    "--\n",
    "Python has also a built-in module called math, which extends the list of mathematical functions.\n",
    "\n",
    "To use it, you must import the math module:"
   ]
  },
  {
   "cell_type": "code",
   "execution_count": 39,
   "id": "7259179b",
   "metadata": {},
   "outputs": [],
   "source": [
    "import math"
   ]
  },
  {
   "cell_type": "markdown",
   "id": "18a5c0aa",
   "metadata": {},
   "source": [
    "When you have imported the math module, you can start using methods and constants of the module.\n",
    "\n",
    "The math.sqrt() method for example, returns the square root of a number:"
   ]
  },
  {
   "cell_type": "code",
   "execution_count": 40,
   "id": "8726ebb5",
   "metadata": {},
   "outputs": [
    {
     "name": "stdout",
     "output_type": "stream",
     "text": [
      "['__doc__', '__loader__', '__name__', '__package__', '__spec__', 'acos', 'acosh', 'asin', 'asinh', 'atan', 'atan2', 'atanh', 'ceil', 'comb', 'copysign', 'cos', 'cosh', 'degrees', 'dist', 'e', 'erf', 'erfc', 'exp', 'expm1', 'fabs', 'factorial', 'floor', 'fmod', 'frexp', 'fsum', 'gamma', 'gcd', 'hypot', 'inf', 'isclose', 'isfinite', 'isinf', 'isnan', 'isqrt', 'lcm', 'ldexp', 'lgamma', 'log', 'log10', 'log1p', 'log2', 'modf', 'nan', 'nextafter', 'perm', 'pi', 'pow', 'prod', 'radians', 'remainder', 'sin', 'sinh', 'sqrt', 'tan', 'tanh', 'tau', 'trunc', 'ulp']\n"
     ]
    }
   ],
   "source": [
    "import math\n",
    "\n",
    "x = dir(math)\n",
    "print(x)"
   ]
  },
  {
   "cell_type": "code",
   "execution_count": 41,
   "id": "5d286f63",
   "metadata": {},
   "outputs": [
    {
     "name": "stdout",
     "output_type": "stream",
     "text": [
      "8.0\n"
     ]
    }
   ],
   "source": [
    "import math\n",
    "\n",
    "x = math.sqrt(64)\n",
    "print(x)"
   ]
  },
  {
   "cell_type": "markdown",
   "id": "47bf32a1",
   "metadata": {},
   "source": [
    "**The math.ceil() method rounds a number upwards to its nearest integer, and the math.floor() method rounds a number downwards to its nearest integer, and returns the result:**"
   ]
  },
  {
   "cell_type": "code",
   "execution_count": 42,
   "id": "6876f6e4",
   "metadata": {},
   "outputs": [
    {
     "name": "stdout",
     "output_type": "stream",
     "text": [
      "5\n",
      "1\n"
     ]
    }
   ],
   "source": [
    "import math\n",
    "\n",
    "x = math.ceil(4.2)\n",
    "y = math.floor(1.9)\n",
    "\n",
    "print(x)\n",
    "print(y)"
   ]
  },
  {
   "cell_type": "markdown",
   "id": "ecde34b0",
   "metadata": {},
   "source": [
    "**The math.pi constant, returns the value of PI (3.14...):**"
   ]
  },
  {
   "cell_type": "code",
   "execution_count": 44,
   "id": "3987c191",
   "metadata": {},
   "outputs": [
    {
     "name": "stdout",
     "output_type": "stream",
     "text": [
      "3.141592653589793\n"
     ]
    }
   ],
   "source": [
    "import math\n",
    "\n",
    "x = math.pi\n",
    "print(x)"
   ]
  },
  {
   "cell_type": "markdown",
   "id": "4d1f2302",
   "metadata": {},
   "source": [
    "Math Methods\n",
    "--"
   ]
  },
  {
   "cell_type": "raw",
   "id": "99ed0ac9",
   "metadata": {},
   "source": [
    "Method\t           Description\n",
    "======             ===========\n",
    "\n",
    "math.acos()\t       Returns the arc cosine of a number\n",
    "\n",
    "math.acosh()\t   Returns the inverse hyperbolic cosine of a number\n",
    "\n",
    "math.asin()\t       Returns the arc sine of a number\n",
    "\n",
    "math.asinh()\t   Returns the inverse hyperbolic sine of a number\n",
    "\n",
    "math.atan()\t       Returns the arc tangent of a number in radians\n",
    "\n",
    "math.atan2()\t   Returns the arc tangent of y/x in radians\n",
    "\n",
    "math.atanh()\t   Returns the inverse hyperbolic tangent of a number\n",
    "\n",
    "math.ceil()    \t   Rounds a number up to the nearest integer\n",
    "\n",
    "math.comb()\t       Returns the number of ways to choose k items from n items                      without repetition and order\n",
    "\n",
    "math.copysign()\t   Returns a float consisting of the value of the first                            parameter and the sign of the second parameter\n",
    "\n",
    "math.cos()\t       Returns the cosine of a number\n",
    "\n",
    "math.cosh()\t       Returns the hyperbolic cosine of a number\n",
    "\n",
    "math.degrees()\t   Converts an angle from radians to degrees\n",
    "\n",
    "math.dist()        Returns the Euclidean distance between two points (p and q),                    where p and q are the coordinates of that point\n",
    "\n",
    "math.erf()\t       Returns the error function of a number\n",
    "\n",
    "math.erfc()\t       Returns the complementary error function of a number\n",
    "\n",
    "math.exp()\t       Returns E raised to the power of x\n",
    "\n",
    "math.expm1()\t   Returns Ex - 1\n",
    "\n",
    "math.fabs()        Returns the absolute value of a number\n",
    "\n",
    "math.factorial()\tReturns the factorial of a number\n",
    "math.floor()\tRounds a number down to the nearest integer\n",
    "math.fmod()\tReturns the remainder of x/y\n",
    "math.frexp()\tReturns the mantissa and the exponent, of a specified number\n",
    "math.fsum()\tReturns the sum of all items in any iterable (tuples, arrays, lists, etc.)\n",
    "math.gamma()\tReturns the gamma function at x\n",
    "math.gcd()\tReturns the greatest common divisor of two integers\n",
    "math.hypot()\tReturns the Euclidean norm\n",
    "math.isclose()\tChecks whether two values are close to each other, or not\n",
    "math.isfinite()\tChecks whether a number is finite or not\n",
    "math.isinf()\tChecks whether a number is infinite or not\n",
    "math.isnan()\tChecks whether a value is NaN (not a number) or not\n",
    "math.isqrt()\tRounds a square root number downwards to the nearest integer\n",
    "math.ldexp()\tReturns the inverse of math.frexp() which is x * (2**i) of the given numbers x and i\n",
    "math.lgamma()\tReturns the log gamma value of x\n",
    "math.log()\tReturns the natural logarithm of a number, or the logarithm of number to base\n",
    "math.log10()\tReturns the base-10 logarithm of x\n",
    "math.log1p()\tReturns the natural logarithm of 1+x\n",
    "math.log2()\tReturns the base-2 logarithm of x\n",
    "math.perm()\tReturns the number of ways to choose k items from n items with order and without repetition\n",
    "math.pow()\tReturns the value of x to the power of y\n",
    "math.prod()\tReturns the product of all the elements in an iterable\n",
    "math.radians()\tConverts a degree value into radians\n",
    "math.remainder()\tReturns the closest value that can make numerator completely divisible by the denominator\n",
    "math.sin()\tReturns the sine of a number\n",
    "math.sinh()\tReturns the hyperbolic sine of a number\n",
    "math.sqrt()\tReturns the square root of a number\n",
    "math.tan()\tReturns the tangent of a number\n",
    "math.tanh()\tReturns the hyperbolic tangent of a number\n",
    "math.trunc()\tReturns the truncated integer parts of a number"
   ]
  },
  {
   "cell_type": "markdown",
   "id": "e0284e94",
   "metadata": {},
   "source": [
    "Math Constants\n",
    "--"
   ]
  },
  {
   "cell_type": "raw",
   "id": "ce68c1ca",
   "metadata": {},
   "source": [
    "Constant\tDescription\n",
    "========    ===========\n",
    "\n",
    "math.e\t    Returns Euler's number (2.7182...)\n",
    "\n",
    "math.inf\tReturns a floating-point positive infinity\n",
    "\n",
    "math.nan\tReturns a floating-point NaN (Not a Number) value\n",
    "\n",
    "math.pi\t    Returns PI (3.1415...)\n",
    "\n",
    "math.tau\tReturns tau (6.2831...)"
   ]
  },
  {
   "cell_type": "markdown",
   "id": "835449c6",
   "metadata": {},
   "source": [
    "Python cmath Module\n",
    "--\n",
    "Python has a built-in module that you can use for mathematical tasks for complex numbers.\n",
    "\n",
    "The methods in this module accepts int, float, and complex numbers. It even accepts Python objects that has a __complex__() or __float__() method.\n",
    "\n",
    "The methods in this module almost always return a complex number. If the return value can be expressed as a real number, the return value has an imaginary part of 0.\n",
    "\n",
    "The cmath module has a set of methods and constants."
   ]
  },
  {
   "cell_type": "markdown",
   "id": "a21b500d",
   "metadata": {},
   "source": [
    "cMath Method\n",
    "--"
   ]
  },
  {
   "cell_type": "raw",
   "id": "f179d3f0",
   "metadata": {},
   "source": [
    "Method\t        Description\n",
    "======          ===========\n",
    "\n",
    "cmath.acos(x)\tReturns the arc cosine value of x\n",
    "cmath.acosh(x)\tReturns the hyperbolic arc cosine of x\n",
    "cmath.asin(x)\tReturns the arc sine of x\n",
    "cmath.asinh(x)\tReturns the hyperbolic arc sine of x\n",
    "cmath.atan(x)\tReturns the arc tangent value of x\n",
    "cmath.atanh(x)\tReturns the hyperbolic arctangent value of x\n",
    "cmath.cos(x)\tReturns the cosine of x\n",
    "cmath.cosh(x)\tReturns the hyperbolic cosine of x\n",
    "\n",
    "cmath.exp(x)\tReturns the value of Ex, where E is Euler's number                             (approximately 2.718281...), and x is the number passed to it\n",
    "\n",
    "cmath.isclose()\tChecks whether two values are close, or not\n",
    "\n",
    "cmath.isfinite(x)\tChecks whether x is a finite number\n",
    "\n",
    "cmath.isinf(x)\tCheck whether x is a positive or negative infinty\n",
    "\n",
    "cmath.isnan(x)\tChecks whether x is NaN (not a number)\n",
    "\n",
    "cmath.log(x[, base])\tReturns the logarithm of x to the base\n",
    "\n",
    "cmath.log10(x)\tReturns the base-10 logarithm of x\n",
    "cmath.phase()\tReturn the phase of a complex number\n",
    "cmath.polar()\tConvert a complex number to polar coordinates\n",
    "cmath.rect()\tConvert polar coordinates to rectangular form\n",
    "cmath.sin(x)\tReturns the sine of x\n",
    "cmath.sinh(x)\tReturns the hyperbolic sine of x\n",
    "cmath.sqrt(x)\tReturns the square root of x\n",
    "cmath.tan(x)\tReturns the tangent of x\n",
    "cmath.tanh(x)\tReturns the hyperbolic tangent of x"
   ]
  },
  {
   "cell_type": "markdown",
   "id": "194ca41a",
   "metadata": {},
   "source": [
    "cMath Constants\n",
    "--"
   ]
  },
  {
   "cell_type": "raw",
   "id": "727d1def",
   "metadata": {},
   "source": [
    "Constant\tDescription\n",
    "========    ===========\n",
    "cmath.e\t    Returns Euler's number (2.7182...)\n",
    "cmath.inf\tReturns a floating-point positive infinity value\n",
    "cmath.infj\tReturns a complex infinity value\n",
    "cmath.nan\tReturns floating-point NaN (Not a Number) value\n",
    "cmath.nanj\tReturns coplext NaN (Not a Number) value\n",
    "cmath.pi\tReturns PI (3.1415...)\n",
    "cmath.tau\tReturns tau (6.2831...)"
   ]
  },
  {
   "cell_type": "code",
   "execution_count": null,
   "id": "0a1cf44e",
   "metadata": {},
   "outputs": [],
   "source": []
  }
 ],
 "metadata": {
  "kernelspec": {
   "display_name": "Python 3 (ipykernel)",
   "language": "python",
   "name": "python3"
  },
  "language_info": {
   "codemirror_mode": {
    "name": "ipython",
    "version": 3
   },
   "file_extension": ".py",
   "mimetype": "text/x-python",
   "name": "python",
   "nbconvert_exporter": "python",
   "pygments_lexer": "ipython3",
   "version": "3.9.12"
  }
 },
 "nbformat": 4,
 "nbformat_minor": 5
}
