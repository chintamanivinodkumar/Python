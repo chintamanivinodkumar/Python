{
 "cells": [
  {
   "cell_type": "markdown",
   "id": "b4c51e9e",
   "metadata": {},
   "source": [
    "Python Dictionaries\n",
    "--\n",
    "Dictionary\n",
    "--\n",
    "Dictionaries are used to store data values in key:value pairs.\n",
    "\n",
    "A dictionary is a collection which is ordered*, changeable and do not allow duplicates."
   ]
  },
  {
   "cell_type": "code",
   "execution_count": 4,
   "id": "eebf4a9d",
   "metadata": {},
   "outputs": [
    {
     "name": "stdout",
     "output_type": "stream",
     "text": [
      "{'brand': 'Ford', 'model': 'Mustang', 'year': 1964}\n"
     ]
    }
   ],
   "source": [
    "thisdict = {\n",
    "  \"brand\": \"Ford\",\n",
    "  \"model\": \"Mustang\",\n",
    "  \"year\": 1964\n",
    "}\n",
    "print(thisdict)"
   ]
  },
  {
   "cell_type": "code",
   "execution_count": 5,
   "id": "f861d465",
   "metadata": {},
   "outputs": [
    {
     "name": "stdout",
     "output_type": "stream",
     "text": [
      "Ford\n"
     ]
    }
   ],
   "source": [
    "#Print the \"brand\" value of the dictionary:\n",
    "\n",
    "thisdict = {\n",
    "  \"brand\": \"Ford\",\n",
    "  \"model\": \"Mustang\",\n",
    "  \"year\": 1964\n",
    "}\n",
    "print(thisdict['brand'])"
   ]
  },
  {
   "cell_type": "markdown",
   "id": "b83001d4",
   "metadata": {},
   "source": [
    "Ordered or Unordered?\n",
    "--\n",
    "\n",
    "When we say that dictionaries are ordered, it means that the items have a defined order, and that order will not change.\n",
    "\n",
    "Unordered means that the items does not have a defined order, you cannot refer to an item by using an index.\n",
    "\n",
    "Changeable\n",
    "--\n",
    "Dictionaries are changeable, meaning that we can change, add or remove items after the dictionary has been created.\n",
    "\n",
    "Duplicates Not Allowed\n",
    "--\n",
    "Dictionaries cannot have two items with the same key:"
   ]
  },
  {
   "cell_type": "code",
   "execution_count": 8,
   "id": "e3ee1a4f",
   "metadata": {},
   "outputs": [
    {
     "name": "stdout",
     "output_type": "stream",
     "text": [
      "{'name': 'eren', 'age': 19, 'reg no': 41166, 'year': '2nd'}\n"
     ]
    }
   ],
   "source": [
    "# Duplicate values will overwrite existing values:\n",
    "\n",
    "dict1 = {'name':'eren',\n",
    "        'age':19,\n",
    "        'reg no':41166,\n",
    "        'year':'2023',\n",
    "        'year':'2nd'    #if same key repeated it takes last key value\n",
    "        }\n",
    "print(dict1)"
   ]
  },
  {
   "cell_type": "markdown",
   "id": "1f880dad",
   "metadata": {},
   "source": [
    "Dictionary Length\n",
    "--\n",
    "To determine how many items a dictionary has, use the len() function:"
   ]
  },
  {
   "cell_type": "code",
   "execution_count": 9,
   "id": "9da17e8d",
   "metadata": {},
   "outputs": [
    {
     "name": "stdout",
     "output_type": "stream",
     "text": [
      "{'name': 'eren', 'age': 19, 'reg no': 41166, 'year': '2nd'}\n",
      "4\n"
     ]
    }
   ],
   "source": [
    "# Duplicate values will overwrite existing values:\n",
    "\n",
    "dict1 = {'name':'eren',\n",
    "        'age':19,\n",
    "        'reg no':41166,\n",
    "        'year':'2023',\n",
    "        'year':'2nd'\n",
    "        }\n",
    "print(dict1)\n",
    "print(len(dict1))"
   ]
  },
  {
   "cell_type": "code",
   "execution_count": 10,
   "id": "f87e9b0f",
   "metadata": {},
   "outputs": [
    {
     "name": "stdout",
     "output_type": "stream",
     "text": [
      "5\n"
     ]
    }
   ],
   "source": [
    "thisdict = {\n",
    "  \"brand\": \"Ford\",\n",
    "  \"electric\": False,\n",
    "  \"year\": 1964,\n",
    "  \"colors\": [\"red\", \"white\", \"blue\"],\n",
    "    'owner':'eren'\n",
    "}\n",
    "print(len(thisdict))"
   ]
  },
  {
   "cell_type": "markdown",
   "id": "8bf0e60a",
   "metadata": {},
   "source": [
    "The dict() Constructor\n",
    "--\n",
    "It is also possible to use the dict() constructor to make a dictionary."
   ]
  },
  {
   "cell_type": "code",
   "execution_count": 13,
   "id": "8e179111",
   "metadata": {},
   "outputs": [
    {
     "name": "stdout",
     "output_type": "stream",
     "text": [
      "{'name': 'eren', 'age': 19, 'clg': 'klu'}\n"
     ]
    }
   ],
   "source": [
    "dict1 = dict(name='eren',age=19,clg='klu')\n",
    "print(dict1)"
   ]
  },
  {
   "cell_type": "markdown",
   "id": "59798c83",
   "metadata": {},
   "source": [
    "Python - Access Dictionary Items\n",
    "--"
   ]
  },
  {
   "cell_type": "code",
   "execution_count": 15,
   "id": "35947ff2",
   "metadata": {},
   "outputs": [
    {
     "name": "stdout",
     "output_type": "stream",
     "text": [
      "Mustang\n"
     ]
    }
   ],
   "source": [
    "# Get the value of the \"model\" key:\n",
    "\n",
    "thisdict = {\n",
    "  \"brand\": \"Ford\",\n",
    "  \"model\": \"Mustang\",\n",
    "  \"year\": 1964\n",
    "}\n",
    "print(thisdict[\"model\"])"
   ]
  },
  {
   "cell_type": "markdown",
   "id": "1d01ddfe",
   "metadata": {},
   "source": [
    "There is also a method called get() that will give you the same result:\n",
    "--\n",
    "\n",
    "get()\n",
    "--"
   ]
  },
  {
   "cell_type": "code",
   "execution_count": 16,
   "id": "2ee76e89",
   "metadata": {},
   "outputs": [
    {
     "name": "stdout",
     "output_type": "stream",
     "text": [
      "Mustang\n"
     ]
    }
   ],
   "source": [
    "# Get the value of the \"model\" key:\n",
    "\n",
    "thisdict = {\n",
    "  \"brand\": \"Ford\",\n",
    "  \"model\": \"Mustang\",\n",
    "  \"year\": 1964\n",
    "}\n",
    "print(thisdict.get('model'))"
   ]
  },
  {
   "cell_type": "markdown",
   "id": "f727c106",
   "metadata": {},
   "source": [
    "Get Keys\n",
    "--\n",
    "The keys() method will return a list of all the keys in the dictionary.\n",
    "\n",
    "keys()\n",
    "--"
   ]
  },
  {
   "cell_type": "code",
   "execution_count": 17,
   "id": "ac279f8d",
   "metadata": {},
   "outputs": [
    {
     "name": "stdout",
     "output_type": "stream",
     "text": [
      "dict_keys(['brand', 'model', 'year'])\n"
     ]
    }
   ],
   "source": [
    "# Get the value of the \"model\" key:\n",
    "\n",
    "thisdict = {\n",
    "  \"brand\": \"Ford\",\n",
    "  \"model\": \"Mustang\",\n",
    "  \"year\": 1964\n",
    "}\n",
    "print(thisdict.keys())"
   ]
  },
  {
   "cell_type": "code",
   "execution_count": 18,
   "id": "5dedfe5d",
   "metadata": {},
   "outputs": [
    {
     "name": "stdout",
     "output_type": "stream",
     "text": [
      "dict_keys(['brand', 'model', 'year'])\n",
      "dict_keys(['brand', 'model', 'year', 'color'])\n"
     ]
    }
   ],
   "source": [
    "car = {\n",
    "\"brand\": \"Ford\",\n",
    "\"model\": \"Mustang\",\n",
    "\"year\": 1964\n",
    "}\n",
    "\n",
    "x = car.keys()\n",
    "\n",
    "print(x) #before the change\n",
    "\n",
    "car[\"color\"] = \"white\"\n",
    "\n",
    "print(x) #after the change"
   ]
  },
  {
   "cell_type": "code",
   "execution_count": 20,
   "id": "1d486175",
   "metadata": {},
   "outputs": [
    {
     "name": "stdout",
     "output_type": "stream",
     "text": [
      "dict_keys(['name', 'age', 'regno', 'dept'])\n",
      "dict_keys(['name', 'age', 'regno', 'dept', 'Dob'])\n",
      "{'name': 'Vinod', 'age': 18, 'regno': 41166, 'dept': 'cse', 'Dob': 2002}\n"
     ]
    }
   ],
   "source": [
    "student = {'name':\"Vinod\",\n",
    "          'age':18,\n",
    "          'regno':41166,\n",
    "          'dept':\"cse\"\n",
    "          }\n",
    "x = student.keys()\n",
    "print(x)\n",
    "student['Dob'] = 2002\n",
    "print(x)\n",
    "print(student)"
   ]
  },
  {
   "cell_type": "markdown",
   "id": "154dc951",
   "metadata": {},
   "source": [
    "Get Values\n",
    "--\n",
    "The values() method will return a list of all the values in the dictionary.\n",
    "\n",
    "values()\n",
    "--"
   ]
  },
  {
   "cell_type": "code",
   "execution_count": 21,
   "id": "dc2fdd53",
   "metadata": {},
   "outputs": [
    {
     "name": "stdout",
     "output_type": "stream",
     "text": [
      "dict_values(['Vinod', 18, 41166, 'cse'])\n"
     ]
    }
   ],
   "source": [
    "student = {'name':\"Vinod\",\n",
    "          'age':18,\n",
    "          'regno':41166,\n",
    "          'dept':\"cse\"\n",
    "          }\n",
    "print(student.values())"
   ]
  },
  {
   "cell_type": "code",
   "execution_count": 22,
   "id": "5adb28dc",
   "metadata": {},
   "outputs": [
    {
     "name": "stdout",
     "output_type": "stream",
     "text": [
      "dict_values(['Vinod', 18, 41166, 'cse'])\n",
      "dict_values(['Vinod', 18, 41166, 'ece'])\n"
     ]
    }
   ],
   "source": [
    "student = {'name':\"Vinod\",\n",
    "          'age':18,\n",
    "          'regno':41166,\n",
    "          'dept':\"cse\"\n",
    "          }\n",
    "\n",
    "print(student.values())\n",
    "\n",
    "student['dept'] = 'ece'\n",
    "print(student.values())"
   ]
  },
  {
   "cell_type": "markdown",
   "id": "eee4fbb0",
   "metadata": {},
   "source": [
    "Get Items\n",
    "--\n",
    "The items() method will return each item in a dictionary, as tuples in a list.\n",
    "\n",
    "items()\n",
    "--"
   ]
  },
  {
   "cell_type": "code",
   "execution_count": 24,
   "id": "5194bb31",
   "metadata": {},
   "outputs": [
    {
     "name": "stdout",
     "output_type": "stream",
     "text": [
      "dict_items([('name', 'Vinod'), ('age', 18), ('regno', 41166), ('dept', 'cse')])\n",
      "dict_items([('name', 'Vinod'), ('age', 18), ('regno', 41166), ('dept', 'cse'), ('Dob', 2002)])\n"
     ]
    }
   ],
   "source": [
    "student = {'name':\"Vinod\",\n",
    "          'age':18,\n",
    "          'regno':41166,\n",
    "          'dept':\"cse\"\n",
    "          }\n",
    "print(student.items())\n",
    "student['Dob'] = 2002\n",
    "print(student.items())"
   ]
  },
  {
   "cell_type": "markdown",
   "id": "0b14ac2e",
   "metadata": {},
   "source": [
    "Check if Key Exists\n",
    "--\n",
    "To determine if a specified key is present in a dictionary use the in keyword:"
   ]
  },
  {
   "cell_type": "code",
   "execution_count": 25,
   "id": "59207315",
   "metadata": {},
   "outputs": [
    {
     "name": "stdout",
     "output_type": "stream",
     "text": [
      "Yes, 'model' is one of the keys in the thisdict dictionary\n"
     ]
    }
   ],
   "source": [
    "thisdict = {\n",
    "  \"brand\": \"Ford\",\n",
    "  \"model\": \"Mustang\",\n",
    "  \"year\": 1964\n",
    "}\n",
    "if \"model\" in thisdict:\n",
    "    print(\"Yes, 'model' is one of the keys in the thisdict dictionary\")"
   ]
  },
  {
   "cell_type": "markdown",
   "id": "c22ad000",
   "metadata": {},
   "source": [
    "Python - Change Dictionary Items\n",
    "--\n",
    "Change Values\n",
    "--\n",
    "You can change the value of a specific item by referring to its key name:"
   ]
  },
  {
   "cell_type": "code",
   "execution_count": 26,
   "id": "e6cff312",
   "metadata": {},
   "outputs": [
    {
     "name": "stdout",
     "output_type": "stream",
     "text": [
      "{'brand': 'Audi', 'model': 'Mustang', 'year': 1964}\n"
     ]
    }
   ],
   "source": [
    "thisdict = {\n",
    "  \"brand\": \"Ford\",\n",
    "  \"model\": \"Mustang\",\n",
    "  \"year\": 1964\n",
    "}\n",
    "thisdict['brand'] = 'Audi'\n",
    "print(thisdict)"
   ]
  },
  {
   "cell_type": "markdown",
   "id": "5a5e6983",
   "metadata": {},
   "source": [
    "Update Dictionary\n",
    "--\n",
    "The update() method will update the dictionary with the items from the given argument.\n",
    "\n",
    "The argument must be a dictionary, or an iterable object with key:value pairs.\n",
    "    \n",
    "update()\n",
    "--"
   ]
  },
  {
   "cell_type": "code",
   "execution_count": 27,
   "id": "a397d225",
   "metadata": {},
   "outputs": [
    {
     "name": "stdout",
     "output_type": "stream",
     "text": [
      "{'brand': 'jagwar', 'model': 'Mustang', 'year': 1964}\n"
     ]
    }
   ],
   "source": [
    "thisdict = {\n",
    "  \"brand\": \"Ford\",\n",
    "  \"model\": \"Mustang\",\n",
    "  \"year\": 1964\n",
    "}\n",
    "thisdict.update({'brand':'jagwar'})\n",
    "print(thisdict)"
   ]
  },
  {
   "cell_type": "markdown",
   "id": "568db96a",
   "metadata": {},
   "source": [
    "Python - Add Dictionary Items\n",
    "--"
   ]
  },
  {
   "cell_type": "code",
   "execution_count": 28,
   "id": "370f7a64",
   "metadata": {},
   "outputs": [
    {
     "name": "stdout",
     "output_type": "stream",
     "text": [
      "{'brand': 'Ford', 'model': 'Mustang', 'year': 1964, 'color': 'red'}\n"
     ]
    }
   ],
   "source": [
    "thisdict = {\n",
    "  \"brand\": \"Ford\",\n",
    "  \"model\": \"Mustang\",\n",
    "  \"year\": 1964\n",
    "}\n",
    "thisdict[\"color\"] = \"red\"\n",
    "print(thisdict)"
   ]
  },
  {
   "cell_type": "markdown",
   "id": "b5367e51",
   "metadata": {},
   "source": [
    "Python - Remove Dictionary Items\n",
    "--"
   ]
  },
  {
   "cell_type": "markdown",
   "id": "f21f567d",
   "metadata": {},
   "source": [
    "pop()\n",
    "--\n",
    "The pop() method removes the item with the specified key name:"
   ]
  },
  {
   "cell_type": "code",
   "execution_count": 30,
   "id": "a1891e22",
   "metadata": {},
   "outputs": [
    {
     "name": "stdout",
     "output_type": "stream",
     "text": [
      "{'model': 'Mustang', 'year': 1964}\n"
     ]
    }
   ],
   "source": [
    "thisdict = {\n",
    "  \"brand\": \"Ford\",\n",
    "  \"model\": \"Mustang\",\n",
    "  \"year\": 1964\n",
    "}\n",
    "thisdict.pop('brand')\n",
    "print(thisdict)"
   ]
  },
  {
   "cell_type": "markdown",
   "id": "4892ac80",
   "metadata": {},
   "source": [
    "popitem()\n",
    "--\n",
    "The popitem() method removes the last inserted item (in versions before 3.7, a random item is removed instead):"
   ]
  },
  {
   "cell_type": "code",
   "execution_count": 33,
   "id": "4fe2f54d",
   "metadata": {},
   "outputs": [
    {
     "name": "stdout",
     "output_type": "stream",
     "text": [
      "{'brand': 'Ford', 'model': 'Mustang'}\n"
     ]
    }
   ],
   "source": [
    "thisdict = {\n",
    "  \"brand\": \"Ford\",\n",
    "  \"model\": \"Mustang\",\n",
    "  \"year\": 1964\n",
    "}\n",
    "thisdict.popitem()\n",
    "print(thisdict)"
   ]
  },
  {
   "cell_type": "markdown",
   "id": "a6e4d2a3",
   "metadata": {},
   "source": [
    "clear()\n",
    "--\n",
    "The clear() method empties the dictionary:"
   ]
  },
  {
   "cell_type": "code",
   "execution_count": 37,
   "id": "9fd66963",
   "metadata": {},
   "outputs": [
    {
     "name": "stdout",
     "output_type": "stream",
     "text": [
      "{}\n"
     ]
    }
   ],
   "source": [
    "thisdict = {\n",
    "  \"brand\": \"Ford\",\n",
    "  \"model\": \"Mustang\",\n",
    "  \"year\": 1964\n",
    "}\n",
    "thisdict.clear()\n",
    "print(thisdict)"
   ]
  },
  {
   "cell_type": "markdown",
   "id": "3a5217ed",
   "metadata": {},
   "source": [
    "del()\n",
    "--\n",
    "The del keyword removes the item with the specified key name:"
   ]
  },
  {
   "cell_type": "code",
   "execution_count": 35,
   "id": "f26d55d3",
   "metadata": {},
   "outputs": [
    {
     "name": "stdout",
     "output_type": "stream",
     "text": [
      "{'brand': 'Ford', 'model': 'Mustang'}\n"
     ]
    }
   ],
   "source": [
    "thisdict = {\n",
    "  \"brand\": \"Ford\",\n",
    "  \"model\": \"Mustang\",\n",
    "  \"year\": 1964\n",
    "}\n",
    "del thisdict['year']\n",
    "print(thisdict)"
   ]
  },
  {
   "cell_type": "markdown",
   "id": "d2a832cc",
   "metadata": {},
   "source": [
    "The del keyword can also delete the dictionary completely:\n",
    "--"
   ]
  },
  {
   "cell_type": "code",
   "execution_count": 36,
   "id": "040189e8",
   "metadata": {},
   "outputs": [
    {
     "ename": "NameError",
     "evalue": "name 'thisdict' is not defined",
     "output_type": "error",
     "traceback": [
      "\u001b[1;31m---------------------------------------------------------------------------\u001b[0m",
      "\u001b[1;31mNameError\u001b[0m                                 Traceback (most recent call last)",
      "Input \u001b[1;32mIn [36]\u001b[0m, in \u001b[0;36m<cell line: 7>\u001b[1;34m()\u001b[0m\n\u001b[0;32m      1\u001b[0m thisdict \u001b[38;5;241m=\u001b[39m {\n\u001b[0;32m      2\u001b[0m   \u001b[38;5;124m\"\u001b[39m\u001b[38;5;124mbrand\u001b[39m\u001b[38;5;124m\"\u001b[39m: \u001b[38;5;124m\"\u001b[39m\u001b[38;5;124mFord\u001b[39m\u001b[38;5;124m\"\u001b[39m,\n\u001b[0;32m      3\u001b[0m   \u001b[38;5;124m\"\u001b[39m\u001b[38;5;124mmodel\u001b[39m\u001b[38;5;124m\"\u001b[39m: \u001b[38;5;124m\"\u001b[39m\u001b[38;5;124mMustang\u001b[39m\u001b[38;5;124m\"\u001b[39m,\n\u001b[0;32m      4\u001b[0m   \u001b[38;5;124m\"\u001b[39m\u001b[38;5;124myear\u001b[39m\u001b[38;5;124m\"\u001b[39m: \u001b[38;5;241m1964\u001b[39m\n\u001b[0;32m      5\u001b[0m }\n\u001b[0;32m      6\u001b[0m \u001b[38;5;28;01mdel\u001b[39;00m thisdict\n\u001b[1;32m----> 7\u001b[0m \u001b[38;5;28mprint\u001b[39m(\u001b[43mthisdict\u001b[49m)\n",
      "\u001b[1;31mNameError\u001b[0m: name 'thisdict' is not defined"
     ]
    }
   ],
   "source": [
    "thisdict = {\n",
    "  \"brand\": \"Ford\",\n",
    "  \"model\": \"Mustang\",\n",
    "  \"year\": 1964\n",
    "}\n",
    "del thisdict\n",
    "print(thisdict)"
   ]
  },
  {
   "cell_type": "markdown",
   "id": "9931878f",
   "metadata": {},
   "source": [
    "Python - Loop Dictionaries\n",
    "--\n",
    "Loop Through a Dictionary\n",
    "--\n",
    "You can loop through a dictionary by using a for loop.\n",
    "\n",
    "When looping through a dictionary, the return value are the keys of the dictionary, but there are methods to return the values as well."
   ]
  },
  {
   "cell_type": "code",
   "execution_count": 38,
   "id": "a6d0dbef",
   "metadata": {},
   "outputs": [
    {
     "name": "stdout",
     "output_type": "stream",
     "text": [
      "brand\n",
      "model\n",
      "year\n"
     ]
    }
   ],
   "source": [
    "#Print all key names in the dictionary, one by one:\n",
    "\n",
    "thisdict = {\n",
    "  \"brand\": \"Ford\",\n",
    "  \"model\": \"Mustang\",\n",
    "  \"year\": 1964\n",
    "}\n",
    "for x in thisdict:\n",
    "    print(x)"
   ]
  },
  {
   "cell_type": "code",
   "execution_count": 39,
   "id": "79b808b9",
   "metadata": {},
   "outputs": [
    {
     "name": "stdout",
     "output_type": "stream",
     "text": [
      "Ford\n",
      "Mustang\n",
      "1964\n"
     ]
    }
   ],
   "source": [
    "# Print all values in the dictionary, one by one:\n",
    "\n",
    "thisdict = {\n",
    "  \"brand\": \"Ford\",\n",
    "  \"model\": \"Mustang\",\n",
    "  \"year\": 1964\n",
    "}\n",
    "for x in thisdict:\n",
    "    print(thisdict[x])"
   ]
  },
  {
   "cell_type": "markdown",
   "id": "6567e17b",
   "metadata": {},
   "source": [
    "You can use the keys() method to return the keys of a dictionary:\n",
    "--"
   ]
  },
  {
   "cell_type": "code",
   "execution_count": 40,
   "id": "38c9d713",
   "metadata": {
    "scrolled": true
   },
   "outputs": [
    {
     "name": "stdout",
     "output_type": "stream",
     "text": [
      "brand\n",
      "model\n",
      "year\n"
     ]
    }
   ],
   "source": [
    "thisdict = {\n",
    "  \"brand\": \"Ford\",\n",
    "  \"model\": \"Mustang\",\n",
    "  \"year\": 1964\n",
    "}\n",
    "for x in thisdict.keys():\n",
    "    print(x)"
   ]
  },
  {
   "cell_type": "markdown",
   "id": "ceccbd71",
   "metadata": {},
   "source": [
    "You can also use the values() method to return values of a dictionary:\n",
    "--"
   ]
  },
  {
   "cell_type": "code",
   "execution_count": 41,
   "id": "4f0cd019",
   "metadata": {},
   "outputs": [
    {
     "name": "stdout",
     "output_type": "stream",
     "text": [
      "Ford\n",
      "Mustang\n",
      "1964\n"
     ]
    }
   ],
   "source": [
    "thisdict = {\n",
    "  \"brand\": \"Ford\",\n",
    "  \"model\": \"Mustang\",\n",
    "  \"year\": 1964\n",
    "}\n",
    "for x in thisdict.values():\n",
    "    print(x)"
   ]
  },
  {
   "cell_type": "markdown",
   "id": "74dc85f8",
   "metadata": {},
   "source": [
    "Loop through both keys and values, by using the items() method:\n",
    "--"
   ]
  },
  {
   "cell_type": "code",
   "execution_count": 42,
   "id": "c7fc8cd8",
   "metadata": {},
   "outputs": [
    {
     "name": "stdout",
     "output_type": "stream",
     "text": [
      "brand Ford\n",
      "model Mustang\n",
      "year 1964\n"
     ]
    }
   ],
   "source": [
    "thisdict = {\n",
    "  \"brand\": \"Ford\",\n",
    "  \"model\": \"Mustang\",\n",
    "  \"year\": 1964\n",
    "}\n",
    "for x,y in thisdict.items():\n",
    "    print(x,y)"
   ]
  },
  {
   "cell_type": "markdown",
   "id": "4ecf85a1",
   "metadata": {},
   "source": [
    "Python - Copy Dictionaries\n",
    "--\n",
    "Copy a Dictionary\n",
    "--\n",
    "You cannot copy a dictionary simply by typing dict2 = dict1, because: dict2 will only be a reference to dict1, and changes made in dict1 will automatically also be made in dict2.\n",
    "\n",
    "There are ways to make a copy, one way is to use the built-in Dictionary method copy()."
   ]
  },
  {
   "cell_type": "markdown",
   "id": "360cceb5",
   "metadata": {},
   "source": [
    "copy()\n",
    "--\n",
    "Make a copy of a dictionary with the copy() method:"
   ]
  },
  {
   "cell_type": "code",
   "execution_count": 44,
   "id": "ce0512e2",
   "metadata": {},
   "outputs": [
    {
     "name": "stdout",
     "output_type": "stream",
     "text": [
      "{'brand': 'Ford', 'model': 'Mustang', 'year': 1964}\n",
      "{'brand': 'Ford', 'model': 'Mustang', 'year': 1964, 'color': 'red'}\n"
     ]
    }
   ],
   "source": [
    "thisdict = {\n",
    "  \"brand\": \"Ford\",\n",
    "  \"model\": \"Mustang\",\n",
    "  \"year\": 1964\n",
    "}\n",
    "mydict = thisdict.copy()\n",
    "thisdict['color'] = 'red'\n",
    "print(mydict)\n",
    "print(thisdict)"
   ]
  },
  {
   "cell_type": "markdown",
   "id": "0bad882e",
   "metadata": {},
   "source": [
    "dict()\n",
    "--\n",
    "Another way to make a copy is to use the built-in function dict()."
   ]
  },
  {
   "cell_type": "code",
   "execution_count": 47,
   "id": "8b00802a",
   "metadata": {},
   "outputs": [
    {
     "name": "stdout",
     "output_type": "stream",
     "text": [
      "{'brand': 'Ford', 'model': 'Mustang', 'year': 1964}\n",
      "{'brand': 'Ford', 'model': 'Mustang', 'year': 1964, 'color': 'red'}\n"
     ]
    }
   ],
   "source": [
    "thisdict = {\n",
    "  \"brand\": \"Ford\",\n",
    "  \"model\": \"Mustang\",\n",
    "  \"year\": 1964\n",
    "}\n",
    "mydict = dict(thisdict)\n",
    "thisdict['color'] = 'red'\n",
    "print(mydict)\n",
    "print(thisdict)"
   ]
  },
  {
   "cell_type": "markdown",
   "id": "ca2db4df",
   "metadata": {},
   "source": [
    "Python - Nested Dictionaries\n",
    "--\n",
    "Nested Dictionaries\n",
    "--\n",
    "A dictionary can contain dictionaries, this is called nested dictionaries."
   ]
  },
  {
   "cell_type": "code",
   "execution_count": 51,
   "id": "c676eb7b",
   "metadata": {},
   "outputs": [
    {
     "name": "stdout",
     "output_type": "stream",
     "text": [
      "{'child1': {'name': 'eren', 'age': 18}, 'child2': {'name': 'vinod', 'age': 19}, 'child3': {'name': 'hari', 'age': 20}}\n"
     ]
    }
   ],
   "source": [
    "# Create a dictionary that contain three dictionaries:\n",
    "\n",
    "myfamily = {\n",
    "    'child1' : {\n",
    "        'name':'eren',\n",
    "        'age' : 18\n",
    "    },\n",
    "    'child2' : {\n",
    "        'name' : 'vinod',\n",
    "        'age' : 19\n",
    "    },\n",
    "    'child3' : {\n",
    "        'name' : 'hari',\n",
    "        'age' : 20\n",
    "    }\n",
    "}\n",
    "print(myfamily)"
   ]
  },
  {
   "cell_type": "code",
   "execution_count": 53,
   "id": "e81a2b99",
   "metadata": {},
   "outputs": [
    {
     "name": "stdout",
     "output_type": "stream",
     "text": [
      "{'child1': {'name': 'eren', 'age': 18}, 'child2': {'name': 'vinod', 'age': 19}, 'child3': {'name': 'vivek', 'age': 20}}\n"
     ]
    }
   ],
   "source": [
    "# another way Create a dictionary that contain three dictionaries:\n",
    "\n",
    "child1 = {\n",
    "    'name' : 'eren',\n",
    "    'age' : 18\n",
    "}\n",
    "child2 = {\n",
    "    'name' : 'vinod',\n",
    "    'age' : 19\n",
    "}\n",
    "child3 = {\n",
    "    'name' : 'vivek',\n",
    "    'age' : 20\n",
    "}\n",
    "\n",
    "myfamily = {\n",
    "    'child1' : child1,\n",
    "    'child2' : child2,\n",
    "    'child3' : child3\n",
    "}\n",
    "print(myfamily)"
   ]
  },
  {
   "cell_type": "markdown",
   "id": "77902b42",
   "metadata": {},
   "source": [
    "Access Items in Nested Dictionaries\n",
    "--\n",
    "To access items from a nested dictionary, you use the name of the dictionaries, starting with the outer dictionary:"
   ]
  },
  {
   "cell_type": "code",
   "execution_count": 58,
   "id": "62796ef4",
   "metadata": {},
   "outputs": [
    {
     "name": "stdout",
     "output_type": "stream",
     "text": [
      "{'name': 'vinod', 'age': 19}\n",
      "vinod\n"
     ]
    }
   ],
   "source": [
    "child1 = {\n",
    "    'name' : 'eren',\n",
    "    'age' : 18\n",
    "}\n",
    "child2 = {\n",
    "    'name' : 'vinod',\n",
    "    'age' : 19\n",
    "}\n",
    "child3 = {\n",
    "    'name' : 'vivek',\n",
    "    'age' : 20\n",
    "}\n",
    "\n",
    "myfamily = {\n",
    "    'child1' : child1,\n",
    "    'child2' : child2,\n",
    "    'child3' : child3\n",
    "}\n",
    "\n",
    "print(myfamily['child2'])\n",
    "print(myfamily['child2']['name'])"
   ]
  },
  {
   "cell_type": "markdown",
   "id": "bc2a3297",
   "metadata": {},
   "source": [
    "Python Dictionary Methods\n",
    "--"
   ]
  },
  {
   "cell_type": "raw",
   "id": "40294724",
   "metadata": {},
   "source": [
    "Method\t         Description\n",
    "------           -----------\n",
    "clear()\t         Removes all the elements from the dictionary\n",
    "\n",
    "copy()\t         Returns a copy of the dictionary\n",
    "\n",
    "fromkeys()\t     Returns a dictionary with the specified keys and value\n",
    "\n",
    "get()\t         Returns the value of the specified key\n",
    "\n",
    "items()\t         Returns a list containing a tuple for each key value pair\n",
    "\n",
    "keys()\t         Returns a list containing the dictionary's keys\n",
    "\n",
    "pop()\t         Removes the element with the specified key\n",
    "\n",
    "popitem()\t     Removes the last inserted key-value pair\n",
    "\n",
    "setdefault()\t Returns the value of the specified key. If the key does                      not exist: insert the key, with the specified value\n",
    "\n",
    "update()\t     Updates the dictionary with the specified key-value pairs\n",
    "\n",
    "values()\t     Returns a list of all the values in the dictionary"
   ]
  },
  {
   "cell_type": "markdown",
   "id": "a643fe4d",
   "metadata": {},
   "source": [
    "clear()\n",
    "--"
   ]
  },
  {
   "cell_type": "code",
   "execution_count": 59,
   "id": "c80002fc",
   "metadata": {},
   "outputs": [
    {
     "name": "stdout",
     "output_type": "stream",
     "text": [
      "{}\n"
     ]
    }
   ],
   "source": [
    "# Remove all elements from the car list:\n",
    "\n",
    "car = {\n",
    "  \"brand\": \"Ford\",\n",
    "  \"model\": \"Mustang\",\n",
    "  \"year\": 1964\n",
    "}\n",
    "\n",
    "car.clear()\n",
    "\n",
    "print(car)"
   ]
  },
  {
   "cell_type": "markdown",
   "id": "7dba9e71",
   "metadata": {},
   "source": [
    "copy()\n",
    "--"
   ]
  },
  {
   "cell_type": "code",
   "execution_count": 60,
   "id": "5412e73e",
   "metadata": {},
   "outputs": [
    {
     "name": "stdout",
     "output_type": "stream",
     "text": [
      "{'brand': 'Ford', 'model': 'Mustang', 'year': 1964}\n"
     ]
    }
   ],
   "source": [
    "car = {\n",
    "  \"brand\": \"Ford\",\n",
    "  \"model\": \"Mustang\",\n",
    "  \"year\": 1964\n",
    "}\n",
    "\n",
    "x = car.copy()\n",
    "\n",
    "print(x)"
   ]
  },
  {
   "cell_type": "markdown",
   "id": "32960530",
   "metadata": {},
   "source": [
    "fromkeys()\n",
    "--"
   ]
  },
  {
   "cell_type": "code",
   "execution_count": 64,
   "id": "a791ced3",
   "metadata": {},
   "outputs": [
    {
     "name": "stdout",
     "output_type": "stream",
     "text": [
      "{'key1': 0, 'key2': 0, 'key3': 0}\n"
     ]
    }
   ],
   "source": [
    "#Create a dictionary with 3 keys, all with the value 0:\n",
    "\n",
    "x = ('key1','key2','key3')\n",
    "y = 0\n",
    "thisdict = dict.fromkeys(x,y)\n",
    "print(thisdict)"
   ]
  },
  {
   "cell_type": "markdown",
   "id": "eea97fdc",
   "metadata": {},
   "source": [
    "get()\n",
    "--"
   ]
  },
  {
   "cell_type": "code",
   "execution_count": 65,
   "id": "3284b961",
   "metadata": {},
   "outputs": [
    {
     "name": "stdout",
     "output_type": "stream",
     "text": [
      "Mustang\n"
     ]
    }
   ],
   "source": [
    "car = {\n",
    "  \"brand\": \"Ford\",\n",
    "  \"model\": \"Mustang\",\n",
    "  \"year\": 1964\n",
    "}\n",
    "\n",
    "x = car.get(\"model\")\n",
    "\n",
    "print(x)"
   ]
  },
  {
   "cell_type": "markdown",
   "id": "095fcfb2",
   "metadata": {},
   "source": [
    "items()\n",
    "--"
   ]
  },
  {
   "cell_type": "code",
   "execution_count": 66,
   "id": "b23a6809",
   "metadata": {},
   "outputs": [
    {
     "name": "stdout",
     "output_type": "stream",
     "text": [
      "dict_items([('brand', 'Ford'), ('model', 'Mustang'), ('year', 1964)])\n"
     ]
    }
   ],
   "source": [
    "# Return the dictionary's key-value pairs: as tuples\n",
    "\n",
    "car = {\n",
    "  \"brand\": \"Ford\",\n",
    "  \"model\": \"Mustang\",\n",
    "  \"year\": 1964\n",
    "}\n",
    "\n",
    "x = car.items()\n",
    "\n",
    "print(x)"
   ]
  },
  {
   "cell_type": "markdown",
   "id": "ce51a0ce",
   "metadata": {},
   "source": [
    "keys()\n",
    "--"
   ]
  },
  {
   "cell_type": "code",
   "execution_count": 67,
   "id": "bd5e911d",
   "metadata": {},
   "outputs": [
    {
     "name": "stdout",
     "output_type": "stream",
     "text": [
      "dict_keys(['brand', 'model', 'year'])\n"
     ]
    }
   ],
   "source": [
    "car = {\n",
    "  \"brand\": \"Ford\",\n",
    "  \"model\": \"Mustang\",\n",
    "  \"year\": 1964\n",
    "}\n",
    "\n",
    "x = car.keys()\n",
    "\n",
    "print(x)"
   ]
  },
  {
   "cell_type": "markdown",
   "id": "79eb271d",
   "metadata": {},
   "source": [
    "values()\n",
    "--"
   ]
  },
  {
   "cell_type": "code",
   "execution_count": 68,
   "id": "e748fa88",
   "metadata": {},
   "outputs": [
    {
     "name": "stdout",
     "output_type": "stream",
     "text": [
      "dict_values(['Ford', 'Mustang', 1964])\n"
     ]
    }
   ],
   "source": [
    "car = {\n",
    "  \"brand\": \"Ford\",\n",
    "  \"model\": \"Mustang\",\n",
    "  \"year\": 1964\n",
    "}\n",
    "\n",
    "x = car.values()\n",
    "\n",
    "print(x)"
   ]
  },
  {
   "cell_type": "markdown",
   "id": "11b612c3",
   "metadata": {},
   "source": [
    "pop()\n",
    "--"
   ]
  },
  {
   "cell_type": "code",
   "execution_count": 69,
   "id": "e335d5ad",
   "metadata": {},
   "outputs": [
    {
     "name": "stdout",
     "output_type": "stream",
     "text": [
      "{'brand': 'Ford', 'year': 1964}\n"
     ]
    }
   ],
   "source": [
    "car = {\n",
    "  \"brand\": \"Ford\",\n",
    "  \"model\": \"Mustang\",\n",
    "  \"year\": 1964\n",
    "}\n",
    "\n",
    "car.pop(\"model\")\n",
    "\n",
    "print(car)"
   ]
  },
  {
   "cell_type": "markdown",
   "id": "65a1fe58",
   "metadata": {},
   "source": [
    "popitem()\n",
    "--"
   ]
  },
  {
   "cell_type": "code",
   "execution_count": 71,
   "id": "a16c82a6",
   "metadata": {},
   "outputs": [
    {
     "name": "stdout",
     "output_type": "stream",
     "text": [
      "{'brand': 'Ford', 'model': 'Mustang'}\n"
     ]
    }
   ],
   "source": [
    "# Remove the last item from the dictionary:\n",
    "\n",
    "car = {\n",
    "  \"brand\": \"Ford\",\n",
    "  \"model\": \"Mustang\",\n",
    "  \"year\": 1964\n",
    "}\n",
    "\n",
    "car.popitem()\n",
    "\n",
    "print(car)"
   ]
  },
  {
   "cell_type": "markdown",
   "id": "b6ab840d",
   "metadata": {},
   "source": [
    "setdefault()\n",
    "--"
   ]
  },
  {
   "cell_type": "code",
   "execution_count": 76,
   "id": "4372a3c6",
   "metadata": {},
   "outputs": [
    {
     "name": "stdout",
     "output_type": "stream",
     "text": [
      "Mustang\n",
      "{'brand': 'Ford', 'model': 'Mustang', 'year': 1964}\n"
     ]
    }
   ],
   "source": [
    "# Get the value of the \"model\" item:\n",
    "\n",
    "car = {\n",
    "  \"brand\": \"Ford\",\n",
    "  \"model\": \"Mustang\",\n",
    "  \"year\": 1964\n",
    "}\n",
    "                                     #syntax : key is optional\n",
    "x = car.setdefault(\"model\",'boroco') #dictionary.setdefault(keyname, value)\n",
    "\n",
    "print(x)\n",
    "print(car)"
   ]
  },
  {
   "cell_type": "markdown",
   "id": "6cac8dad",
   "metadata": {},
   "source": [
    "update()\n",
    "--"
   ]
  },
  {
   "cell_type": "code",
   "execution_count": 77,
   "id": "2498915e",
   "metadata": {},
   "outputs": [
    {
     "name": "stdout",
     "output_type": "stream",
     "text": [
      "{'brand': 'Ford', 'model': 'Mustang', 'year': 1964, 'color': 'White'}\n"
     ]
    }
   ],
   "source": [
    "# Insert an item to the dictionary:\n",
    "\n",
    "car = {\n",
    "  \"brand\": \"Ford\",\n",
    "  \"model\": \"Mustang\",\n",
    "  \"year\": 1964\n",
    "}\n",
    "\n",
    "car.update({\"color\": \"White\"})\n",
    "\n",
    "print(car)"
   ]
  },
  {
   "cell_type": "code",
   "execution_count": null,
   "id": "c7d24315",
   "metadata": {},
   "outputs": [],
   "source": []
  }
 ],
 "metadata": {
  "kernelspec": {
   "display_name": "Python 3 (ipykernel)",
   "language": "python",
   "name": "python3"
  },
  "language_info": {
   "codemirror_mode": {
    "name": "ipython",
    "version": 3
   },
   "file_extension": ".py",
   "mimetype": "text/x-python",
   "name": "python",
   "nbconvert_exporter": "python",
   "pygments_lexer": "ipython3",
   "version": "3.9.12"
  }
 },
 "nbformat": 4,
 "nbformat_minor": 5
}
