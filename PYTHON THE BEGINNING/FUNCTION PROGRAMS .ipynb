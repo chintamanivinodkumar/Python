{
 "cells": [
  {
   "cell_type": "raw",
   "id": "a8daff00",
   "metadata": {},
   "source": [
    "Program to calculate the sum of two numbers\n",
    "\n",
    "Program to calculate the area of a circle\n",
    "\n",
    "Program to calculate the factorial of a number\n",
    "\n",
    "Program to find the largest number in a list\n",
    "\n",
    "Program to reverse a string\n",
    "\n",
    "Program to check if a number is prime\n",
    "\n",
    "Program to check if a string is a palindrome\n",
    "\n",
    "Program to sort a list of numbers in ascending order\n",
    "\n",
    "Program to convert temperature from Celsius to Fahrenheit\n",
    "\n",
    "Program to count the number of vowels in a string\n"
   ]
  },
  {
   "cell_type": "markdown",
   "id": "4a357d66",
   "metadata": {},
   "source": [
    "1] Program to calculate the sum of two numbers\n",
    "--"
   ]
  },
  {
   "cell_type": "code",
   "execution_count": 1,
   "id": "7359834a",
   "metadata": {},
   "outputs": [
    {
     "name": "stdout",
     "output_type": "stream",
     "text": [
      "enter a no.2\n",
      "enter a no.3\n",
      "5\n"
     ]
    }
   ],
   "source": [
    "# without functions\n",
    "\n",
    "a = int(input(\"enter a no.\"))\n",
    "b = int(input(\"enter a no.\"))\n",
    "c = a + b\n",
    "print(c)"
   ]
  },
  {
   "cell_type": "code",
   "execution_count": 6,
   "id": "71d36f54",
   "metadata": {},
   "outputs": [
    {
     "name": "stdout",
     "output_type": "stream",
     "text": [
      "5\n"
     ]
    }
   ],
   "source": [
    "# with functions\n",
    "\n",
    "def sum(a,b):\n",
    "    c = a + b\n",
    "    return c\n",
    "print(sum(2,3))\n"
   ]
  },
  {
   "cell_type": "code",
   "execution_count": 9,
   "id": "23fd2ddf",
   "metadata": {},
   "outputs": [
    {
     "name": "stdout",
     "output_type": "stream",
     "text": [
      "enter no.2\n",
      "enter no.3\n",
      "The sum of the two numbers is: 5\n"
     ]
    }
   ],
   "source": [
    "# with functions\n",
    "\n",
    "def sum(a,b):\n",
    "    c = a + b\n",
    "    return c\n",
    "a = int(input('enter no.'))\n",
    "b = int(input('enter no.'))\n",
    "c = sum(a,b)\n",
    "print(\"The sum of the two numbers is:\", c)"
   ]
  },
  {
   "cell_type": "markdown",
   "id": "d32664cf",
   "metadata": {},
   "source": [
    "2] Program to calculate the area of a circle\n",
    "--"
   ]
  },
  {
   "cell_type": "code",
   "execution_count": 12,
   "id": "87fa6e5e",
   "metadata": {},
   "outputs": [
    {
     "name": "stdout",
     "output_type": "stream",
     "text": [
      "enter no.2\n",
      "12.56\n"
     ]
    }
   ],
   "source": [
    "# without functions\n",
    "\n",
    "pi = 3.14\n",
    "r = float(input(\"enter no.\"))\n",
    "\n",
    "area = (pi * (r*r))\n",
    "print(area)"
   ]
  },
  {
   "cell_type": "code",
   "execution_count": 17,
   "id": "e55c4780",
   "metadata": {
    "scrolled": true
   },
   "outputs": [
    {
     "name": "stdout",
     "output_type": "stream",
     "text": [
      "enter no.2\n",
      "area of circle is :  12.56\n"
     ]
    }
   ],
   "source": [
    "# with functions\n",
    "\n",
    "def circle():\n",
    "    area = (pi*r*r)\n",
    "    return area\n",
    "pi = 3.14\n",
    "r = float(input(\"enter no.\"))\n",
    "area = circle()\n",
    "print('area of circle is : ', area)"
   ]
  },
  {
   "cell_type": "markdown",
   "id": "c9df8458",
   "metadata": {},
   "source": [
    "3] Program to calculate the factorial of a number  with and without functions\n",
    "--"
   ]
  },
  {
   "cell_type": "code",
   "execution_count": 2,
   "id": "4bbdecfd",
   "metadata": {},
   "outputs": [
    {
     "name": "stdout",
     "output_type": "stream",
     "text": [
      "enter no.5\n",
      "the factorial of  5 is 120\n"
     ]
    }
   ],
   "source": [
    "#without \n",
    "\n",
    "n = int(input(\"enter no.\"))\n",
    "fact = 1\n",
    "for i in range(1,n+1):\n",
    "    fact = fact*i\n",
    "print(\"the factorial of \", n,'is',fact)"
   ]
  },
  {
   "cell_type": "code",
   "execution_count": 7,
   "id": "1cf6fd33",
   "metadata": {},
   "outputs": [
    {
     "name": "stdout",
     "output_type": "stream",
     "text": [
      "enter a no.5\n",
      "the factorial of  5 is 120\n"
     ]
    }
   ],
   "source": [
    "# with\n",
    "\n",
    "def factorial(n):\n",
    "    fact = 1\n",
    "    for i in range(1,n+1):\n",
    "        fact = fact*i\n",
    "    return fact\n",
    "\n",
    "n = int(input(\"enter a no.\"))\n",
    "fact = factorial(n)\n",
    "print(\"the factorial of \", n,'is',fact)"
   ]
  },
  {
   "cell_type": "markdown",
   "id": "ff566eb1",
   "metadata": {},
   "source": [
    "4] Program to find the largest number in a list\n",
    "--"
   ]
  },
  {
   "cell_type": "code",
   "execution_count": 16,
   "id": "1f6fcd01",
   "metadata": {},
   "outputs": [
    {
     "name": "stdout",
     "output_type": "stream",
     "text": [
      "the largest number in a list is : 67\n"
     ]
    }
   ],
   "source": [
    "#without \n",
    "\n",
    "l1 = [12,23,4,23,65,67,12,34]\n",
    "l1.sort(reverse = True)\n",
    "print('the largest number in a list is :',l1[0])\n",
    "\n"
   ]
  },
  {
   "cell_type": "code",
   "execution_count": 17,
   "id": "484d65e3",
   "metadata": {
    "scrolled": true
   },
   "outputs": [
    {
     "name": "stdout",
     "output_type": "stream",
     "text": [
      "the largest number in a list is : 99\n"
     ]
    }
   ],
   "source": [
    "list1 = [23, 56, 78, 12, 46, 89, 99, 34]\n",
    "lar = list1[0]\n",
    "\n",
    "for i in list1:\n",
    "    if i > lar:\n",
    "        lar = i\n",
    "print('the largest number in a list is :',lar)"
   ]
  },
  {
   "cell_type": "code",
   "execution_count": 18,
   "id": "d0883e28",
   "metadata": {},
   "outputs": [
    {
     "name": "stdout",
     "output_type": "stream",
     "text": [
      "the largest number in a list is : 99\n"
     ]
    }
   ],
   "source": [
    "# with function\n",
    "\n",
    "def lar():\n",
    "    lar = list1[0]\n",
    "    for i in list1:\n",
    "        if i > lar:\n",
    "            lar = i\n",
    "    return lar\n",
    "            \n",
    "list1 = [23, 56, 78, 12, 46, 89, 99, 34]\n",
    "lar = lar()\n",
    "print('the largest number in a list is :',lar)\n"
   ]
  },
  {
   "cell_type": "markdown",
   "id": "b7175efe",
   "metadata": {},
   "source": [
    "5] Program to reverse a string\n",
    "--"
   ]
  },
  {
   "cell_type": "code",
   "execution_count": 26,
   "id": "8c412fa3",
   "metadata": {},
   "outputs": [
    {
     "name": "stdout",
     "output_type": "stream",
     "text": [
      "enter a str: hello\n",
      "The reverse of the string is: olleh\n"
     ]
    }
   ],
   "source": [
    "# without\n",
    "\n",
    "string = input('enter a str: ')\n",
    "rev_str = s[::-1]\n",
    "print(\"The reverse of the string is:\", rev_str)"
   ]
  },
  {
   "cell_type": "code",
   "execution_count": 27,
   "id": "835a94aa",
   "metadata": {},
   "outputs": [
    {
     "name": "stdout",
     "output_type": "stream",
     "text": [
      "enter a strhello\n",
      "The reverse of the string is: olleh\n"
     ]
    }
   ],
   "source": [
    "# with\n",
    "\n",
    "def rev_str():\n",
    "    reve_str = str1[::-1]\n",
    "    return reve_str\n",
    "str1 = input('enter a str')\n",
    "reverse_string = rev_str()\n",
    "print(\"The reverse of the string is:\", reverse_string)\n"
   ]
  },
  {
   "cell_type": "markdown",
   "id": "7163a3d2",
   "metadata": {},
   "source": [
    "6] Program to check if a number is prime\n",
    "--"
   ]
  },
  {
   "cell_type": "code",
   "execution_count": 33,
   "id": "958174a5",
   "metadata": {},
   "outputs": [
    {
     "name": "stdout",
     "output_type": "stream",
     "text": [
      "enter a no.7\n",
      "7  is a prime no.\n"
     ]
    }
   ],
   "source": [
    "# without\n",
    "\n",
    "n = int(input('enter a no.'))\n",
    "count = 0\n",
    "for i in range(1,n+1):\n",
    "    if n % i == 0:\n",
    "        count = count+1\n",
    "if count == 2:\n",
    "    print(n,' is a prime no.')\n",
    "else:\n",
    "    print(n,' is not a prime no.')"
   ]
  },
  {
   "cell_type": "code",
   "execution_count": 36,
   "id": "dbe58879",
   "metadata": {},
   "outputs": [
    {
     "name": "stdout",
     "output_type": "stream",
     "text": [
      "enter n value : 2\n",
      "2  is a prime no.\n"
     ]
    }
   ],
   "source": [
    "# with functions\n",
    "\n",
    "def prime():\n",
    "    count = 0\n",
    "    for i in range(1,n+1):\n",
    "        if n%i==0:\n",
    "            count += 1\n",
    "    return count\n",
    "\n",
    "n = int(input('enter n value : '))\n",
    "count = prime()\n",
    "if count == 2:\n",
    "    print(n,' is a prime no.')\n",
    "else:\n",
    "    print(n,' is not a prime no.')"
   ]
  },
  {
   "cell_type": "markdown",
   "id": "a3926516",
   "metadata": {},
   "source": [
    "7] Program to check if a string is a palindrome\n",
    "--"
   ]
  },
  {
   "cell_type": "code",
   "execution_count": 40,
   "id": "d12cbeae",
   "metadata": {},
   "outputs": [
    {
     "name": "stdout",
     "output_type": "stream",
     "text": [
      "enter a str: 11511\n",
      "11511  is palindrome\n"
     ]
    }
   ],
   "source": [
    "n = input(\"enter a str: \")\n",
    "rev_str = n[::-1]\n",
    "if rev_str == n:\n",
    "    print(n,' is palindrome')\n",
    "else:\n",
    "    print(n,' is not palindrome')"
   ]
  },
  {
   "cell_type": "code",
   "execution_count": 43,
   "id": "99efbc34",
   "metadata": {},
   "outputs": [
    {
     "name": "stdout",
     "output_type": "stream",
     "text": [
      "enter a str: 11511\n",
      "11511  is palindrome\n"
     ]
    }
   ],
   "source": [
    "#with\n",
    "\n",
    "def palindrome():\n",
    "    rev_str = n[::-1]\n",
    "    return rev_str\n",
    "\n",
    "n= input('enter a str: ')\n",
    "palin_no = palindrome()\n",
    "if palin_no == n:\n",
    "      print(n,' is palindrome')\n",
    "else:\n",
    "    print(n,' is not palindrome')  "
   ]
  },
  {
   "cell_type": "markdown",
   "id": "8f5c794b",
   "metadata": {},
   "source": [
    "8] Program to sort a list of numbers in ascending order\n",
    "--"
   ]
  },
  {
   "cell_type": "code",
   "execution_count": 45,
   "id": "8d83e69a",
   "metadata": {},
   "outputs": [
    {
     "name": "stdout",
     "output_type": "stream",
     "text": [
      "list of no.s in ascending order is:  [2, 8, 12, 13, 35, 46, 57, 234, 253, 769]\n"
     ]
    }
   ],
   "source": [
    "# without\n",
    "\n",
    "list1 = [12,2,57,8,46,253,769,13,35,234]\n",
    "list1.sort()\n",
    "print('list of no.s in ascending order is: ',list1)"
   ]
  },
  {
   "cell_type": "code",
   "execution_count": 47,
   "id": "631389a4",
   "metadata": {},
   "outputs": [
    {
     "name": "stdout",
     "output_type": "stream",
     "text": [
      "list of no.s in ascending order is:  [2, 8, 12, 13, 35, 46, 57, 234, 253, 769]\n"
     ]
    }
   ],
   "source": [
    "# with\n",
    "\n",
    "def sort1():\n",
    "    list1.sort()\n",
    "    return list1\n",
    "\n",
    "list1 = [12,2,57,8,46,253,769,13,35,234]\n",
    "sorted_list = sort1()\n",
    "print('list of no.s in ascending order is: ',sorted_list)"
   ]
  },
  {
   "cell_type": "markdown",
   "id": "8d1bdcac",
   "metadata": {},
   "source": [
    "9] Program to convert temperature from Celsius to Fahrenheit\n",
    "--"
   ]
  },
  {
   "cell_type": "code",
   "execution_count": 48,
   "id": "9f0049ed",
   "metadata": {},
   "outputs": [
    {
     "data": {
      "text/plain": [
       "'\\n1] celsius to Fahrenheit formula : (9/5 == 1.8)\\n\\n °F = (°C × 9/5) + 32\\n\\n2] Fahrenheit to Celcius formula : (9/5 == 1.8)\\n\\n°C = (°F − 32) x 5/9\\n\\n'"
      ]
     },
     "execution_count": 48,
     "metadata": {},
     "output_type": "execute_result"
    }
   ],
   "source": [
    "'''\n",
    "1] celsius to Fahrenheit formula : (9/5 == 1.8)\n",
    "\n",
    " °F = (°C × 9/5) + 32\n",
    "\n",
    "2] Fahrenheit to Celcius formula : (9/5 == 1.8)\n",
    "\n",
    "°C = (°F − 32) x 5/9\n",
    "\n",
    "'''"
   ]
  },
  {
   "cell_type": "code",
   "execution_count": 51,
   "id": "061e54b3",
   "metadata": {},
   "outputs": [
    {
     "name": "stdout",
     "output_type": "stream",
     "text": [
      "Enter temperature in Celsius: 5\n",
      "41.0\n"
     ]
    }
   ],
   "source": [
    "# without\n",
    "\n",
    "celsius = float(input(\"Enter temperature in Celsius: \"))\n",
    "\n",
    "# convert celsius to fahrenheit\n",
    "fahrenheit = (celsius * 9/5) + 32\n",
    "\n",
    "# print the result\n",
    "print(fahrenheit)"
   ]
  },
  {
   "cell_type": "code",
   "execution_count": 52,
   "id": "d87b61c3",
   "metadata": {},
   "outputs": [
    {
     "name": "stdout",
     "output_type": "stream",
     "text": [
      "enter a no.5\n",
      "41.0\n"
     ]
    }
   ],
   "source": [
    "# with function\n",
    "\n",
    "def fah():\n",
    "    fahrenheit = (cel * 9/5) + 32\n",
    "    return fahrenheit\n",
    "\n",
    "cel = float(input('enter a no.'))\n",
    "fahrenheit = fah()\n",
    "print(fahrenheit)\n"
   ]
  },
  {
   "cell_type": "markdown",
   "id": "07a92c7a",
   "metadata": {},
   "source": [
    "10] Program to count the number of vowels in a string\n",
    "--"
   ]
  },
  {
   "cell_type": "code",
   "execution_count": 54,
   "id": "67929e34",
   "metadata": {},
   "outputs": [
    {
     "name": "stdout",
     "output_type": "stream",
     "text": [
      "enter a str : vinod KUMar\n",
      "No. of vowels in given string is :  4\n"
     ]
    }
   ],
   "source": [
    "# without function\n",
    "\n",
    "vowels = 'aeiouAEIOU'\n",
    "string = input('enter a str : ')\n",
    "count = 0\n",
    "\n",
    "for char in string:\n",
    "    if char in vowels:\n",
    "        count += 1\n",
    "print('No. of vowels in given string is : ',count)"
   ]
  },
  {
   "cell_type": "code",
   "execution_count": 56,
   "id": "6f4f4432",
   "metadata": {},
   "outputs": [
    {
     "name": "stdout",
     "output_type": "stream",
     "text": [
      "enter a str : vinod KUMAR\n",
      "No. of vowels in given string is :  4\n"
     ]
    }
   ],
   "source": [
    "# with function\n",
    "\n",
    "def count1():\n",
    "    count = 0\n",
    "    for char in string:\n",
    "        if char in vowels:\n",
    "            count += 1\n",
    "    return count\n",
    "\n",
    "string = input('enter a str : ')\n",
    "vowels = 'aeiouAEIOU'\n",
    "count = count1()\n",
    "print('No. of vowels in given string is : ',count)\n"
   ]
  },
  {
   "cell_type": "raw",
   "id": "4b57f9ee",
   "metadata": {},
   "source": [
    "Program to find the second largest number in a list\n",
    "\n",
    "Program to generate the Fibonacci sequence\n",
    "\n",
    "Program to check if a number is odd or even\n",
    "\n",
    "Program to convert a decimal number to binary\n",
    "\n",
    "Program to generate a multiplication table\n",
    "\n",
    "Program to calculate the average of a list of numbers\n",
    "\n",
    "Program to count the number of words in a string\n",
    "\n",
    "Program to find the square root of a number\n",
    "\n",
    "Program to calculate the area of a rectangle\n",
    "\n",
    "Program to find the sum of the digits of a number\n"
   ]
  },
  {
   "cell_type": "markdown",
   "id": "ecd54c40",
   "metadata": {},
   "source": [
    "11] Program to find the second largest number in a list\n",
    "--"
   ]
  },
  {
   "cell_type": "code",
   "execution_count": 58,
   "id": "104cdd28",
   "metadata": {},
   "outputs": [
    {
     "name": "stdout",
     "output_type": "stream",
     "text": [
      "[267, 97, 68, 68, 47, 24, 24, 23, 12, 9, 8, 4]\n",
      "The second largest number in a list is :  97\n"
     ]
    }
   ],
   "source": [
    "# without\n",
    "\n",
    "list1 = [12,24,47,23,4,68,9,24,68,267,97,8]\n",
    "list1.sort(reverse=True)\n",
    "print(list1)\n",
    "print('The second largest number in a list is : ',list1[1])"
   ]
  },
  {
   "cell_type": "code",
   "execution_count": 59,
   "id": "733a1991",
   "metadata": {},
   "outputs": [
    {
     "name": "stdout",
     "output_type": "stream",
     "text": [
      "The second largest number in a list is :  97\n"
     ]
    }
   ],
   "source": [
    "# with\n",
    "\n",
    "def lar2():\n",
    "    list1.sort(reverse=True)\n",
    "    return list1[1]\n",
    "\n",
    "list1 = [12,24,47,23,4,68,9,24,68,267,97,8]\n",
    "largest2 = lar2()\n",
    "print('The second largest number in a list is : ',largest2)"
   ]
  },
  {
   "cell_type": "markdown",
   "id": "fafe5f5f",
   "metadata": {},
   "source": [
    "12] Program to generate the Fibonacci sequence\n",
    "--"
   ]
  },
  {
   "cell_type": "code",
   "execution_count": 61,
   "id": "11aab684",
   "metadata": {},
   "outputs": [
    {
     "name": "stdout",
     "output_type": "stream",
     "text": [
      "Enter the number of terms: 10\n",
      "0\n",
      "1\n",
      "1\n",
      "2\n",
      "3\n",
      "5\n",
      "8\n",
      "13\n",
      "21\n",
      "34\n"
     ]
    }
   ],
   "source": [
    "# without function\n",
    "\n",
    "n = int(input(\"Enter the number of terms: \"))\n",
    "\n",
    "# initialize the first two terms\n",
    "a, b = 0, 1\n",
    "\n",
    "# print the first two terms\n",
    "print(a)\n",
    "print(b)\n",
    "\n",
    "# generate the Fibonacci sequence\n",
    "for i in range(2, n):\n",
    "    c = a + b\n",
    "    a = b\n",
    "    b = c\n",
    "    print(c)"
   ]
  },
  {
   "cell_type": "code",
   "execution_count": 65,
   "id": "4e631cc6",
   "metadata": {},
   "outputs": [
    {
     "name": "stdout",
     "output_type": "stream",
     "text": [
      "Enter the number of terms: 10\n",
      "[0, 1, 1, 2, 3, 5, 8, 13, 21, 34]\n"
     ]
    }
   ],
   "source": [
    "# with function\n",
    "\n",
    "\n",
    "def fibonacci(n):\n",
    "    # initialize the first two terms\n",
    "    a, b = 0, 1\n",
    "\n",
    "    # initialize an empty list to store the sequence\n",
    "    seq = []\n",
    "\n",
    "    # generate the Fibonacci sequence and store it in the list\n",
    "    for i in range(n):\n",
    "        seq.append(a)\n",
    "        c = a + b\n",
    "        a = b\n",
    "        b = c\n",
    "\n",
    "    # return the sequence\n",
    "    return seq\n",
    "\n",
    "# take input from user\n",
    "n = int(input(\"Enter the number of terms: \"))\n",
    "\n",
    "# call the function and print the sequence\n",
    "print(fibonacci(n))"
   ]
  },
  {
   "cell_type": "code",
   "execution_count": 71,
   "id": "0d2ece16",
   "metadata": {
    "scrolled": false
   },
   "outputs": [
    {
     "name": "stdout",
     "output_type": "stream",
     "text": [
      "enter n value : 10\n",
      "[0, 1, 1, 2, 3, 5, 8, 13, 21, 34]\n"
     ]
    }
   ],
   "source": [
    "# with function\n",
    "\n",
    "def fibonacci():\n",
    "    a,b = 0,1\n",
    "    seq = [0,1,]\n",
    "    for i in range(n-2):\n",
    "        c = a + b\n",
    "        seq.append(c)\n",
    "        a = b\n",
    "        b = c\n",
    "    return seq\n",
    "        \n",
    "n = int(input('enter n value : '))\n",
    "fibonacci_series = fibonacci()\n",
    "print(fibonacci_series)"
   ]
  },
  {
   "cell_type": "markdown",
   "id": "ae83ee3f",
   "metadata": {},
   "source": [
    "13] Program to check if a number is odd or even\n",
    "--"
   ]
  },
  {
   "cell_type": "code",
   "execution_count": 75,
   "id": "9d20006c",
   "metadata": {},
   "outputs": [
    {
     "name": "stdout",
     "output_type": "stream",
     "text": [
      "enter n value : 7\n",
      "7  is odd\n"
     ]
    }
   ],
   "source": [
    "# without\n",
    "\n",
    "n = int(input('enter n value : '))\n",
    "if n % 2 == 0:\n",
    "    print(n,' is even')\n",
    "else:\n",
    "    print(n,' is odd')"
   ]
  },
  {
   "cell_type": "code",
   "execution_count": 77,
   "id": "d4bb22ff",
   "metadata": {},
   "outputs": [
    {
     "name": "stdout",
     "output_type": "stream",
     "text": [
      "enter n value : 4\n",
      "4  is even\n"
     ]
    }
   ],
   "source": [
    "# with\n",
    "\n",
    "def odd_even():\n",
    "    if n % 2 == 0:\n",
    "        print(n,' is even')\n",
    "    else:\n",
    "        print(n,' is odd')\n",
    "        \n",
    "n = int(input('enter n value : '))\n",
    "odd_even()"
   ]
  },
  {
   "cell_type": "code",
   "execution_count": 79,
   "id": "9199e91a",
   "metadata": {},
   "outputs": [
    {
     "name": "stdout",
     "output_type": "stream",
     "text": [
      "Enter a number: 5\n",
      "5 is odd\n"
     ]
    }
   ],
   "source": [
    "def check_odd_even(num):\n",
    "    # check if the number is even or odd\n",
    "    if num % 2 == 0:\n",
    "        return \"even\"\n",
    "    else:\n",
    "        return \"odd\"\n",
    "\n",
    "# take input from user\n",
    "num = int(input(\"Enter a number: \"))\n",
    "\n",
    "# call the function and print the result\n",
    "print(num, \"is\", check_odd_even(num))"
   ]
  },
  {
   "cell_type": "markdown",
   "id": "6fe68656",
   "metadata": {},
   "source": [
    "14] Program to convert a decimal number to binary\n",
    "--"
   ]
  },
  {
   "cell_type": "code",
   "execution_count": 84,
   "id": "344fcb2b",
   "metadata": {},
   "outputs": [
    {
     "name": "stdout",
     "output_type": "stream",
     "text": [
      "enter a no.: 9\n",
      "The binary representation of  9  is  0b1001\n"
     ]
    }
   ],
   "source": [
    "# without\n",
    "\n",
    "decimal_no = int(input('enter a no.: '))\n",
    "\n",
    "binary = bin(decimal_no)\n",
    "\n",
    "print('The binary representation of ',decimal_no,' is ',binary)"
   ]
  },
  {
   "cell_type": "code",
   "execution_count": 86,
   "id": "fecbf4e0",
   "metadata": {},
   "outputs": [
    {
     "name": "stdout",
     "output_type": "stream",
     "text": [
      "enter a no. : 9\n",
      "The binary representation of  9  is  0b1001\n"
     ]
    }
   ],
   "source": [
    "# with function\n",
    "\n",
    "def binary():\n",
    "    binary1 = bin(dec)\n",
    "    return binary1\n",
    "\n",
    "dec = int(input('enter a no. : '))\n",
    "binary = binary()\n",
    "print('The binary representation of ',dec,' is ',binary)"
   ]
  },
  {
   "cell_type": "markdown",
   "id": "c4804b60",
   "metadata": {},
   "source": [
    "15] Program to generate a multiplication table\n",
    "--"
   ]
  },
  {
   "cell_type": "code",
   "execution_count": 87,
   "id": "9637f97a",
   "metadata": {},
   "outputs": [
    {
     "name": "stdout",
     "output_type": "stream",
     "text": [
      "enter a no. : 2\n",
      "2 x 1 = 2\n",
      "2 x 2 = 4\n",
      "2 x 3 = 6\n",
      "2 x 4 = 8\n",
      "2 x 5 = 10\n",
      "2 x 6 = 12\n",
      "2 x 7 = 14\n",
      "2 x 8 = 16\n",
      "2 x 9 = 18\n",
      "2 x 10 = 20\n"
     ]
    }
   ],
   "source": [
    "n = int(input('enter a no. : '))\n",
    "\n",
    "for i in range(1,11):\n",
    "    print(n,'x',i,'=',n*i)\n",
    "    "
   ]
  },
  {
   "cell_type": "code",
   "execution_count": 88,
   "id": "e70edde2",
   "metadata": {},
   "outputs": [
    {
     "name": "stdout",
     "output_type": "stream",
     "text": [
      "enter a no. : 2\n",
      "2 x 1 = 2\n",
      "2 x 2 = 4\n",
      "2 x 3 = 6\n",
      "2 x 4 = 8\n",
      "2 x 5 = 10\n",
      "2 x 6 = 12\n",
      "2 x 7 = 14\n",
      "2 x 8 = 16\n",
      "2 x 9 = 18\n",
      "2 x 10 = 20\n"
     ]
    }
   ],
   "source": [
    "# with function\n",
    "\n",
    "def mul_tab():\n",
    "    for i in range(1,11):\n",
    "        print(n,'x',i,'=',n*i)\n",
    "        \n",
    "n = int(input('enter a no. : '))\n",
    "mul_tab()"
   ]
  },
  {
   "cell_type": "markdown",
   "id": "59d9e760",
   "metadata": {},
   "source": [
    "16] Program to calculate the average of a list of numbers\n",
    "--"
   ]
  },
  {
   "cell_type": "code",
   "execution_count": 89,
   "id": "eeb799fc",
   "metadata": {},
   "outputs": [
    {
     "name": "stdout",
     "output_type": "stream",
     "text": [
      "The average is: 30.0\n"
     ]
    }
   ],
   "source": [
    "#without\n",
    "\n",
    "list1 = [10,20,30,40,50]\n",
    "\n",
    "total = sum(list1)\n",
    "avg = total/len(list1)\n",
    "\n",
    "print(\"The average is:\", avg)"
   ]
  },
  {
   "cell_type": "code",
   "execution_count": 90,
   "id": "ff09ab0f",
   "metadata": {},
   "outputs": [
    {
     "name": "stdout",
     "output_type": "stream",
     "text": [
      "The average is: 30.0\n"
     ]
    }
   ],
   "source": [
    "# with\n",
    "\n",
    "def avg():\n",
    "    total = sum(list1)\n",
    "    average = total/len(list1)\n",
    "    return average\n",
    "\n",
    "list1 = [10,20,30,40,50]\n",
    "avg1 = avg()\n",
    "\n",
    "print(\"The average is:\", avg1)"
   ]
  },
  {
   "cell_type": "markdown",
   "id": "1a87dbfb",
   "metadata": {},
   "source": [
    "17] Program to count the number of words in a string\n",
    "--"
   ]
  },
  {
   "cell_type": "code",
   "execution_count": 93,
   "id": "8aed8c64",
   "metadata": {},
   "outputs": [
    {
     "name": "stdout",
     "output_type": "stream",
     "text": [
      "['vinod', 'kumar']\n",
      "2\n"
     ]
    }
   ],
   "source": [
    "# without\n",
    "\n",
    "str1 = 'vinod kumar'\n",
    "str2 = str1.split()\n",
    "print(str2)\n",
    "print(len(str2))"
   ]
  },
  {
   "cell_type": "code",
   "execution_count": 94,
   "id": "71ecf51a",
   "metadata": {},
   "outputs": [
    {
     "name": "stdout",
     "output_type": "stream",
     "text": [
      "there are 5 words in the string\n"
     ]
    }
   ],
   "source": [
    "string = \"This is another sample string\"\n",
    "word_count = 0\n",
    "for i in string.split():\n",
    "    word_count += 1\n",
    "print(f'there are {word_count} words in the string')"
   ]
  },
  {
   "cell_type": "code",
   "execution_count": 95,
   "id": "c6ee107f",
   "metadata": {},
   "outputs": [
    {
     "name": "stdout",
     "output_type": "stream",
     "text": [
      "there are 5 words in the string\n"
     ]
    }
   ],
   "source": [
    "# with functions\n",
    "\n",
    "def count(str1):\n",
    "    str2 = str1.split()\n",
    "    return len(str2)\n",
    "\n",
    "str1 = \"This is a sample string\"\n",
    "word_count = count(str1)\n",
    "print(f'there are {word_count} words in the string')"
   ]
  },
  {
   "cell_type": "markdown",
   "id": "419b9dda",
   "metadata": {},
   "source": [
    "18] Program to find the square root of a number\n",
    "--"
   ]
  },
  {
   "cell_type": "code",
   "execution_count": 98,
   "id": "e59c2b6f",
   "metadata": {},
   "outputs": [
    {
     "name": "stdout",
     "output_type": "stream",
     "text": [
      "enter a no.8\n",
      "sqrt of  8  is %.3f 2.8284271247461903\n"
     ]
    }
   ],
   "source": [
    "#without\n",
    "\n",
    "n = int(input('enter a no.'))\n",
    "sqrt = n ** 0.5\n",
    "print('sqrt of ',n,' is ',sqrt)"
   ]
  },
  {
   "cell_type": "code",
   "execution_count": 99,
   "id": "7aff5159",
   "metadata": {},
   "outputs": [
    {
     "name": "stdout",
     "output_type": "stream",
     "text": [
      "enter a no.8\n",
      "sqrt of  8  is  2.8284271247461903\n"
     ]
    }
   ],
   "source": [
    "import math\n",
    "\n",
    "n = int(input('enter a no.'))\n",
    "sqrt = math.sqrt(n)\n",
    "print('sqrt of ',n,' is ',sqrt)"
   ]
  },
  {
   "cell_type": "code",
   "execution_count": 101,
   "id": "163e1501",
   "metadata": {},
   "outputs": [
    {
     "name": "stdout",
     "output_type": "stream",
     "text": [
      "enter a no. : 8\n",
      "sqrt of  8  is  2.8284271247461903\n"
     ]
    }
   ],
   "source": [
    "# with function\n",
    "\n",
    "def sqrt(n):\n",
    "    sqrt1 = n ** (1/2)\n",
    "    return sqrt1\n",
    "\n",
    "n = int(input('enter a no. : '))\n",
    "sqrt = sqrt(n)\n",
    "print('sqrt of ',n,' is ',sqrt)"
   ]
  },
  {
   "cell_type": "code",
   "execution_count": 102,
   "id": "9a971d51",
   "metadata": {},
   "outputs": [
    {
     "name": "stdout",
     "output_type": "stream",
     "text": [
      "enter a no.: 8\n",
      "sqrt of  8  is  2.8284271247461903\n"
     ]
    }
   ],
   "source": [
    "def sqrt1(n):\n",
    "    sqrt = math.sqrt(n)\n",
    "    return sqrt\n",
    "\n",
    "n = int (input('enter a no.: '))\n",
    "sqrt = sqrt1(n)\n",
    "print('sqrt of ',n,' is ',sqrt)"
   ]
  },
  {
   "cell_type": "markdown",
   "id": "92d67d0b",
   "metadata": {},
   "source": [
    "19] Program to calculate the area of a rectangle\n",
    "--"
   ]
  },
  {
   "cell_type": "code",
   "execution_count": 103,
   "id": "49b235f9",
   "metadata": {},
   "outputs": [
    {
     "name": "stdout",
     "output_type": "stream",
     "text": [
      "enter a no: 8\n",
      "enter a no: 2\n",
      "area of rectangle is :  16\n"
     ]
    }
   ],
   "source": [
    "#without\n",
    "\n",
    "length = int(input('enter a no: '))\n",
    "breadth = int(input('enter a no: '))\n",
    "\n",
    "area = length * breadth\n",
    "print('area of rectangle is : ',area)"
   ]
  },
  {
   "cell_type": "code",
   "execution_count": 104,
   "id": "9c7ff370",
   "metadata": {},
   "outputs": [
    {
     "name": "stdout",
     "output_type": "stream",
     "text": [
      "enter a no: 8\n",
      "enter a no: 2\n",
      "area of rectangle is :  16\n"
     ]
    }
   ],
   "source": [
    "# with\n",
    "\n",
    "def area(length,breadth):\n",
    "    area = length * breadth\n",
    "    return area\n",
    "\n",
    "length = int(input('enter a no: '))\n",
    "breadth = int(input('enter a no: '))\n",
    "area = area(length,breadth)\n",
    "print('area of rectangle is : ',area)"
   ]
  },
  {
   "cell_type": "markdown",
   "id": "ddb25f68",
   "metadata": {},
   "source": [
    "20] Program to find the sum of the digits of a number\n",
    "--"
   ]
  },
  {
   "cell_type": "code",
   "execution_count": 106,
   "id": "361d4b14",
   "metadata": {},
   "outputs": [
    {
     "name": "stdout",
     "output_type": "stream",
     "text": [
      "enter a no.1234\n",
      "Sum of digits: 10\n"
     ]
    }
   ],
   "source": [
    "# without\n",
    "\n",
    "num = input('enter a no.')\n",
    "sum = 0\n",
    "for i in num:\n",
    "    sum += int(i)\n",
    "print(\"Sum of digits:\", sum)"
   ]
  },
  {
   "cell_type": "code",
   "execution_count": 107,
   "id": "63fe33f1",
   "metadata": {},
   "outputs": [
    {
     "name": "stdout",
     "output_type": "stream",
     "text": [
      "enter a no.1234\n",
      "Sum of digits: 10\n"
     ]
    }
   ],
   "source": [
    "# with\n",
    "\n",
    "def sum(num):\n",
    "    sum = 0\n",
    "    for i in num:\n",
    "        sum += int(i)\n",
    "    return sum\n",
    "\n",
    "num = input('enter a no.')\n",
    "sum = sum(num)\n",
    "print(\"Sum of digits:\", sum)"
   ]
  },
  {
   "cell_type": "raw",
   "id": "4107fb70",
   "metadata": {},
   "source": [
    "Program to find the GCD of two numbers\n",
    "\n",
    "Program to check if a string contains a substring\n",
    "\n",
    "Program to generate a list of prime numbers\n",
    "\n",
    "Program to calculate the perimeter of a rectangle\n",
    "\n",
    "Program to calculate the volume of a sphere\n",
    "\n",
    "Program to find the length of a string\n",
    "\n",
    "Program to remove duplicates from a list\n",
    "\n",
    "Program to check if a number is a perfect square\n",
    "\n",
    "Program to check if a year is a leap year\n",
    "\n",
    "Program to convert a binary number to decimal\n",
    "\n",
    "Program to find the difference between two dates\n",
    "\n",
    "Program to find the largest palindrome in a string\n",
    "\n",
    "Program to find the product of two numbers\n",
    "\n",
    "Program to find the length of a list\n",
    "\n",
    "Program to reverse a list\n",
    "\n",
    "Program to find the sum of the squares of a list of numbers\n",
    "\n",
    "Program to calculate the area of a triangle\n",
    "\n",
    "Program to find the median of a list of numbers\n",
    "\n",
    "Program to calculate the HCF of a list of numbers\n",
    "\n",
    "Program to generate a list of odd numbers\n",
    "\n",
    "Program to check if a number is a power of two\n",
    "\n",
    "Program to calculate the circumference of a circle\n",
    "\n",
    "Program to find the ASCII value of a character\n",
    "\n",
    "Program to check if a number is a Armstrong number\n",
    "\n",
    "Program to find the sum of the digits of a string\n",
    "\n",
    "Program to calculate the area of a square\n",
    "\n",
    "Program to find the difference between two sets\n",
    "\n",
    "Program to find the roots of a quadratic equation\n",
    "\n",
    "Program to calculate the LCM of two numbers\n",
    "\n",
    "Program to find the first non-repeating character in a string\n",
    "\n",
    "Program to generate a list of even numbers\n",
    "\n",
    "Program to find the sum of the natural numbers up to n\n",
    "\n",
    "Program to find the number of occurrences of a character in a string"
   ]
  },
  {
   "cell_type": "markdown",
   "id": "9658eaf9",
   "metadata": {},
   "source": [
    "21 Program to find the GCD(Greatest common Divisor) or HCF of two numbers\n",
    "--"
   ]
  },
  {
   "cell_type": "code",
   "execution_count": 117,
   "id": "5041a52c",
   "metadata": {},
   "outputs": [
    {
     "name": "stdout",
     "output_type": "stream",
     "text": [
      "enter a no. : 10\n",
      "enter a no. : 20\n",
      "GCD of num1 & num2 is :  10\n"
     ]
    }
   ],
   "source": [
    "#without\n",
    "\n",
    "num1 = int(input('enter a no. : '))\n",
    "num2 = int(input('enter a no. : '))\n",
    "a = []\n",
    "\n",
    "for i in range(1,min(num1,num2)+1):\n",
    "    if num1%i==0 and num2%i==0:\n",
    "        a.append(i)\n",
    "print('GCD of num1 & num2 is : ',max(a))"
   ]
  },
  {
   "cell_type": "code",
   "execution_count": 120,
   "id": "f5cccc44",
   "metadata": {},
   "outputs": [
    {
     "name": "stdout",
     "output_type": "stream",
     "text": [
      "enter a no. : 10\n",
      "enter a no. : 20\n",
      "GCD of num1 & num2 is :  10\n"
     ]
    }
   ],
   "source": [
    "# with function\n",
    "\n",
    "def gcd(num1,num2):\n",
    "    a = []\n",
    "    for i in range(1,min(num1,num2)+1):\n",
    "        if num1%i==0 and num2%i==0:\n",
    "            a.append(i)\n",
    "    return max(a)\n",
    "\n",
    "num1 = int(input('enter a no. : '))\n",
    "num2 = int(input('enter a no. : '))\n",
    "gcd = gcd(num1,num2)\n",
    "print('GCD of num1 & num2 is : ',gcd)"
   ]
  },
  {
   "cell_type": "markdown",
   "id": "d0a9ca62",
   "metadata": {},
   "source": [
    "22] Program to check if a string contains a substring\n",
    "--"
   ]
  },
  {
   "cell_type": "code",
   "execution_count": 123,
   "id": "af58f68b",
   "metadata": {},
   "outputs": [
    {
     "name": "stdout",
     "output_type": "stream",
     "text": [
      "enter a str : vinod kumar\n",
      "enter a str : uma\n",
      "Substring found in the string\n"
     ]
    }
   ],
   "source": [
    "# without\n",
    "\n",
    "string = input('enter a str : ')\n",
    "substr = input('enter a str : ')\n",
    "\n",
    "if substr in string:\n",
    "    print('Substring found in the string')\n",
    "else:\n",
    "    print(\"Substring not found in the string\")"
   ]
  },
  {
   "cell_type": "code",
   "execution_count": 124,
   "id": "db464414",
   "metadata": {},
   "outputs": [
    {
     "name": "stdout",
     "output_type": "stream",
     "text": [
      "enter a str : vinod kumar\n",
      "enter a str : uma\n",
      "Substring found in the string\n"
     ]
    }
   ],
   "source": [
    "# with\n",
    "\n",
    "def str1(string,substr):\n",
    "    if substr in string:\n",
    "        return 'Substring found in the string'\n",
    "    else:\n",
    "        return \"Substring not found in the string\"\n",
    "    \n",
    "string = input('enter a str : ')\n",
    "substr = input('enter a str : ')\n",
    "print(str1(string,substr))"
   ]
  },
  {
   "cell_type": "code",
   "execution_count": 130,
   "id": "c98ebc70",
   "metadata": {},
   "outputs": [
    {
     "name": "stdout",
     "output_type": "stream",
     "text": [
      "enter a str: vinod kumar\n",
      "enter a str: uma\n",
      "Substring found in the string\n"
     ]
    }
   ],
   "source": [
    "# using recursion\n",
    "\n",
    "def str1(string,substr):\n",
    "    if substr in string:\n",
    "        return True\n",
    "    else:\n",
    "        return False\n",
    "    \n",
    "string = input('enter a str: ')\n",
    "substr = input('enter a str: ')\n",
    "\n",
    "if str1(string,substr):\n",
    "    print('Substring found in the string')\n",
    "else:\n",
    "    print(\"Substring not found in the string\")  "
   ]
  },
  {
   "cell_type": "code",
   "execution_count": 127,
   "id": "bc55e7ed",
   "metadata": {},
   "outputs": [
    {
     "name": "stdout",
     "output_type": "stream",
     "text": [
      "T\n"
     ]
    }
   ],
   "source": [
    "# in if condn we have True so it executed the if block\n",
    "if True:\n",
    "    print('T')\n",
    "else:\n",
    "    print(\"F\")\n"
   ]
  },
  {
   "cell_type": "code",
   "execution_count": 128,
   "id": "373d3562",
   "metadata": {},
   "outputs": [
    {
     "name": "stdout",
     "output_type": "stream",
     "text": [
      "F\n"
     ]
    }
   ],
   "source": [
    "# in if condn we have False so it executed the else block\n",
    "if False:\n",
    "    print('T')\n",
    "else:\n",
    "    print(\"F\")"
   ]
  },
  {
   "cell_type": "markdown",
   "id": "b13a8b9f",
   "metadata": {},
   "source": [
    "23] Program to generate a list of prime numbers python with and without functions and using recursion\n",
    "--"
   ]
  },
  {
   "cell_type": "code",
   "execution_count": 134,
   "id": "5434d32e",
   "metadata": {},
   "outputs": [
    {
     "name": "stdout",
     "output_type": "stream",
     "text": [
      "Enter the number till which you want to generate prime numbers: 6\n",
      "not\n"
     ]
    }
   ],
   "source": [
    "#prime or not\n",
    "\n",
    "num = int(input(\"Enter the number till which you want to generate prime numbers: \"))\n",
    "\n",
    "prime_numbers = []\n",
    "count = 0\n",
    "\n",
    "for i in range(1,num+1):\n",
    "    if num%i==0:\n",
    "        count += 1\n",
    "    else:\n",
    "        pass\n",
    "if count ==2 :\n",
    "    print('prime')\n",
    "else:\n",
    "    print('not')"
   ]
  },
  {
   "cell_type": "code",
   "execution_count": 137,
   "id": "a47a9c16",
   "metadata": {},
   "outputs": [
    {
     "name": "stdout",
     "output_type": "stream",
     "text": [
      "Enter the number till which you want to generate prime numbers: 10\n",
      "[2, 3, 5, 7]\n"
     ]
    }
   ],
   "source": [
    "#without\n",
    "\n",
    "num = int(input(\"Enter the number till which you want to generate prime numbers: \"))\n",
    "\n",
    "prime_numbers = []\n",
    "\n",
    "for i in range(2,num+1):\n",
    "    count = 0\n",
    "    for j in range(1,i+1):\n",
    "        if i%j==0:\n",
    "            count += 1\n",
    "    if count == 2:\n",
    "        prime_numbers.append(i)\n",
    "print(prime_numbers)"
   ]
  },
  {
   "cell_type": "code",
   "execution_count": null,
   "id": "4b0d324d",
   "metadata": {},
   "outputs": [],
   "source": []
  }
 ],
 "metadata": {
  "kernelspec": {
   "display_name": "Python 3 (ipykernel)",
   "language": "python",
   "name": "python3"
  },
  "language_info": {
   "codemirror_mode": {
    "name": "ipython",
    "version": 3
   },
   "file_extension": ".py",
   "mimetype": "text/x-python",
   "name": "python",
   "nbconvert_exporter": "python",
   "pygments_lexer": "ipython3",
   "version": "3.9.12"
  }
 },
 "nbformat": 4,
 "nbformat_minor": 5
}
