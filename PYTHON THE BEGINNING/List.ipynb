{
 "cells": [
  {
   "cell_type": "markdown",
   "id": "6bff3a89",
   "metadata": {},
   "source": [
    "Python Collections (Arrays)\n",
    "--\n",
    "  There are four collection data types in the Python programming language:\n",
    "\n",
    "- List -- is a collection which is ordered and changeable. Allows duplicate       members.\n",
    "\n",
    "- Tuple -- is a collection which is ordered and unchangeable. Allows duplicate     members.\n",
    "\n",
    "- Set -- is a collection which is unordered, unchangeable*, and unindexed. No     duplicate members.\n",
    "- Dictionary -- is a collection which is ordered** and changeable. No duplicate   members."
   ]
  },
  {
   "cell_type": "markdown",
   "id": "f8b81f9d",
   "metadata": {},
   "source": [
    "List\n",
    "--\n",
    "Lists are used to store multiple items in a single variable.\n",
    "\n",
    "Lists are one of 4 built-in data types in Python used to store collections of data, the other 3 are Tuple, Set, and Dictionary, all with different qualities and usage.\n",
    "\n",
    "Lists are created using square brackets:\n",
    "--"
   ]
  },
  {
   "cell_type": "code",
   "execution_count": 2,
   "id": "da1f9a6a",
   "metadata": {
    "scrolled": true
   },
   "outputs": [
    {
     "name": "stdout",
     "output_type": "stream",
     "text": [
      "['apple', 23, 246.76, 3j, 23, 23]\n"
     ]
    }
   ],
   "source": [
    "list = ['apple',23,246.76,3j,23,23]\n",
    "print(list)"
   ]
  },
  {
   "cell_type": "markdown",
   "id": "90270709",
   "metadata": {},
   "source": [
    "List Items\n",
    "--\n",
    "List items are ordered, changeable, and allow duplicate values.\n",
    "\n",
    "List items are indexed, the first item has index [0], the second item has index [1] etc."
   ]
  },
  {
   "cell_type": "markdown",
   "id": "480cdf7a",
   "metadata": {},
   "source": [
    "List Items - Data Types\n",
    "--\n",
    "List items can be of any data type:"
   ]
  },
  {
   "cell_type": "markdown",
   "id": "e9d8fa58",
   "metadata": {},
   "source": [
    "Ordered\n",
    "--\n",
    "When we say that lists are ordered, it means that the items have a defined order, and that order will not change.\n",
    "\n",
    "If you add new items to a list, the new items will be placed at the end of the list."
   ]
  },
  {
   "cell_type": "markdown",
   "id": "51c426b2",
   "metadata": {},
   "source": [
    "Changeable\n",
    "--\n",
    "\n",
    "The list is changeable, meaning that we can change, add, and remove items in a list after it has been created."
   ]
  },
  {
   "cell_type": "code",
   "execution_count": 10,
   "id": "c67623ca",
   "metadata": {},
   "outputs": [
    {
     "name": "stdout",
     "output_type": "stream",
     "text": [
      "['apple', 'vinod', 35.67, 'banana']\n"
     ]
    }
   ],
   "source": [
    "list2 = ['apple',23,35.67,'banana']\n",
    "list2[1]='vinod'\n",
    "print(list2)"
   ]
  },
  {
   "cell_type": "markdown",
   "id": "9cc9803b",
   "metadata": {},
   "source": [
    "Allow Duplicates\n",
    "--\n",
    "Since lists are indexed, lists can have items with the same value:"
   ]
  },
  {
   "cell_type": "markdown",
   "id": "8874e52f",
   "metadata": {},
   "source": [
    "List Length\n",
    "--\n",
    "To determine how many items a list has, use the len() function:"
   ]
  },
  {
   "cell_type": "code",
   "execution_count": 3,
   "id": "53fbed7d",
   "metadata": {},
   "outputs": [
    {
     "name": "stdout",
     "output_type": "stream",
     "text": [
      "3\n"
     ]
    }
   ],
   "source": [
    "thislist = [\"apple\", \"banana\", \"cherry\"]\n",
    "print(len(thislist))"
   ]
  },
  {
   "cell_type": "markdown",
   "id": "5cf6eb39",
   "metadata": {},
   "source": [
    "The list() Constructor\n",
    "--\n",
    "It is also possible to use the list() constructor when creating a new list."
   ]
  },
  {
   "cell_type": "code",
   "execution_count": 5,
   "id": "afdf35c1",
   "metadata": {},
   "outputs": [
    {
     "name": "stdout",
     "output_type": "stream",
     "text": [
      "['apple', 23, 246.76, 3j, 23, 23]\n"
     ]
    }
   ],
   "source": [
    "thislist = list\n",
    "(\"apple\", \"banana\", \"cherry\")\n",
    "print(thislist)"
   ]
  },
  {
   "cell_type": "markdown",
   "id": "b4833280",
   "metadata": {},
   "source": [
    "Access Items\n",
    "--\n",
    "List items are indexed and you can access them by referring to the index number:"
   ]
  },
  {
   "cell_type": "code",
   "execution_count": 8,
   "id": "3198554a",
   "metadata": {},
   "outputs": [
    {
     "name": "stdout",
     "output_type": "stream",
     "text": [
      "23\n"
     ]
    }
   ],
   "source": [
    "list2 = ['apple',23,35.67,'banana']\n",
    "print(list2[1])"
   ]
  },
  {
   "cell_type": "markdown",
   "id": "b0bab845",
   "metadata": {},
   "source": [
    "Negative Indexing\n",
    "--\n",
    "Negative indexing means start from the end\n",
    "\n",
    "-1 refers to the last item, -2 refers to the second last item etc.\n",
    "\n"
   ]
  },
  {
   "cell_type": "code",
   "execution_count": 11,
   "id": "29f28903",
   "metadata": {},
   "outputs": [
    {
     "name": "stdout",
     "output_type": "stream",
     "text": [
      "cherry\n"
     ]
    }
   ],
   "source": [
    "thislist = [\"apple\", \"banana\", \"cherry\"]\n",
    "print(thislist[-1])"
   ]
  },
  {
   "cell_type": "markdown",
   "id": "57801de5",
   "metadata": {},
   "source": [
    "Range of Indexes\n",
    "--\n",
    "You can specify a range of indexes by specifying where to start and where to end the range.\n",
    "\n",
    "When specifying a range, the return value will be a new list with the specified items."
   ]
  },
  {
   "cell_type": "code",
   "execution_count": 12,
   "id": "aabd7336",
   "metadata": {},
   "outputs": [
    {
     "name": "stdout",
     "output_type": "stream",
     "text": [
      "['cherry', 'orange', 'kiwi']\n"
     ]
    }
   ],
   "source": [
    "thislist = [\"apple\", \"banana\", \"cherry\", \"orange\", \"kiwi\", \"melon\", \"mango\"]\n",
    "print(thislist[2:5])"
   ]
  },
  {
   "cell_type": "code",
   "execution_count": 13,
   "id": "3103b74b",
   "metadata": {},
   "outputs": [
    {
     "name": "stdout",
     "output_type": "stream",
     "text": [
      "['apple', 'banana', 'cherry', 'orange']\n"
     ]
    }
   ],
   "source": [
    "thislist = [\"apple\", \"banana\", \"cherry\", \"orange\", \"kiwi\", \"melon\", \"mango\"]\n",
    "print(thislist[:4])"
   ]
  },
  {
   "cell_type": "code",
   "execution_count": 22,
   "id": "8e6c6b81",
   "metadata": {},
   "outputs": [
    {
     "name": "stdout",
     "output_type": "stream",
     "text": [
      "['cherry', 'orange', 'kiwi', 'melon', 'mango']\n"
     ]
    }
   ],
   "source": [
    "thislist = [\"apple\", \"banana\", \"cherry\", \"orange\", \"kiwi\", \"melon\", \"mango\"]\n",
    "print(thislist[2:20])"
   ]
  },
  {
   "cell_type": "code",
   "execution_count": 15,
   "id": "b3437711",
   "metadata": {},
   "outputs": [
    {
     "name": "stdout",
     "output_type": "stream",
     "text": [
      "['orange', 'kiwi', 'melon']\n"
     ]
    }
   ],
   "source": [
    "thislist = [\"apple\", \"banana\", \"cherry\", \"orange\", \"kiwi\", \"melon\", \"mango\"]\n",
    "print(thislist[-4:-1])"
   ]
  },
  {
   "cell_type": "markdown",
   "id": "fdc9afb4",
   "metadata": {},
   "source": [
    "Python - Change List Items\n",
    "----"
   ]
  },
  {
   "cell_type": "markdown",
   "id": "1e262690",
   "metadata": {},
   "source": [
    "Change Item Value\n",
    "--\n",
    "To change the value of a specific item, refer to the index number:"
   ]
  },
  {
   "cell_type": "code",
   "execution_count": 16,
   "id": "b61f02d3",
   "metadata": {},
   "outputs": [
    {
     "name": "stdout",
     "output_type": "stream",
     "text": [
      "['vinod', 111, 'mahi', 'vivek', 23, 46, 769.36, 'ds']\n"
     ]
    }
   ],
   "source": [
    "x = ['vinod','ganesh','mahi','vivek',23,46,769.36,'ds']\n",
    "x[1] = 111\n",
    "print(x)\n"
   ]
  },
  {
   "cell_type": "markdown",
   "id": "33e38071",
   "metadata": {},
   "source": [
    "Change a Range of Item Values\n",
    "--\n",
    "To change the value of items within a specific range, define a list with the new values, and refer to the range of index numbers where you want to insert the new values:"
   ]
  },
  {
   "cell_type": "code",
   "execution_count": 17,
   "id": "43023a08",
   "metadata": {},
   "outputs": [
    {
     "name": "stdout",
     "output_type": "stream",
     "text": [
      "['vinod', 'ganesh', 'i', 'am', 'Eren', 46, 769.36, 'ds']\n"
     ]
    }
   ],
   "source": [
    "x = ['vinod','ganesh','mahi','vivek',23,46,769.36,'ds']\n",
    "x[2:5] = ['i','am','Eren']\n",
    "print(x)"
   ]
  },
  {
   "cell_type": "markdown",
   "id": "952bfdb1",
   "metadata": {},
   "source": [
    "If you insert more items than you replace, the new items will be inserted where you specified, and the remaining items will move accordingly:\n",
    "--"
   ]
  },
  {
   "cell_type": "code",
   "execution_count": 28,
   "id": "9763d485",
   "metadata": {},
   "outputs": [
    {
     "name": "stdout",
     "output_type": "stream",
     "text": [
      "['apple', 'blackcurrant', 'watermelon', 'vinod', 'krishna', 'cherry']\n"
     ]
    }
   ],
   "source": [
    "thislist = [\"apple\", \"banana\", \"cherry\"]\n",
    "thislist[1:2] = [\"blackcurrant\", \"watermelon\",'vinod','krishna']\n",
    "print(thislist)"
   ]
  },
  {
   "cell_type": "markdown",
   "id": "ffdeac8a",
   "metadata": {},
   "source": [
    "If you insert less items than you replace, the new items will be inserted where you specified, and the remaining items will move accordingly:\n",
    "--"
   ]
  },
  {
   "cell_type": "code",
   "execution_count": 21,
   "id": "f7ad5f90",
   "metadata": {},
   "outputs": [
    {
     "name": "stdout",
     "output_type": "stream",
     "text": [
      "['apple', 'watermelon']\n"
     ]
    }
   ],
   "source": [
    "thislist = [\"apple\", \"banana\", \"cherry\"]\n",
    "thislist[1:5] = [\"watermelon\"]\n",
    "print(thislist)"
   ]
  },
  {
   "cell_type": "markdown",
   "id": "5062a809",
   "metadata": {},
   "source": [
    "Insert Items\n",
    "--\n",
    "To insert a new list item, without replacing any of the existing values, we can use the insert() method.\n",
    "\n",
    "The insert() method inserts an item at the specified index:"
   ]
  },
  {
   "cell_type": "code",
   "execution_count": 24,
   "id": "887b6ccb",
   "metadata": {},
   "outputs": [
    {
     "name": "stdout",
     "output_type": "stream",
     "text": [
      "['vinod', 'ganesh', 'hari', 'mahi', 'vivek', 23, 46, 769.36, 'ds']\n"
     ]
    }
   ],
   "source": [
    "x = ['vinod','ganesh','mahi','vivek',23,46,769.36,'ds']\n",
    "x.insert(2,'hari')\n",
    "print(x)"
   ]
  },
  {
   "cell_type": "markdown",
   "id": "5769f481",
   "metadata": {},
   "source": [
    "Python - Add List Items\n",
    "--"
   ]
  },
  {
   "cell_type": "markdown",
   "id": "4a121e86",
   "metadata": {},
   "source": [
    "Append Items\n",
    "--\n",
    "To add an item to the end of the list, use the append() method:"
   ]
  },
  {
   "cell_type": "code",
   "execution_count": 29,
   "id": "6b06f757",
   "metadata": {},
   "outputs": [
    {
     "name": "stdout",
     "output_type": "stream",
     "text": [
      "['vinod', 'ganesh', 'mahi', 'vivek', 23, 46, 769.36, 'ds', 'hello']\n"
     ]
    }
   ],
   "source": [
    "x = ['vinod','ganesh','mahi','vivek',23,46,769.36,'ds']\n",
    "x.append('hello')\n",
    "print(x)"
   ]
  },
  {
   "cell_type": "markdown",
   "id": "6a0f6178",
   "metadata": {},
   "source": [
    "Extend List\n",
    "--\n",
    "To append elements from another list to the current list, use the extend() method."
   ]
  },
  {
   "cell_type": "code",
   "execution_count": 30,
   "id": "6dc14763",
   "metadata": {},
   "outputs": [
    {
     "name": "stdout",
     "output_type": "stream",
     "text": [
      "['apple', 'banana', 'kiwi', 1, 2, 3, 4]\n"
     ]
    }
   ],
   "source": [
    "x = [1,2,3,4]\n",
    "y = ['apple','banana','kiwi']\n",
    "y.extend(x)\n",
    "print(y)"
   ]
  },
  {
   "cell_type": "markdown",
   "id": "b4d25434",
   "metadata": {},
   "source": [
    "Add Any Iterable\n",
    "--\n",
    "The extend() method does not have to append lists, you can add any iterable object (tuples, sets, dictionaries etc.)."
   ]
  },
  {
   "cell_type": "code",
   "execution_count": 31,
   "id": "74f10024",
   "metadata": {},
   "outputs": [
    {
     "name": "stdout",
     "output_type": "stream",
     "text": [
      "[23, 'apple', 'vinod', 234.57, 'kevin', 'apple', 334, 58]\n"
     ]
    }
   ],
   "source": [
    "a = [23,'apple','vinod',234.57,'kevin']\n",
    "b = ('apple',334,58)\n",
    "a.extend(b)\n",
    "print(a)"
   ]
  },
  {
   "cell_type": "code",
   "execution_count": 32,
   "id": "fa81812a",
   "metadata": {},
   "outputs": [
    {
     "name": "stdout",
     "output_type": "stream",
     "text": [
      "[23, 'apple', 'vinod', 234.57, 'kevin', 'chennai', 'apple', 58, 334]\n"
     ]
    }
   ],
   "source": [
    "a = [23,'apple','vinod',234.57,'kevin']\n",
    "b = {'chennai','apple',334,58}\n",
    "a.extend(b)\n",
    "print(a)"
   ]
  },
  {
   "cell_type": "code",
   "execution_count": 33,
   "id": "5fdbcfd6",
   "metadata": {},
   "outputs": [
    {
     "name": "stdout",
     "output_type": "stream",
     "text": [
      "[23, 'apple', 'vinod', 234.57, 'kevin', 'chennai', 'apple', 334, 58]\n"
     ]
    }
   ],
   "source": [
    "a = [23,'apple','vinod',234.57,'kevin']\n",
    "b = {'chennai':1,'apple':2,334:3,58:4}\n",
    "a.extend(b)\n",
    "print(a)"
   ]
  },
  {
   "cell_type": "markdown",
   "id": "27f542dd",
   "metadata": {},
   "source": [
    "Python - Remove List Items\n",
    "--\n",
    "\n",
    "Remove Specified Item\n",
    "--\n",
    "The remove() method removes the specified item."
   ]
  },
  {
   "cell_type": "code",
   "execution_count": 34,
   "id": "d6ecb9c1",
   "metadata": {},
   "outputs": [
    {
     "name": "stdout",
     "output_type": "stream",
     "text": [
      "['apple', 'kiwi']\n"
     ]
    }
   ],
   "source": [
    "y = ['apple','banana','kiwi']\n",
    "y.remove('banana')\n",
    "print(y)"
   ]
  },
  {
   "cell_type": "markdown",
   "id": "f6307b0c",
   "metadata": {},
   "source": [
    "Remove Specified Index\n",
    "--\n",
    "The pop() method removes the specified index."
   ]
  },
  {
   "cell_type": "code",
   "execution_count": 35,
   "id": "5a864b87",
   "metadata": {},
   "outputs": [
    {
     "name": "stdout",
     "output_type": "stream",
     "text": [
      "['apple', 'cherry']\n"
     ]
    }
   ],
   "source": [
    "thislist = [\"apple\", \"banana\", \"cherry\"]\n",
    "thislist.pop(1)\n",
    "print(thislist)"
   ]
  },
  {
   "cell_type": "markdown",
   "id": "40630a47",
   "metadata": {},
   "source": [
    "If you do not specify the index, the pop() method removes the last item.\n",
    "--"
   ]
  },
  {
   "cell_type": "code",
   "execution_count": 36,
   "id": "328ee2c3",
   "metadata": {},
   "outputs": [
    {
     "name": "stdout",
     "output_type": "stream",
     "text": [
      "['apple', 'banana']\n"
     ]
    }
   ],
   "source": [
    "thislist = [\"apple\", \"banana\", \"cherry\"]\n",
    "thislist.pop()\n",
    "print(thislist)"
   ]
  },
  {
   "cell_type": "markdown",
   "id": "838eeb49",
   "metadata": {},
   "source": [
    "The del keyword also removes the specified index:\n",
    "--"
   ]
  },
  {
   "cell_type": "code",
   "execution_count": 37,
   "id": "37c18849",
   "metadata": {},
   "outputs": [
    {
     "name": "stdout",
     "output_type": "stream",
     "text": [
      "['apple', 13, 36, 'money']\n"
     ]
    }
   ],
   "source": [
    "x = ['apple','cash',13,36,'money']\n",
    "del x[1]\n",
    "print(x)"
   ]
  },
  {
   "cell_type": "markdown",
   "id": "c419f50f",
   "metadata": {},
   "source": [
    "The del keyword can also delete the list completely.\n",
    "--"
   ]
  },
  {
   "cell_type": "code",
   "execution_count": 39,
   "id": "19e597fb",
   "metadata": {},
   "outputs": [],
   "source": [
    "a = [1,2,3,35,87,98]\n",
    "del a"
   ]
  },
  {
   "cell_type": "markdown",
   "id": "109789dc",
   "metadata": {},
   "source": [
    "Clear the List\n",
    "--\n",
    "The clear() method empties the list.\n",
    "\n",
    "The list still remains, but it has no content."
   ]
  },
  {
   "cell_type": "code",
   "execution_count": 40,
   "id": "4b7f3a25",
   "metadata": {},
   "outputs": [
    {
     "name": "stdout",
     "output_type": "stream",
     "text": [
      "[]\n"
     ]
    }
   ],
   "source": [
    "thislist = [\"apple\", \"banana\", \"cherry\"]\n",
    "thislist.clear()\n",
    "print(thislist)"
   ]
  },
  {
   "cell_type": "markdown",
   "id": "81528ceb",
   "metadata": {},
   "source": [
    "Python - Loop Lists\n",
    "--\n",
    "\n",
    "Loop Through a List\n",
    "--\n",
    "You can loop through the list items by using a for loop:"
   ]
  },
  {
   "cell_type": "code",
   "execution_count": 42,
   "id": "024a1193",
   "metadata": {},
   "outputs": [
    {
     "name": "stdout",
     "output_type": "stream",
     "text": [
      "apple\n",
      "banana\n",
      "orange\n",
      "kiwi\n"
     ]
    }
   ],
   "source": [
    "list1 = ['apple','banana','orange','kiwi']\n",
    "for x in list1:\n",
    "    print(x)"
   ]
  },
  {
   "cell_type": "markdown",
   "id": "e430e426",
   "metadata": {},
   "source": [
    "Loop Through the Index Numbers\n",
    "--\n",
    "You can also loop through the list items by referring to their index number.\n",
    "\n",
    "Use the range() and len() functions to create a suitable iterable."
   ]
  },
  {
   "cell_type": "code",
   "execution_count": 48,
   "id": "fad8cfb3",
   "metadata": {},
   "outputs": [
    {
     "name": "stdout",
     "output_type": "stream",
     "text": [
      "apple\n",
      "banana\n",
      "orange\n",
      "kiwi\n"
     ]
    }
   ],
   "source": [
    "x = ['apple','banana','orange','kiwi']\n",
    "for i in range(len(x)):\n",
    "    print(x[i])"
   ]
  },
  {
   "cell_type": "markdown",
   "id": "4b557984",
   "metadata": {},
   "source": [
    "Using a While Loop\n",
    "--\n",
    "You can loop through the list items by using a while loop.\n",
    "\n",
    "Use the len() function to determine the length of the list, then start at 0 and loop your way through the list items by referring to their indexes.\n",
    "\n",
    "Remember to increase the index by 1 after each iteration."
   ]
  },
  {
   "cell_type": "code",
   "execution_count": 50,
   "id": "7c276ace",
   "metadata": {},
   "outputs": [
    {
     "name": "stdout",
     "output_type": "stream",
     "text": [
      "apple\n",
      "banana\n",
      "orange\n",
      "kiwi\n"
     ]
    }
   ],
   "source": [
    "list1 = ['apple','banana','orange','kiwi']\n",
    "i = 0\n",
    "while (i < len(list1)):\n",
    "    print(list1[i])\n",
    "    i+=1"
   ]
  },
  {
   "cell_type": "markdown",
   "id": "e332ca32",
   "metadata": {},
   "source": [
    "Looping Using List Comprehension\n",
    "--\n",
    "List Comprehension offers the shortest syntax for looping through lists:"
   ]
  },
  {
   "cell_type": "code",
   "execution_count": 51,
   "id": "520bb97b",
   "metadata": {},
   "outputs": [
    {
     "name": "stdout",
     "output_type": "stream",
     "text": [
      "1\n",
      "2\n",
      "3\n",
      "4\n",
      "5\n",
      "6\n",
      "7\n",
      "8\n",
      "9\n"
     ]
    },
    {
     "data": {
      "text/plain": [
       "[None, None, None, None, None, None, None, None, None]"
      ]
     },
     "execution_count": 51,
     "metadata": {},
     "output_type": "execute_result"
    }
   ],
   "source": [
    "list = [1,2,3,4,5,6,7,8,9]\n",
    "[print(x) for x in list]"
   ]
  },
  {
   "cell_type": "code",
   "execution_count": 52,
   "id": "f679fecd",
   "metadata": {},
   "outputs": [
    {
     "name": "stdout",
     "output_type": "stream",
     "text": [
      "apple\n",
      "banana\n",
      "cherry\n"
     ]
    },
    {
     "data": {
      "text/plain": [
       "[None, None, None]"
      ]
     },
     "execution_count": 52,
     "metadata": {},
     "output_type": "execute_result"
    }
   ],
   "source": [
    "thislist = [\"apple\", \"banana\", \"cherry\"]\n",
    "[print(x) for x in thislist]"
   ]
  },
  {
   "cell_type": "markdown",
   "id": "7fd8d3b2",
   "metadata": {},
   "source": [
    "List Comprehension\n",
    "--\n",
    "List comprehension offers a shorter syntax when you want to create a new list based on the values of an existing list.\n",
    "\n",
    "Example:\n",
    "\n",
    "Based on a list of fruits, you want a new list, containing only the fruits with the letter \"a\" in the name.\n",
    "\n",
    "Without list comprehension you will have to write a for statement with a conditional test inside:"
   ]
  },
  {
   "cell_type": "code",
   "execution_count": 56,
   "id": "622bc7a4",
   "metadata": {},
   "outputs": [
    {
     "name": "stdout",
     "output_type": "stream",
     "text": [
      "['apple', 'banana', 'orange']\n"
     ]
    }
   ],
   "source": [
    "fruits = ['apple','banana','kiwi','orange','cherry']\n",
    "newlist = []\n",
    "\n",
    "for x in fruits:\n",
    "    if 'a' in x:\n",
    "        newlist.append(x)\n",
    "print(newlist)"
   ]
  },
  {
   "cell_type": "markdown",
   "id": "63132dd8",
   "metadata": {},
   "source": [
    "With list comprehension you can do all that with only one line of code:\n",
    "--"
   ]
  },
  {
   "cell_type": "code",
   "execution_count": 57,
   "id": "d79c3958",
   "metadata": {},
   "outputs": [
    {
     "name": "stdout",
     "output_type": "stream",
     "text": [
      "['apple', 'banana', 'orange']\n"
     ]
    }
   ],
   "source": [
    "fruits = ['apple','banana','kiwi','orange','cherry']\n",
    "newlist = [x for x in fruits if 'a' in x]\n",
    "print(newlist)"
   ]
  },
  {
   "cell_type": "markdown",
   "id": "a7ff39cb",
   "metadata": {},
   "source": [
    "The Syntax\n",
    "--\n",
    "newlist = [expression for item in iterable if condition == True]"
   ]
  },
  {
   "cell_type": "code",
   "execution_count": 62,
   "id": "cec0d540",
   "metadata": {},
   "outputs": [
    {
     "name": "stdout",
     "output_type": "stream",
     "text": [
      "['STRAWBERRY', 'MANGO', 'PAPAYA', 'PINE APPLE']\n"
     ]
    }
   ],
   "source": [
    "fruits = ['cherry','strawberry','mango','papaya','pine apple']\n",
    "newlist = [x.upper() for x in fruits if 'a' in x]\n",
    "print(newlist)"
   ]
  },
  {
   "cell_type": "code",
   "execution_count": 64,
   "id": "000e27f0",
   "metadata": {},
   "outputs": [
    {
     "name": "stdout",
     "output_type": "stream",
     "text": [
      "['cherry', 'strawberry', 'orange', 'papaya', 'pine apple']\n"
     ]
    }
   ],
   "source": [
    "fruits = ['cherry','strawberry','mango','papaya','pine apple']\n",
    "newlist = [x if x!='mango' else 'orange' for x in fruits]\n",
    "print(newlist)"
   ]
  },
  {
   "cell_type": "markdown",
   "id": "fc5a85a4",
   "metadata": {},
   "source": [
    "Python - Sort Lists\n",
    "--\n",
    "\n",
    "Sort List Alphanumerically\n",
    "--\n",
    "List objects have a sort() method that will sort the list alphanumerically, ascending, by default:"
   ]
  },
  {
   "cell_type": "code",
   "execution_count": 67,
   "id": "1568e7f2",
   "metadata": {},
   "outputs": [
    {
     "name": "stdout",
     "output_type": "stream",
     "text": [
      "['cherry', 'mango', 'papaya', 'pine apple', 'strawberry']\n"
     ]
    }
   ],
   "source": [
    "fruits = ['cherry','strawberry','mango','papaya','pine apple']\n",
    "fruits.sort()\n",
    "print(fruits)"
   ]
  },
  {
   "cell_type": "code",
   "execution_count": 68,
   "id": "90f83bf1",
   "metadata": {},
   "outputs": [
    {
     "name": "stdout",
     "output_type": "stream",
     "text": [
      "[23, 50, 65, 82, 100]\n"
     ]
    }
   ],
   "source": [
    "thislist = [100, 50, 65, 82, 23]\n",
    "thislist.sort()\n",
    "print(thislist)"
   ]
  },
  {
   "cell_type": "markdown",
   "id": "e0fbe54c",
   "metadata": {},
   "source": [
    "Sort Descending\n",
    "--\n",
    "To sort descending, use the keyword argument reverse = True:"
   ]
  },
  {
   "cell_type": "code",
   "execution_count": 71,
   "id": "7c715a38",
   "metadata": {},
   "outputs": [
    {
     "name": "stdout",
     "output_type": "stream",
     "text": [
      "[575, 322, 45, 35, 32, 24, 1]\n"
     ]
    }
   ],
   "source": [
    "#Descending order\n",
    "x = [35,1,24,575,32,45,322]\n",
    "x.sort(reverse = True)\n",
    "print(x)"
   ]
  },
  {
   "cell_type": "code",
   "execution_count": 72,
   "id": "a4da7ea6",
   "metadata": {},
   "outputs": [
    {
     "name": "stdout",
     "output_type": "stream",
     "text": [
      "[1, 24, 32, 35, 45, 322, 575]\n"
     ]
    }
   ],
   "source": [
    "#ascending\n",
    "\n",
    "x = [35,1,24,575,32,45,322]\n",
    "x.sort(reverse = False)\n",
    "print(x)"
   ]
  },
  {
   "cell_type": "markdown",
   "id": "6c8290bb",
   "metadata": {},
   "source": [
    "Case Insensitive Sort\n",
    "--\n",
    "By default the sort() method is case sensitive, resulting in all capital letters being sorted before lower case letters:"
   ]
  },
  {
   "cell_type": "code",
   "execution_count": 73,
   "id": "ceb91127",
   "metadata": {},
   "outputs": [
    {
     "name": "stdout",
     "output_type": "stream",
     "text": [
      "['Papaya', 'Strawberry', 'cherry', 'mango', 'pine apple']\n"
     ]
    }
   ],
   "source": [
    "fruits = ['cherry','Strawberry','mango','Papaya','pine apple']\n",
    "fruits.sort()\n",
    "print(fruits)"
   ]
  },
  {
   "cell_type": "markdown",
   "id": "d11a5032",
   "metadata": {},
   "source": [
    "Luckily we can use built-in functions as key functions when sorting a list.\n",
    "--\n",
    "\n",
    "So if you want a case-insensitive sort function, use str.lower as a key function:\n",
    "--\n",
    "\n"
   ]
  },
  {
   "cell_type": "code",
   "execution_count": 74,
   "id": "df27322d",
   "metadata": {},
   "outputs": [
    {
     "name": "stdout",
     "output_type": "stream",
     "text": [
      "['cherry', 'mango', 'Papaya', 'pine apple', 'Strawberry']\n"
     ]
    }
   ],
   "source": [
    "fruits = ['cherry','Strawberry','mango','Papaya','pine apple']\n",
    "fruits.sort(key = str.lower)\n",
    "print(fruits)"
   ]
  },
  {
   "cell_type": "markdown",
   "id": "90a753dc",
   "metadata": {},
   "source": [
    "Reverse Order\n",
    "--\n",
    "What if you want to reverse the order of a list, regardless of the alphabet?\n",
    "\n",
    "The reverse() method reverses the current sorting order of the elements."
   ]
  },
  {
   "cell_type": "code",
   "execution_count": 76,
   "id": "447acefa",
   "metadata": {},
   "outputs": [
    {
     "name": "stdout",
     "output_type": "stream",
     "text": [
      "['pine apple', 'papaya', 'mango', 'strawberry', 'cherry']\n"
     ]
    }
   ],
   "source": [
    "fruits = ['cherry','strawberry','mango','papaya','pine apple']\n",
    "fruits.reverse()\n",
    "print(fruits)"
   ]
  },
  {
   "cell_type": "markdown",
   "id": "a0057162",
   "metadata": {},
   "source": [
    "Copy a List\n",
    "--\n",
    "You cannot copy a list simply by typing list2 = list1, because: list2 will only be a reference to list1, and changes made in list1 will automatically also be made in list2.\n",
    "\n",
    "There are ways to make a copy, one way is to use the built-in List method copy()."
   ]
  },
  {
   "cell_type": "code",
   "execution_count": 78,
   "id": "0eeaa770",
   "metadata": {},
   "outputs": [
    {
     "name": "stdout",
     "output_type": "stream",
     "text": [
      "['cherry', 'strawberry', 'mango', 'papaya', 'pine apple']\n"
     ]
    }
   ],
   "source": [
    "# wrong \n",
    "\n",
    "list1 = ['cherry','strawberry','mango','papaya','pine apple']\n",
    "list2 = list1\n",
    "print(list2)"
   ]
  },
  {
   "cell_type": "code",
   "execution_count": 79,
   "id": "85fb07c0",
   "metadata": {},
   "outputs": [
    {
     "name": "stdout",
     "output_type": "stream",
     "text": [
      "['cherry', 'strawberry', 'mango', 'papaya', 'pine apple']\n"
     ]
    }
   ],
   "source": [
    "# Correct\n",
    "\n",
    "list1 = ['cherry','strawberry','mango','papaya','pine apple']\n",
    "list2 = list1.copy()\n",
    "print(list2)"
   ]
  },
  {
   "cell_type": "markdown",
   "id": "b9ded978",
   "metadata": {},
   "source": [
    "Python - Join Lists\n",
    "--\n",
    "\n",
    "Join Two Lists\n",
    "--\n",
    "There are several ways to join, or concatenate, two or more lists in Python.\n",
    "\n",
    "One of the easiest ways are by using the + operator."
   ]
  },
  {
   "cell_type": "code",
   "execution_count": 81,
   "id": "8f910b14",
   "metadata": {},
   "outputs": [
    {
     "name": "stdout",
     "output_type": "stream",
     "text": [
      "['a', 'b', 'c', 'd', 1, 2, 3, 4, 5, 6, 7]\n"
     ]
    }
   ],
   "source": [
    "list1 = ['a','b','c','d']\n",
    "list2 = [1,2,3,4,5,6,7]\n",
    "list3 = list1 + list2\n",
    "print(list3)"
   ]
  },
  {
   "cell_type": "markdown",
   "id": "3b6a942f",
   "metadata": {},
   "source": [
    "Another way to join two lists is by appending all the items from list2 into list1, one by one:\n",
    "--"
   ]
  },
  {
   "cell_type": "code",
   "execution_count": 82,
   "id": "b361c6f5",
   "metadata": {},
   "outputs": [
    {
     "name": "stdout",
     "output_type": "stream",
     "text": [
      "['a', 'b', 'c', 'd', 1, 2, 3, 4, 5, 6, 7]\n"
     ]
    }
   ],
   "source": [
    "list1 = ['a','b','c','d']\n",
    "list2 = [1,2,3,4,5,6,7]\n",
    "\n",
    "for x in list2:\n",
    "    list1.append(x)\n",
    "print(list1)"
   ]
  },
  {
   "cell_type": "markdown",
   "id": "ae23c153",
   "metadata": {},
   "source": [
    "Or you can use the extend() method, which purpose is to add elements from one list to another list:\n",
    "--"
   ]
  },
  {
   "cell_type": "code",
   "execution_count": 83,
   "id": "8d0ad325",
   "metadata": {},
   "outputs": [
    {
     "name": "stdout",
     "output_type": "stream",
     "text": [
      "['a', 'b', 'c', 1, 2, 3]\n"
     ]
    }
   ],
   "source": [
    "list1 = [\"a\", \"b\" , \"c\"]\n",
    "list2 = [1, 2, 3]\n",
    "\n",
    "list1.extend(list2)\n",
    "print(list1)"
   ]
  },
  {
   "cell_type": "markdown",
   "id": "dbcd4e6f",
   "metadata": {},
   "source": [
    "Python - List Methods\n",
    "--\n",
    "\n"
   ]
  },
  {
   "cell_type": "raw",
   "id": "b477ee55",
   "metadata": {},
   "source": [
    "\n",
    "Method\t         Description\n",
    "------           -----------\n",
    "append()\t     Adds an element at the end of the list\n",
    "\n",
    "clear()        \t Removes all the elements from the list\n",
    "\n",
    "copy()\t         Returns a copy of the list\n",
    "\n",
    "count()\t         Returns the number of elements with the specified value\n",
    "\n",
    "extend()\t     Add the elements of a list (or any iterable), to the end of                  the current list\n",
    "\n",
    "index()\t         Returns the index of the first element with the specified                    value.\n",
    "\n",
    "insert()\t     Adds an element at the specified position\n",
    "\n",
    "pop()\t         Removes the element at the specified position\n",
    "\n",
    "remove()\t     Removes the item with the specified value\n",
    "\n",
    "reverse()\t     Reverses the order of the list\n",
    "\n",
    "sort()\t         Sorts the list"
   ]
  },
  {
   "cell_type": "code",
   "execution_count": 84,
   "id": "937f674b",
   "metadata": {},
   "outputs": [
    {
     "name": "stdout",
     "output_type": "stream",
     "text": [
      "['apple', 'banana', 'cherry', 'orange']\n"
     ]
    }
   ],
   "source": [
    "#append()\n",
    "\n",
    "fruits = ['apple', 'banana', 'cherry']\n",
    "fruits.append(\"orange\")\n",
    "print(fruits)"
   ]
  },
  {
   "cell_type": "code",
   "execution_count": 86,
   "id": "791f6f0f",
   "metadata": {},
   "outputs": [
    {
     "name": "stdout",
     "output_type": "stream",
     "text": [
      "['apple', 'banana', 'cherry', ['Ford', 'BMW', 'Volvo']]\n"
     ]
    }
   ],
   "source": [
    "a = [\"apple\", \"banana\", \"cherry\"]\n",
    "b = [\"Ford\", \"BMW\", \"Volvo\"]\n",
    "a.append(b)\n",
    "print(a)"
   ]
  },
  {
   "cell_type": "code",
   "execution_count": 87,
   "id": "c3ac9203",
   "metadata": {},
   "outputs": [
    {
     "name": "stdout",
     "output_type": "stream",
     "text": [
      "[]\n"
     ]
    }
   ],
   "source": [
    "#clear()\n",
    "\n",
    "fruits = ['apple', 'banana', 'cherry']\n",
    "fruits.clear()\n",
    "print(fruits)"
   ]
  },
  {
   "cell_type": "code",
   "execution_count": 88,
   "id": "ee92b5cd",
   "metadata": {},
   "outputs": [
    {
     "name": "stdout",
     "output_type": "stream",
     "text": [
      "['apple', 'banana', 'cherry']\n"
     ]
    }
   ],
   "source": [
    "#copy()\n",
    "\n",
    "fruits = ['apple', 'banana', 'cherry']\n",
    "x = fruits.copy()\n",
    "print(x)"
   ]
  },
  {
   "cell_type": "code",
   "execution_count": 89,
   "id": "8f01b815",
   "metadata": {},
   "outputs": [
    {
     "name": "stdout",
     "output_type": "stream",
     "text": [
      "3\n"
     ]
    }
   ],
   "source": [
    "#count()\n",
    "\n",
    "fruits = ['apple', 'banana', 'cherry','cherry','cherry']\n",
    "x = fruits.count(\"cherry\")\n",
    "print(x)"
   ]
  },
  {
   "cell_type": "code",
   "execution_count": 90,
   "id": "293ed714",
   "metadata": {},
   "outputs": [
    {
     "name": "stdout",
     "output_type": "stream",
     "text": [
      "['apple', 'banana', 'cherry', 'Ford', 'BMW', 'Volvo']\n"
     ]
    }
   ],
   "source": [
    "#extend()\n",
    "\n",
    "fruits = ['apple', 'banana', 'cherry']\n",
    "\n",
    "cars = ['Ford', 'BMW', 'Volvo']\n",
    "\n",
    "fruits.extend(cars)\n",
    "print(fruits)"
   ]
  },
  {
   "cell_type": "code",
   "execution_count": 91,
   "id": "3f06fdd5",
   "metadata": {},
   "outputs": [
    {
     "name": "stdout",
     "output_type": "stream",
     "text": [
      "2\n"
     ]
    }
   ],
   "source": [
    "#index()\n",
    "\n",
    "fruits = ['apple', 'banana', 'cherry']\n",
    "\n",
    "x = fruits.index(\"cherry\")\n",
    "print(x)"
   ]
  },
  {
   "cell_type": "code",
   "execution_count": 92,
   "id": "c96b8764",
   "metadata": {},
   "outputs": [
    {
     "name": "stdout",
     "output_type": "stream",
     "text": [
      "['apple', 'orange', 'banana', 'cherry']\n"
     ]
    }
   ],
   "source": [
    "#insert()\n",
    "\n",
    "fruits = ['apple', 'banana', 'cherry']\n",
    "\n",
    "fruits.insert(1, \"orange\")\n",
    "print(fruits)"
   ]
  },
  {
   "cell_type": "code",
   "execution_count": 93,
   "id": "5886c656",
   "metadata": {},
   "outputs": [
    {
     "name": "stdout",
     "output_type": "stream",
     "text": [
      "['apple', 'cherry']\n"
     ]
    }
   ],
   "source": [
    "#pop()\n",
    "\n",
    "fruits = ['apple', 'banana', 'cherry']\n",
    "\n",
    "fruits.pop(1)\n",
    "print(fruits)"
   ]
  },
  {
   "cell_type": "code",
   "execution_count": 94,
   "id": "22f7aa05",
   "metadata": {},
   "outputs": [
    {
     "name": "stdout",
     "output_type": "stream",
     "text": [
      "['apple', 'cherry']\n"
     ]
    }
   ],
   "source": [
    "#remove()\n",
    "\n",
    "fruits = ['apple', 'banana', 'cherry']\n",
    "\n",
    "fruits.remove(\"banana\")\n",
    "print(fruits)"
   ]
  },
  {
   "cell_type": "code",
   "execution_count": 97,
   "id": "3560e7d6",
   "metadata": {},
   "outputs": [
    {
     "name": "stdout",
     "output_type": "stream",
     "text": [
      "['BMW', 'Ford', 'Volvo']\n"
     ]
    }
   ],
   "source": [
    "#sort()\n",
    "\n",
    "cars = ['Ford', 'BMW', 'Volvo']\n",
    "\n",
    "cars.sort()\n",
    "print(cars)"
   ]
  },
  {
   "cell_type": "code",
   "execution_count": 101,
   "id": "d9fcdcff",
   "metadata": {},
   "outputs": [
    {
     "name": "stdout",
     "output_type": "stream",
     "text": [
      "['11', '23', 'Ford', 'bMW']\n"
     ]
    }
   ],
   "source": [
    "\n",
    "cars = ['Ford', 'bMW','23','11']\n",
    "\n",
    "cars.sort()\n",
    "print(cars)"
   ]
  },
  {
   "cell_type": "code",
   "execution_count": null,
   "id": "fd2af1fe",
   "metadata": {},
   "outputs": [],
   "source": []
  }
 ],
 "metadata": {
  "kernelspec": {
   "display_name": "Python 3 (ipykernel)",
   "language": "python",
   "name": "python3"
  },
  "language_info": {
   "codemirror_mode": {
    "name": "ipython",
    "version": 3
   },
   "file_extension": ".py",
   "mimetype": "text/x-python",
   "name": "python",
   "nbconvert_exporter": "python",
   "pygments_lexer": "ipython3",
   "version": "3.9.12"
  }
 },
 "nbformat": 4,
 "nbformat_minor": 5
}
